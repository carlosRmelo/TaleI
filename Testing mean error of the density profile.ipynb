{
 "cells": [
  {
   "cell_type": "markdown",
   "id": "e3d5ebc4",
   "metadata": {},
   "source": [
    "The ideia is compute the mean error in the density profile as defined in Li+16, Eq. (20)"
   ]
  },
  {
   "cell_type": "code",
   "execution_count": 3,
   "id": "9093f32c",
   "metadata": {},
   "outputs": [],
   "source": [
    "import os\n",
    "import sys\n",
    "from optparse import OptionParser\n",
    "\n",
    "import numpy as np\n",
    "import matplotlib.pyplot as plt\n",
    "from astropy.io import fits\n",
    "from scipy import interpolate\n",
    "import pickle\n",
    "from scipy.stats.mstats import mquantiles\n",
    "import json\n",
    "\n",
    "from scipy import integrate\n"
   ]
  },
  {
   "cell_type": "code",
   "execution_count": 70,
   "id": "e3c150be",
   "metadata": {},
   "outputs": [],
   "source": [
    "def restrict_density(density, r, r1, r2):\n",
    "    \"\"\"\n",
    "        Return the density and the radius between r1 and r2.\n",
    "        r1 < r2\n",
    "    \"\"\"\n",
    "    assert r1 < r2, \"r2 should be greater than r1.\"\n",
    "    \n",
    "    i = (r1 < r) &  (r < r2)\n",
    "    \n",
    "    return density[i], r[i]\n",
    "\n",
    "\n",
    "def mean_density_error(density_true, density_model, r_true, r_model, r1, r2):\n",
    "    \n",
    "    true_  = interpolate.interp1d(r_true, density_true, kind=\"cubic\")\n",
    "    model_ = interpolate.interp1d(r_model, density_model, kind=\"cubic\")\n",
    "    \n",
    "    r_ = np.linspace(r1, r2, num=100)\n",
    "    \n",
    "    true_interp  = np.asarray(true_(r_))\n",
    "    model_interp = np.asarray(model_(r_))\n",
    "    \n",
    "    print(true_interp)\n",
    "    \n",
    "    integral = np.absolute( model_interp - true_interp ) / true_interp\n",
    "    \n",
    "   \n",
    "    return integrate.trapezoid(y=integral, x=r_) / r2\n",
    "    \n"
   ]
  },
  {
   "cell_type": "code",
   "execution_count": 71,
   "id": "8ec8d17c",
   "metadata": {},
   "outputs": [],
   "source": [
    "data_path = \"/home/carlosmelo/Documents/GitHub/Illustris/my_illustris/TNG50-1-snap84-subhalo9/\"\n",
    "log_img = fits.open(data_path+\"/imgs/log_img.fits\")[1].data\n",
    "distance = log_img[\"distance\"]\n",
    "pc       = distance*np.pi/0.648  # Constant factor to convert arcsec --> pc\n",
    "\n",
    "    # Load DM density profile\n",
    "dm_hdu = fits.open(data_path+\"/dm/density_fit.fits\")\n",
    "rho_dm = dm_hdu[1].data[\"density\"]\n",
    "r_dm   = dm_hdu[1].data[\"radius\"]\n",
    "\n",
    "    # Load star density profile\n",
    "star_hdu = fits.open(data_path+\"/imgs/stellar_density.fits\")\n",
    "rho_star = star_hdu[1].data[\"density\"]\n",
    "r_star   = star_hdu[1].data[\"radius\"]\n",
    "\n",
    "\n",
    "true_total = rho_dm + rho_star\n",
    "r_true = r_dm*1e3"
   ]
  },
  {
   "cell_type": "code",
   "execution_count": 72,
   "id": "27f4747a",
   "metadata": {},
   "outputs": [
    {
     "data": {
      "text/plain": [
       "'rho_dm = mquantiles(dm_density_dist[\"distribution\"], 0.5, axis=0)[0]\\nr_dm   = dm_density_dist[\"radii\"]\\n\\n# Load star density profile\\nrho_star = mquantiles(stellar_density_dist[\"distribution\"], 0.5, axis=0)[0]\\nr_star   = stellar_density_dist[\"radii\"]\\n\\n# Total mass density profile\\nrho_total = rho_dm + rho_star\\nr_total   = r_dm'"
      ]
     },
     "execution_count": 72,
     "metadata": {},
     "output_type": "execute_result"
    }
   ],
   "source": [
    "result_path = \"./9/model1/normal/JAM/Fiducial/Analysis_2.5Reff/\"\n",
    "\n",
    "with open(result_path+f'/densities/Fiducial_stellar_density3D.pickle','rb') as f:\n",
    "    stellar_density = pickle.load(f)\n",
    "    f.close()\n",
    "            \n",
    "with open(result_path+f'/densities/Fiducial_DM_density3D.pickle','rb') as f:\n",
    "    dm_density = pickle.load(f)\n",
    "    f.close()\n",
    "\n",
    "with open(result_path+\"/quantities.json\") as f:\n",
    "        quantities = json.load(f)\n",
    "        f.close()\n",
    "        \n",
    "with open(result_path+\"/description.json\") as f:\n",
    "        description = json.load(f)\n",
    "        f.close()\n",
    "\n",
    "reff = quantities[\"Reff\"]\n",
    "# Load DM density profile\n",
    "model_dm = dm_density[\"distribution\"]\n",
    "\n",
    "# Load star density profile\n",
    "model_star =stellar_density[\"distribution\"]\n",
    "r   = stellar_density[\"radii\"]\n",
    "\n",
    "# Total mass density profile\n",
    "model_total = model_dm + model_star\n",
    "r_model   = r * pc\n",
    "\n",
    "\n",
    "\"\"\"rho_dm = mquantiles(dm_density_dist[\"distribution\"], 0.5, axis=0)[0]\n",
    "r_dm   = dm_density_dist[\"radii\"]\n",
    "\n",
    "# Load star density profile\n",
    "rho_star = mquantiles(stellar_density_dist[\"distribution\"], 0.5, axis=0)[0]\n",
    "r_star   = stellar_density_dist[\"radii\"]\n",
    "\n",
    "# Total mass density profile\n",
    "rho_total = rho_dm + rho_star\n",
    "r_total   = r_dm\"\"\""
   ]
  },
  {
   "cell_type": "code",
   "execution_count": 73,
   "id": "256679a1",
   "metadata": {},
   "outputs": [],
   "source": [
    "description[\"Ddensity\"] = \"Mean error of the density profile\"\n",
    "out_descripition = open(\"{}/description.json\".format(result_path), \"w\")\n",
    "json.dump(description, out_descripition, indent = 8)\n",
    "out_descripition.close()\n"
   ]
  },
  {
   "cell_type": "code",
   "execution_count": 74,
   "id": "7428ad5e",
   "metadata": {},
   "outputs": [],
   "source": [
    "r1 = r_model.min()\n",
    "r2 = 2.5*reff*pc\n",
    "\n"
   ]
  },
  {
   "cell_type": "code",
   "execution_count": 113,
   "id": "cddcc413",
   "metadata": {},
   "outputs": [],
   "source": [
    "true_  = interpolate.interp1d(r_true, true_total, kind=\"cubic\")\n",
    "model_ = interpolate.interp1d(r_model, model_total, kind=\"cubic\")\n",
    "\n",
    "r_ = np.linspace(r1, r2, 25)\n"
   ]
  },
  {
   "cell_type": "code",
   "execution_count": 114,
   "id": "67e099bf",
   "metadata": {},
   "outputs": [
    {
     "data": {
      "text/plain": [
       "(25, 1)"
      ]
     },
     "execution_count": 114,
     "metadata": {},
     "output_type": "execute_result"
    }
   ],
   "source": [
    "r_.shape"
   ]
  },
  {
   "cell_type": "code",
   "execution_count": 98,
   "id": "d898642b",
   "metadata": {},
   "outputs": [
    {
     "data": {
      "text/plain": [
       "array([0.02678543])"
      ]
     },
     "execution_count": 98,
     "metadata": {},
     "output_type": "execute_result"
    }
   ],
   "source": [
    "\n",
    "\n",
    "\n",
    "true_interp  = np.asarray(true_(r_))\n",
    "model_interp = np.asarray(model_(r_))\n",
    "\n",
    "integral = np.absolute( model_interp - true_interp ) / true_interp\n",
    "\n",
    "integrate.trapezoid(y=integral, x=r_)/r2"
   ]
  },
  {
   "cell_type": "code",
   "execution_count": 75,
   "id": "21a877ff",
   "metadata": {},
   "outputs": [
    {
     "name": "stdout",
     "output_type": "stream",
     "text": [
      "[[2.48799968]\n",
      " [1.96335125]\n",
      " [1.59131373]\n",
      " [1.25440115]\n",
      " [1.03965562]\n",
      " [0.8532542 ]\n",
      " [0.71788839]\n",
      " [0.62061647]\n",
      " [0.52386211]\n",
      " [0.4570183 ]\n",
      " [0.38464344]\n",
      " [0.34353033]\n",
      " [0.31275396]\n",
      " [0.28218629]\n",
      " [0.2469365 ]\n",
      " [0.21866094]\n",
      " [0.20280123]\n",
      " [0.191104  ]\n",
      " [0.16996961]\n",
      " [0.15591225]\n",
      " [0.14665639]\n",
      " [0.13360141]\n",
      " [0.12556752]\n",
      " [0.11513818]\n",
      " [0.10796157]\n",
      " [0.10329013]\n",
      " [0.0965419 ]\n",
      " [0.08912565]\n",
      " [0.08236227]\n",
      " [0.07797587]\n",
      " [0.07731247]\n",
      " [0.075802  ]\n",
      " [0.07121761]\n",
      " [0.06758578]\n",
      " [0.06557403]\n",
      " [0.06368716]\n",
      " [0.06108509]\n",
      " [0.05776269]\n",
      " [0.05505549]\n",
      " [0.05351213]\n",
      " [0.0524234 ]\n",
      " [0.05113524]\n",
      " [0.04917595]\n",
      " [0.04687008]\n",
      " [0.04528435]\n",
      " [0.04443044]\n",
      " [0.04308592]\n",
      " [0.0408907 ]\n",
      " [0.03901877]\n",
      " [0.03830912]\n",
      " [0.03813849]\n",
      " [0.03768131]\n",
      " [0.03670393]\n",
      " [0.03525416]\n",
      " [0.03355154]\n",
      " [0.0320433 ]\n",
      " [0.03108563]\n",
      " [0.03045652]\n",
      " [0.02974341]\n",
      " [0.02879335]\n",
      " [0.02787561]\n",
      " [0.02727191]\n",
      " [0.02691456]\n",
      " [0.02648781]\n",
      " [0.02573283]\n",
      " [0.02479316]\n",
      " [0.02397263]\n",
      " [0.02349938]\n",
      " [0.02324228]\n",
      " [0.02296425]\n",
      " [0.02247591]\n",
      " [0.02181944]\n",
      " [0.02110718]\n",
      " [0.02044224]\n",
      " [0.01986102]\n",
      " [0.01937089]\n",
      " [0.01897742]\n",
      " [0.01865721]\n",
      " [0.01836228]\n",
      " [0.01804396]\n",
      " [0.01767427]\n",
      " [0.01727282]\n",
      " [0.01686584]\n",
      " [0.01647817]\n",
      " [0.01611961]\n",
      " [0.01579072]\n",
      " [0.01549195]\n",
      " [0.01522153]\n",
      " [0.01496994]\n",
      " [0.014726  ]\n",
      " [0.01447854]\n",
      " [0.01421863]\n",
      " [0.01394146]\n",
      " [0.01364268]\n",
      " [0.01331814]\n",
      " [0.0129753 ]\n",
      " [0.0126393 ]\n",
      " [0.01233675]\n",
      " [0.01209411]\n",
      " [0.01192   ]]\n"
     ]
    }
   ],
   "source": [
    "mean_error = mean_density_error(density_true=true_total, density_model=model_total,\n",
    "                                   r_true=r_true, r_model=r_model, r1=r1, r2=r2)"
   ]
  },
  {
   "cell_type": "code",
   "execution_count": 76,
   "id": "f765cd62",
   "metadata": {},
   "outputs": [
    {
     "data": {
      "text/plain": [
       "array([0., 0., 0., 0., 0., 0., 0., 0., 0., 0., 0., 0., 0., 0., 0., 0., 0.,\n",
       "       0., 0., 0., 0., 0., 0., 0., 0., 0., 0., 0., 0., 0., 0., 0., 0., 0.,\n",
       "       0., 0., 0., 0., 0., 0., 0., 0., 0., 0., 0., 0., 0., 0., 0., 0., 0.,\n",
       "       0., 0., 0., 0., 0., 0., 0., 0., 0., 0., 0., 0., 0., 0., 0., 0., 0.,\n",
       "       0., 0., 0., 0., 0., 0., 0., 0., 0., 0., 0., 0., 0., 0., 0., 0., 0.,\n",
       "       0., 0., 0., 0., 0., 0., 0., 0., 0., 0., 0., 0., 0., 0., 0.])"
      ]
     },
     "execution_count": 76,
     "metadata": {},
     "output_type": "execute_result"
    }
   ],
   "source": [
    "mean_error"
   ]
  },
  {
   "cell_type": "code",
   "execution_count": null,
   "id": "e528cbbb",
   "metadata": {},
   "outputs": [],
   "source": []
  }
 ],
 "metadata": {
  "kernelspec": {
   "display_name": "Python 3 (ipykernel)",
   "language": "python",
   "name": "python3"
  },
  "language_info": {
   "codemirror_mode": {
    "name": "ipython",
    "version": 3
   },
   "file_extension": ".py",
   "mimetype": "text/x-python",
   "name": "python",
   "nbconvert_exporter": "python",
   "pygments_lexer": "ipython3",
   "version": "3.10.4"
  }
 },
 "nbformat": 4,
 "nbformat_minor": 5
}
