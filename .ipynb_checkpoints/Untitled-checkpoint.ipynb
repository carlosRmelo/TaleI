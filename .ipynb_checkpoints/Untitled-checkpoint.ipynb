{
 "cells": [
  {
   "cell_type": "code",
   "execution_count": 1,
   "id": "cca52e4e",
   "metadata": {},
   "outputs": [],
   "source": [
    "import os\n",
    "os.environ[\"OMP_NUM_THREADS\"] = \"1\"\n",
    "\n",
    "\n",
    "import sys\n",
    "from optparse import OptionParser\n",
    "import pickle\n",
    "from copy import deepcopy\n",
    "from multiprocessing import Pool\n",
    "\n",
    "\n",
    "from dynesty import NestedSampler\n",
    "from dynesty import plotting as dyplot\n",
    "from dynesty import utils as dyfunc\n",
    "\n",
    "\n",
    "import numpy as np\n",
    "import matplotlib.pyplot as plt\n",
    "from astropy.io import fits\n",
    "\n",
    "plt.rcParams['xtick.labelsize']= 12\n",
    "plt.rcParams['ytick.labelsize']= 12\n",
    "plt.rcParams['font.size']= 12\n",
    "\n",
    "import pickle\n",
    "import json\n",
    "\n",
    "from plotbin.plot_velfield import plot_velfield\n",
    "from plotbin.symmetrize_velfield import symmetrize_velfield\n",
    "from jampy.mge_radial_density import mge_radial_density\n",
    "from jampy.mge_radial_mass import mge_radial_mass\n",
    "from jampy.mge_half_light_isophote import mge_half_light_isophote\n",
    "from astropy import units as u\n",
    "\n",
    "import autolens as al\n",
    "import autolens.plot as aplt\n",
    "\n",
    "from util import quantities2D, quantities3D\n",
    "from dyLens.utils.tools import effective_einstein_radius_from_kappa, enclosed2D\n",
    "from dyLens.Combined import updt_model\n",
    "\n",
    "from IPython.display import display, Math"
   ]
  },
  {
   "cell_type": "code",
   "execution_count": 2,
   "id": "12cead6f",
   "metadata": {},
   "outputs": [],
   "source": [
    "phase_name    = \"phase5\"   # phase to compute the results\n",
    "result_path   = \"./8/model1/\"  #path to the non-linear results\n",
    "data_path     = \"/home/carlosmelo/Documents/GitHub/Illustris/my_illustris/TNG50-1-snap84-subhalo8 (original)/\" #path to the data"
   ]
  },
  {
   "cell_type": "code",
   "execution_count": 3,
   "id": "f308f496",
   "metadata": {},
   "outputs": [],
   "source": [
    "with open(result_path+'{}/Final_sampler_{}.pickle'.format(phase_name,phase_name),'rb') as f:\n",
    "    sampler = pickle.load(f)\n",
    "    f.close()\n",
    "    try:\n",
    "        sampler = sampler[\"sampler\"]\n",
    "    except:\n",
    "        sampler = sampler\n",
    "    \n",
    "\n",
    "\n",
    "with open(result_path+'{}/{}.pickle'.format(phase_name,phase_name),'rb') as f:\n",
    "    phase = pickle.load(f)\n",
    "    f.close()\n",
    "    \n",
    "with open(result_path+f'/JAM/JAM_class.pickle','rb') as f:\n",
    "    Jam_model = pickle.load(f)\n",
    "    f.close()\n",
    "\n",
    "with open(result_path+'{}/CombinedModel_{}.pickle'.format(phase_name,phase_name),'rb') as f:\n",
    "    CM = pickle.load(f)\n",
    "    f.close()\n",
    "    \n",
    "with open(result_path+'{}/priors_{}.pickle'.format(phase_name,phase_name),'rb') as f:\n",
    "    priors = pickle.load(f)\n",
    "    f.close()\n"
   ]
  },
  {
   "cell_type": "code",
   "execution_count": 4,
   "id": "be3e9926",
   "metadata": {},
   "outputs": [],
   "source": [
    "fancy_labels = {\n",
    "            \"ml\"   :    r\"$\\Upsilon$\",\n",
    "            \"ml0\"  :    r\"$\\Upsilon_{0}$\",\n",
    "            \"delta\":    r\"$\\delta$\",\n",
    "            \"lower\":    r\"$\\upsilon$\",\n",
    "            \"beta\" :    r\"$\\beta_{z}$\",\n",
    "            \"inc\"  :    r\"$i$\",\n",
    "            \"log_mbh\":  r\"$\\log_{10}M_{\\text{bh}}$\",\n",
    "            \"log_rho_s\":r\"$\\log_{10}\\rho_{s}$\",\n",
    "            \"log_M0\":   r\"$\\log_{10}M_{0}$\",\n",
    "            \"rc\"    :   r\"$r_{c}$\",\n",
    "            \"rs\"    :   r\"$r_{s}$\",\n",
    "            \"qDM\"   :   r\"$q_{\\text{DM}}$\",\n",
    "            \"slope\" :   r\"$\\gamma$\",\n",
    "            \"mag_shear\":r\"$\\Gamma$\",\n",
    "            \"phi_shear\":r\"$\\Gamma_{\\theta}$\",\n",
    "            \"gamma\":    r\"$\\eta$\"    \n",
    "}"
   ]
  },
  {
   "cell_type": "code",
   "execution_count": null,
   "id": "52af6c25",
   "metadata": {},
   "outputs": [],
   "source": []
  },
  {
   "cell_type": "code",
   "execution_count": 7,
   "id": "9ad16317",
   "metadata": {},
   "outputs": [],
   "source": [
    "class Analysis():\n",
    "    def __init__(self, sampler, phase=None, Jampy_model=None,\n",
    "                        ncores=4):\n",
    "        if (phase == None) and (Jampy_model == None):\n",
    "            raise ValueError(\"You must provide either a phase or Jampy object.\")\n",
    "        elif phase and Jampy_model:\n",
    "            raise ValueError(\"You must provide either a phase or a Jampy object, but not at the same time.\")\n",
    "        elif phase:\n",
    "            print(\"Initializing dyLens analysis.\")\n",
    "            print(\"####################################\\n\")\n",
    "            \n",
    "            self.phase       = deepcopy(phase)\n",
    "            self.parsNames   = phase.PhPriors.copy()\n",
    "            self.Jampy_model = None\n",
    "        elif Jampy_model:\n",
    "            print(\"Initializing JAM analysis.\")\n",
    "            print(\"####################################\\n\")\n",
    "            \n",
    "            self.Jampy_model = deepcopy(Jampy_model)\n",
    "            self.parsNames   = Jampy_model.Priors.copy()\n",
    "            self.phase       = None\n",
    "        self.ncores = ncores\n",
    "        \n",
    "        sampler.results.summary()\n",
    "        results_sim = dyfunc.jitter_run(dyfunc.resample_run(sampler.results))\n",
    "        self.samples_sim, self.weights = results_sim.samples, results_sim.importance_weights()\n",
    "        self.results_sim = results_sim\n",
    "        self.sampler  = deepcopy(sampler)\n",
    "        self.Nsamples = self.samples_sim.shape[0]\n",
    "        \n",
    "        labels = []\n",
    "        self.parsFiducial = self.parsQuantiles()\n",
    "        \n",
    "        for i, key in enumerate(self.parsNames.keys()):\n",
    "            labels.append( fancy_labels[key] )\n",
    "        self.labels = labels\n",
    "        \n",
    "        print(\"\\nFiducial values and 68% confidence level.\")\n",
    "        print(\"==========================================\")\n",
    "        for i in range(sampler.npdim):\n",
    "            quantiles = list( self.parsFiducial.values() )[i]\n",
    "            txt = \"\\mathrm{{{3}}} = {0:.3f}_{{-{1:.3f}}}^{{{2:.3f}}}\"\n",
    "            lo, hi = np.diff(quantiles)\n",
    "            txt = txt.format(quantiles[1], lo, hi, labels[i])\n",
    "            display(Math(txt))\n",
    "        \n",
    "        \n",
    "        \n",
    "    def parsQuantiles(self, q=[0.16, 0.5,  0.84]):\n",
    "        \n",
    "        quantiles = [dyfunc.quantile(samps, q, weights=self.weights)\n",
    "                    for samps in self.samples_sim.T]            #quantiles for each parameter\n",
    "        rst = {}\n",
    "        for i, key in enumerate(self.parsNames.keys()):\n",
    "            rst[key] = np.asarray( quantiles[i] )\n",
    "        \n",
    "        return rst\n",
    "    \n",
    "    def tracerPlot(self, save_path=None,  **kwargs):\n",
    "        fig, axes = dyplot.traceplot(results=self.results_sim,\n",
    "                                     show_titles=True,\n",
    "                                     labels=self.labels, **kwargs\n",
    "                                    )\n",
    "        fig.tight_layout()\n",
    "        if save_path:\n",
    "            plt.savefig(save_path+\"/tracerPlot.png\")\n",
    "            \n",
    "    def cornerPlot(self, save_path=None,  **kwargs):\n",
    "        cfig, caxes, = dyplot.cornerplot(self.results_sim, \n",
    "                                         smooth=0.1,\n",
    "                                         show_titles=True,\n",
    "                                         labels=self.labels,\n",
    "                                    )\n",
    "        cfig.tight_layout()\n",
    "        if save_path:\n",
    "            plt.savefig(save_path+\"/cornerPlot.png\")\n",
    "    \n",
    "    def LensFiducial(self, save_path=None):\n",
    "        if self.Jampy_model:\n",
    "            raise ValueError(\"Jampy model doesn't constrain lensing data.\")\n",
    "        parsRes = self.parsFiducial.copy()  # Parameters median values\n",
    "        for k, v in parsRes.items():\n",
    "            parsRes[k] = float(v[1])\n",
    "        phase_name = self.phase.phase_name\n",
    "        \n",
    "        if phase_name == \"phase1\":\n",
    "            source_ell_comp = al.convert.elliptical_comps_from(axis_ratio=parsRes[\"source_q\"], \n",
    "                                                               angle=parsRes[\"source_phi\"]\n",
    "                                                              )\n",
    "\n",
    "            source_model = al.Galaxy(\n",
    "                redshift=self.phase.CombinedModel.Lens_model.z_s,\n",
    "                light=al.lp.EllSersic(\n",
    "                    centre=(parsRes[\"source_y0\"],parsRes[\"source_x0\"]),\n",
    "                    elliptical_comps=source_ell_comp,\n",
    "                    intensity=parsRes[\"source_intensity\"],\n",
    "                    effective_radius=parsRes[\"source_eff_r\"],\n",
    "                    sersic_index=parsRes[\"source_n_index\"],\n",
    "                ),\n",
    "            )    \n",
    "\n",
    "            self.phase.CombinedModel.source_galaxy(source_model)\n",
    "\n",
    "        else:\n",
    "\n",
    "            adp_pix = self.phase.source_pix(pixels=int(self.phase.parsSource[\"pixels\"]),\n",
    "                                        weight_floor=self.phase.parsSource[\"weight_floor\"],\n",
    "                                        weight_power=self.phase.parsSource[\"weight_power\"]\n",
    "                                        )\n",
    "\n",
    "            adp_reg = phase.source_reg(inner_coefficient=self.phase.parsSource[\"inner_coefficient\"],\n",
    "                                        outer_coefficient=self.phase.parsSource[\"outer_coefficient\"],\n",
    "                                        signal_scale=self.phase.parsSource[\"signal_scale\"]\n",
    "                                        )\n",
    "\n",
    "            source_model = al.Galaxy(redshift=self.phase.CombinedModel.Lens_model.z_s,\n",
    "                                        pixelization=adp_pix, regularization=adp_reg,\n",
    "                                        hyper_model_image=self.phase.hyper_image_2d,\n",
    "                                        hyper_galaxy_image=self.phase.hyper_image_2d,\n",
    "                                        )\n",
    "\n",
    "            self.phase.CombinedModel.source_galaxy(source_model=source_model)  #Setting the source galaxy model\n",
    "        self.phase.CombinedModel.quiet = False\n",
    "        self.phase.CombinedModel.Updt_Model(parsRes)\n",
    "\n",
    "        print(\"Generating lensing results. This could take a while.\")\n",
    "\n",
    "        # Config. Pyautolens plots\n",
    "        cmap = aplt.Cmap(cmap=\"rainbow\")\n",
    "        if save_path:\n",
    "            mat_plot_2d_output = aplt.MatPlot2D(\n",
    "                        output=aplt.Output(\n",
    "                            filename=f\"None\",\n",
    "                            path=save_path,\n",
    "                            format=[\"png\",],\n",
    "                            format_folder=True,\n",
    "                        ),\n",
    "                        cmap=cmap)\n",
    "        else:\n",
    "            mat_plot_2d_output = aplt.MatPlot2D(cmap=cmap)\n",
    "        mat_plot_2d =  mat_plot_2d_output\n",
    "        # Make a fit plotter\n",
    "        fit_plotter = aplt.FitImagingPlotter(fit=self.phase.CombinedModel.Fit, \n",
    "                                             mat_plot_2d=mat_plot_2d\n",
    "                                            )\n",
    "\n",
    "        mat_plot_2d.output.filename = \"fit_subplot\"\n",
    "        fit_plotter.subplot_fit_imaging()\n",
    "\n",
    "        mat_plot_2d.output.filename = \"fit_image\"\n",
    "        fit_plotter.figures_2d(image=True)\n",
    "\n",
    "        mat_plot_2d.output.filename = \"fit_model\"\n",
    "        fit_plotter.figures_2d(model_image=True)\n",
    "\n",
    "        mat_plot_2d.output.filename = \"residual\"\n",
    "        fit_plotter.figures_2d(residual_map=True)\n",
    "\n",
    "        mat_plot_2d.output.filename = \"subplot_plane\"\n",
    "        fit_plotter.subplot_of_planes(plane_index=1)\n",
    "\n",
    "        if phase_name == \"phase1\":\n",
    "            pass\n",
    "        else:\n",
    "            # Make a inversion plotter\n",
    "            inversion_plotter = aplt.InversionPlotter(\n",
    "                                            inversion=self.phase.CombinedModel.Fit.inversion, \n",
    "                                            mat_plot_2d=mat_plot_2d)\n",
    "\n",
    "            mat_plot_2d.output.filename = \"reconstruction\"\n",
    "            inversion_plotter.figures_2d_of_mapper(mapper_index=0,\n",
    "                            reconstruction=True)\n",
    "\n",
    "            mat_plot_2d.output.filename = \"subplot_inversion\"\n",
    "            inversion_plotter.subplot_of_mapper(mapper_index=0)\n",
    "    \n",
    "    def DynFiducial(self, save_path=None):\n",
    "        parsRes = self.parsFiducial.copy()  # Parameters median values\n",
    "        for k, v in parsRes.items():\n",
    "            parsRes[k] = float(v[1])\n",
    "        \n",
    "        if self.phase:\n",
    "            self.phase.CombinedModel.Updt_Model(parsRes)\n",
    "            Jampy_model = self.phase.CombinedModel.Jampy_model\n",
    "            rmsModel, ml, chi2, chi2T = Jampy_model._run(plot=False, quiet=True)\n",
    "            \n",
    "        else:\n",
    "            self.Jampy_model.Updt_Model(UpdtparsDic=parsRes)\n",
    "            Jampy_model = self.Jampy_model\n",
    "            rmsModel, ml, chi2, flux  = Jampy_model.run_current(plot=False, quiet=True)\n",
    "        \n",
    "        sym = symmetrize_velfield(xbin=Jampy_model.xbin,\n",
    "                          ybin=Jampy_model.ybin,\n",
    "                          vel_bin=Jampy_model.rms)\n",
    "\n",
    "        plt.figure(figsize=(18,10))\n",
    "        plt.subplot(221)\n",
    "        plot_velfield(x=Jampy_model.xbin,\n",
    "                      y=Jampy_model.ybin,\n",
    "                      vel=Jampy_model.rms, \n",
    "                      colorbar=True,label='km/s',\n",
    "                      cmap=\"rainbow\", markersize=2)\n",
    "        plt.title(r\"Input $V_{\\rm rms}$\")\n",
    "        plt.xlabel(\"x (arcsec)\")\n",
    "        plt.ylabel(\"y (arcsec)\")\n",
    "\n",
    "        plt.subplot(222)\n",
    "        plot_velfield(x=Jampy_model.xbin,\n",
    "                      y=Jampy_model.ybin,\n",
    "                      vel=sym, \n",
    "                      colorbar=True,label='km/s',\n",
    "                      cmap=\"rainbow\",markersize=2)\n",
    "        plt.title(r\"Symmetrized Input\")\n",
    "        plt.xlabel(\"x (arcsec)\")\n",
    "        plt.ylabel(\"y (arcsec)\")\n",
    "\n",
    "\n",
    "        plt.subplot(223)\n",
    "        plot_velfield(x=Jampy_model.xbin,\n",
    "                      y=Jampy_model.ybin,\n",
    "                      vel=rmsModel, \n",
    "                      colorbar=True,label='km/s',\n",
    "                      cmap=\"rainbow\", markersize=2)\n",
    "        plt.title(r\"Model $V_{\\rm rms}$\")\n",
    "        plt.xlabel(\"x (arcsec)\")\n",
    "        plt.ylabel(\"y (arcsec)\")\n",
    "\n",
    "        plt.subplot(224)\n",
    "        residual = 100*abs(Jampy_model.rms-rmsModel)/Jampy_model.rms\n",
    "        plot_velfield(x=Jampy_model.xbin, \n",
    "                      y=Jampy_model.ybin,\n",
    "                      vel=residual,\n",
    "                      colorbar=True, cmap=\"rainbow\",  \n",
    "                      markersize=2, label=\"[%]\")\n",
    "        plt.title(r\"${\\Delta V_{\\rm rms}^{*}}$\")\n",
    "        plt.xlabel(\"x (arcsec)\")\n",
    "        plt.ylabel(\"y (arcsec)\")\n",
    "\n",
    "        plt.subplots_adjust(hspace = -0.85, wspace=-0.55)\n",
    "        plt.tight_layout()\n",
    "\n",
    "        if save_path:\n",
    "            plt.savefig(save_path+\"/dynModel.png\")\n",
    "    \n",
    "    def stellarMass3D_density(self, Rmin=0.25, Rmax=10, step=0.01,\n",
    "                                   save_path=None):\n",
    "        \n",
    "        if self.phase:\n",
    "            surf_lum  = np.asarray ( self.Nsamples * [self.phase.CombinedModel.Lens_model.surf_lum] )\n",
    "            sigma_lum = np.asarray ( self.Nsamples * [self.phase.CombinedModel.Lens_model.sigma_lum])\n",
    "            qobs_lum  = np.asarray ( self.Nsamples * [self.phase.CombinedModel.Lens_model.qobs_lum] )\n",
    "            distance  = self.phase.CombinedModel.Jampy_model.distance\n",
    "            \n",
    "        else:\n",
    "            surf_lum  = np.asarray ( self.Nsamples * [self.Jampy_model.surf_lum] )\n",
    "            sigma_lum = np.asarray ( self.Nsamples * [self.Jampy_model.sigma_lum])\n",
    "            qobs_lum  = np.asarray ( self.Nsamples * [self.Jampy_model.qobs_lum] )\n",
    "            distance  = self.Jampy_model.distance\n",
    "        \n",
    "        radii = np.arange(Rmin, Rmax, step)\n",
    "        try:\n",
    "            # one surf stellar mass MGE for each ml in the sample\n",
    "            surf_stellar_mass_dist = self.surf_stellar_mass_dist\n",
    "            \n",
    "        except:\n",
    "            \n",
    "            idx_ml  = list(self.parsNames.keys()).index(\"ml\")  # ML index\n",
    "            idx_inc = list(self.parsNames.keys()).index(\"inc\") # inc index\n",
    "\n",
    "                # ml sample distribution. One ML per gaussian in surf lum\n",
    "            ml_dist = np.asarray ( surf_lum.shape[1] * [self.samples_sim[:,idx_ml]] ).T\n",
    "                # one surf stellar mass MGE for each ml in the sample\n",
    "            surf_stellar_mass_dist      = ml_dist * surf_lum\n",
    "            self.surf_stellar_mass_dist = surf_stellar_mass_dist\n",
    "            \n",
    "            # inc sample distribution. One inc per gaussian in surf lum\n",
    "        inc_dist = np.asarray ( surf_lum.shape[1] * [self.samples_sim[:,idx_inc]] ).T\n",
    "\n",
    "        stellarMass3D_density_dist = []\n",
    "        for i in range(self.Nsamples):\n",
    "            stellarMass3D_density_dist.append( mge_radial_density(\n",
    "                                surf_stellar_mass_dist[i], \n",
    "                                sigma_lum[i], qobs_lum[i],\n",
    "                                inc_dist[i][0], \n",
    "                                radii, distance\n",
    "                                )\n",
    "                                              \n",
    "                            )\n",
    "        if save_path:\n",
    "            with  open(save_path+\"/stellar_density3D_distribution.pickle\",'wb') as f:\n",
    "                pickle.dump(stellarMass3D_density_dist, f)\n",
    "                f.close()\n",
    "            \n",
    "        self.stellarMass3D_density_dist = stellarMass3D_density_dist\n",
    "        \n",
    "        return stellarMass3D_density_dist\n",
    "        \n",
    "        \n",
    "    def stellarMass_3D(self, R, q=[0.16, 0.5,  0.84], save_path=None):\n",
    "        \n",
    "        if self.phase:\n",
    "            surf_lum  = np.asarray ( self.Nsamples * [self.phase.CombinedModel.Lens_model.surf_lum] )\n",
    "            sigma_lum = np.asarray ( self.Nsamples * [self.phase.CombinedModel.Lens_model.sigma_lum])\n",
    "            qobs_lum  = np.asarray ( self.Nsamples * [self.phase.CombinedModel.Lens_model.qobs_lum] )\n",
    "            distance  = self.phase.CombinedModel.Jampy_model.distance\n",
    "            \n",
    "        else:\n",
    "            surf_lum  = np.asarray ( self.Nsamples * [self.Jampy_model.surf_lum] )\n",
    "            sigma_lum = np.asarray ( self.Nsamples * [self.Jampy_model.sigma_lum])\n",
    "            qobs_lum  = np.asarray ( self.Nsamples * [self.Jampy_model.qobs_lum] )\n",
    "            distance  = self.Jampy_model.distance\n",
    "        \n",
    "        try:\n",
    "                # one surf stellar mass MGE for each ml in the sample\n",
    "            surf_stellar_mass_dist = self.surf_stellar_mass_dist\n",
    "            \n",
    "        except:\n",
    "                # ml sample distribution. One ML per gaussian in surf lum\n",
    "            ml_dist = np.asarray ( surf_lum.shape[1] * [self.samples_sim[:,idx_ml]] ).T\n",
    "                # one surf stellar mass MGE for each ml in the sample\n",
    "            surf_stellar_mass_dist      = ml_dist * surf_lum\n",
    "            self.surf_stellar_mass_dist = surf_stellar_mass_dist\n",
    "\n",
    "            stellar_mass_dist = mge_radial_mass(surf_stellar_mass_dist, \n",
    "                                                sigma_lum, qobs_lum,\n",
    "                                                inc_dist, R, \n",
    "                                                distance)\n",
    "        \n",
    "        # inc sample distribution. One inc per gaussian in surf lum\n",
    "        idx_ml  = list(self.parsNames.keys()).index(\"ml\")  # ML index\n",
    "        inc_dist = np.asarray ( surf_lum.shape[1] * [self.samples_sim[:,idx_inc]] ).T \n",
    "\n",
    "        R = np.asarray( [R] * self.Nsamples )\n",
    "\n",
    "        stellar_mass_dist = mge_radial_mass(surf_stellar_mass_dist, \n",
    "                                            sigma_lum, qobs_lum,\n",
    "                                            inc_dist, R, \n",
    "                                            distance)\n",
    "        \n",
    "        stellar_mass_dist = np.asarray( stellar_mass_dist )\n",
    "        Mstar = dyfunc.quantile(stellar_mass_dist, q, weights=self.weights)\n",
    "        \n",
    "        if save_path:\n",
    "             with  open(save_path+\"/stellar_Mass3D_distribution.pickle\",'wb') as f:\n",
    "                pickle.dump(stellar_mass_dist, f)\n",
    "                f.close()\n",
    "        self.Mstar = Mstar\n",
    "        self.stellar_mass_dist = stellar_mass_dist\n",
    "        \n",
    "        return Mstar\n",
    "    \n",
    "    def dmMass3D_density(self, Rmin=0.25, Rmax=10, step=0.01,\n",
    "                                   save_path=None):\n",
    "        print(\"Parametrizing all dark matter profiles in the sample \"+\n",
    "        \"using MGE could that a while. We are using {:.0f} cores, however \".format(self.ncores)+\n",
    "        \"you can speed up the process by increasing this number \"+\n",
    "        \"by changing the parameter ncores.\")\n",
    "        print(\"==========================================\")\n",
    "        if self.phase:\n",
    "            fit_function = self.phase.CombinedModel.mgeDM.fit\n",
    "            distance  = self.phase.CombinedModel.Jampy_model.distance            \n",
    "        else:\n",
    "            fit_function = self.Jampy_model.mgeDM.fit\n",
    "            distance  = self.Jampy_model.distance\n",
    "        \n",
    "        try:\n",
    "            surf_DM_mge_dist  = self.surf_DM_mge_dist\n",
    "            sigma_DM_mge_dist = self.sigma_DM_mge_dist\n",
    "            qobs_DM_mge_dist  = self.qobs_DM_mge_dist\n",
    "        \n",
    "        except:\n",
    "            \n",
    "            idx_rho_s  = list(self.parsNames.keys()).index(\"log_rho_s\") # log_rho_s index\n",
    "            idx_r_s    = list(self.parsNames.keys()).index(\"rs\")        # rs index\n",
    "            idx_slope  = list(self.parsNames.keys()).index(\"slope\")     # slope index\n",
    "            \n",
    "            rho_s = 10 ** self.samples_sim[:,idx_rho_s]\n",
    "            r_s   = self.samples_sim[:,idx_r_s]\n",
    "            slope = self.samples_sim[:,idx_slope]\n",
    "\n",
    "            pars = np.vstack([rho_s, r_s, slope]).T\n",
    "\n",
    "            surf_DM_mge_dist  = []\n",
    "            sigma_DM_mge_dist = []\n",
    "\n",
    "            with Pool(self.ncores) as p:\n",
    "                surf_DM_mge_dist, sigma_DM_mge_dist = zip(*p.starmap(fit_function, pars))\n",
    "                p.close()\n",
    "                p.join()\n",
    "            surf_DM_mge_dist  = np.asarray( surf_DM_mge_dist )\n",
    "            sigma_DM_mge_dist = np.asarray( sigma_DM_mge_dist )\n",
    "            qobs_DM_mge_dist  = np.full_like( surf_DM_mge_dist, 1 )\n",
    "\n",
    "            self.surf_DM_mge_dist  = surf_DM_mge_dist\n",
    "            self.sigma_DM_mge_dist = sigma_DM_mge_dist\n",
    "            self.qobs_DM_mge_dist  = qobs_DM_mge_dist\n",
    "    \n",
    "        idx_inc = list(self.parsNames.keys()).index(\"inc\") # inc index\n",
    "        inc_dist = np.asarray( surf_DM_mge_dist.shape[1] * [self.samples_sim[:,idx_inc]] ).T \n",
    "        radii = np.arange(Rmin, Rmax, step)\n",
    "        dmMass3D_density_dist = []\n",
    "        for i in range(self.Nsamples):\n",
    "            dmMass3D_density_dist.append( mge_radial_density(\n",
    "                                surf_DM_mge_dist[i], \n",
    "                                sigma_DM_mge_dist[i], qobs_DM_mge_dist[i],\n",
    "                                inc_dist[i][0], \n",
    "                                radii, distance\n",
    "                                )\n",
    "\n",
    "                            )\n",
    "        if save_path:\n",
    "            with  open(save_path+\"/dm_density3D_distribution.pickle\",'wb') as f:\n",
    "                pickle.dump(dmMass3D_density_dist, f)\n",
    "                f.close()\n",
    "\n",
    "        self.dmMass3D_density_dist = dmMass3D_density_dist\n",
    "\n",
    "        return dmMass3D_density_dist\n",
    "    \n",
    "    def dmMass_3D(self, R, q=[0.16, 0.5,  0.84], save_path=None):\n",
    "        \n",
    "        print(\"Parametrizing all dark matter profiles in the sample \"+\n",
    "        \"using MGE could that a while. We are using {:.0f} cores, however \".format(self.ncores)+\n",
    "        \"you can speed up the process by increasing this number \"+\n",
    "        \"by changing the parameter ncores.\")\n",
    "        print(\"==========================================\")\n",
    "        if self.phase:\n",
    "            fit_function = self.phase.CombinedModel.mgeDM.fit\n",
    "            distance  = self.phase.CombinedModel.Jampy_model.distance            \n",
    "        else:\n",
    "            fit_function = self.Jampy_model.mgeDM.fit\n",
    "            distance  = self.Jampy_model.distance\n",
    "        \n",
    "        try:\n",
    "            surf_DM_mge_dist  = self.surf_DM_mge_dist\n",
    "            sigma_DM_mge_dist = self.sigma_DM_mge_dist\n",
    "            qobs_DM_mge_dist  = self.qobs_DM_mge_dist\n",
    "        \n",
    "        except:\n",
    "            \n",
    "            idx_rho_s  = list(self.parsNames.keys()).index(\"log_rho_s\") # log_rho_s index\n",
    "            idx_r_s    = list(self.parsNames.keys()).index(\"rs\")        # rs index\n",
    "            idx_slope  = list(self.parsNames.keys()).index(\"slope\")     # slope index\n",
    "            \n",
    "            rho_s = 10 ** self.samples_sim[:,idx_rho_s]\n",
    "            r_s   = self.samples_sim[:,idx_r_s]\n",
    "            slope = self.samples_sim[:,idx_slope]\n",
    "\n",
    "            pars = np.vstack([rho_s, r_s, slope]).T\n",
    "\n",
    "            surf_DM_mge_dist  = []\n",
    "            sigma_DM_mge_dist = []\n",
    "\n",
    "            with Pool(self.ncores) as p:\n",
    "                surf_DM_mge_dist, sigma_DM_mge_dist = zip(*p.starmap(fit_function, pars))\n",
    "                p.close()\n",
    "                p.join()\n",
    "            surf_DM_mge_dist  = np.asarray( surf_DM_mge_dist )\n",
    "            sigma_DM_mge_dist = np.asarray( sigma_DM_mge_dist )\n",
    "            qobs_DM_mge_dist  = np.full_like( surf_DM_mge_dist, 1 )\n",
    "\n",
    "            self.surf_DM_mge_dist  = surf_DM_mge_dist\n",
    "            self.sigma_DM_mge_dist = sigma_DM_mge_dist\n",
    "            self.qobs_DM_mge_dist  = qobs_DM_mge_dist\n",
    "        \n",
    "        idx_inc = list(self.parsNames.keys()).index(\"inc\") # inc index\n",
    "        inc_dist = np.asarray( surf_DM_mge_dist.shape[1] * [self.samples_sim[:,idx_inc]] ).T \n",
    "        R = np.asarray( [R] * self.Nsamples )\n",
    "        dm_mass_dist = mge_radial_mass(surf_DM_mge_dist, \n",
    "                                            sigma_DM_mge_dist, qobs_DM_mge_dist,\n",
    "                                                inc_dist, R, \n",
    "                                                distance)\n",
    "        dm_mass_dist = np.asarray( dm_mass_dist )\n",
    "        Mdm = dyfunc.quantile(dm_mass_dist, q, weights=self.weights)\n",
    "        \n",
    "        if save_path:\n",
    "             with  open(save_path+\"/dm_Mass3D_distribution.pickle\",'wb') as f:\n",
    "                pickle.dump(dm_mass_dist, f)\n",
    "                f.close()\n",
    "        \n",
    "        self.Mdm = Mdm\n",
    "        self.dm_mass_dist = dm_mass_dist\n",
    "        \n",
    "        return Mdm"
   ]
  },
  {
   "cell_type": "code",
   "execution_count": null,
   "id": "3e4eb701",
   "metadata": {},
   "outputs": [],
   "source": []
  },
  {
   "cell_type": "code",
   "execution_count": 8,
   "id": "827a7992",
   "metadata": {},
   "outputs": [
    {
     "name": "stdout",
     "output_type": "stream",
     "text": [
      "Initializing dyLens analysis.\n",
      "####################################\n",
      "\n",
      "Summary\n",
      "=======\n",
      "nlive: 500\n",
      "niter: 3864\n",
      "ncall: 50100\n",
      "eff(%):  8.711\n",
      "logz: 5430.706 +/-  0.134\n",
      "\n",
      "Fiducial values and 68% confidence level.\n",
      "==========================================\n"
     ]
    },
    {
     "data": {
      "text/latex": [
       "$\\displaystyle \\mathrm{$i$} = 82.209_{-3.023}^{4.533}$"
      ],
      "text/plain": [
       "<IPython.core.display.Math object>"
      ]
     },
     "metadata": {},
     "output_type": "display_data"
    },
    {
     "data": {
      "text/latex": [
       "$\\displaystyle \\mathrm{$\\beta_{z}$} = -0.017_{-0.024}^{0.024}$"
      ],
      "text/plain": [
       "<IPython.core.display.Math object>"
      ]
     },
     "metadata": {},
     "output_type": "display_data"
    },
    {
     "data": {
      "text/latex": [
       "$\\displaystyle \\mathrm{$\\Upsilon$} = 2.364_{-0.144}^{0.087}$"
      ],
      "text/plain": [
       "<IPython.core.display.Math object>"
      ]
     },
     "metadata": {},
     "output_type": "display_data"
    },
    {
     "data": {
      "text/latex": [
       "$\\displaystyle \\mathrm{$\\log_{10}\\rho_{s}$} = -2.202_{-0.065}^{0.078}$"
      ],
      "text/plain": [
       "<IPython.core.display.Math object>"
      ]
     },
     "metadata": {},
     "output_type": "display_data"
    },
    {
     "data": {
      "text/latex": [
       "$\\displaystyle \\mathrm{$r_{s}$} = 14.818_{-1.753}^{0.840}$"
      ],
      "text/plain": [
       "<IPython.core.display.Math object>"
      ]
     },
     "metadata": {},
     "output_type": "display_data"
    },
    {
     "data": {
      "text/latex": [
       "$\\displaystyle \\mathrm{$\\gamma$} = 0.820_{-0.027}^{0.061}$"
      ],
      "text/plain": [
       "<IPython.core.display.Math object>"
      ]
     },
     "metadata": {},
     "output_type": "display_data"
    }
   ],
   "source": [
    "c = Analysis(sampler=sampler, phase=phase, ncores=8)"
   ]
  },
  {
   "cell_type": "code",
   "execution_count": 9,
   "id": "ba457f7b",
   "metadata": {},
   "outputs": [
    {
     "name": "stdout",
     "output_type": "stream",
     "text": [
      "Parametrizing all dark matter profiles in the sample using MGE could that a while. We are using 8 cores, however you can speed up the process by increasing this number by changing the parameter ncores.\n",
      "==========================================\n"
     ]
    }
   ],
   "source": [
    "rst = c.dmMass3D_density( save_path=\"./\")"
   ]
  },
  {
   "cell_type": "code",
   "execution_count": 10,
   "id": "1f1caec2",
   "metadata": {},
   "outputs": [],
   "source": [
    "from scipy.stats.mstats import mquantiles\n",
    "\n",
    "\n",
    "# median and 1sigma band\n",
    "mean = mquantiles(rst, 0.5, axis=0)[0]\n",
    "lo   = mquantiles(rst, 0.16, axis=0)[0]\n",
    "hi   = mquantiles(rst, 0.84, axis=0)[0]"
   ]
  },
  {
   "cell_type": "code",
   "execution_count": 16,
   "id": "829e3607",
   "metadata": {},
   "outputs": [],
   "source": [
    "radii    = np.arange(0.25, 10, 0.01) # Radii in arcsec\n",
    "\n",
    "pc       = phase.CombinedModel.Jampy_model.distance*np.pi/0.648  # Constant factor to convert arcsec --> pc\n",
    "radii_pc = radii*pc   "
   ]
  },
  {
   "cell_type": "code",
   "execution_count": 17,
   "id": "5944f0b1",
   "metadata": {},
   "outputs": [],
   "source": [
    "dm_hdu = fits.open(data_path+\"/dm/density_fit.fits\")\n",
    "true_density = dm_hdu[1].data[\"density\"]\n",
    "true_radii   = dm_hdu[1].data[\"radius\"]\n",
    "\n",
    "i = true_radii < radii_pc.max()\n",
    "\n",
    "true_density = true_density[i]\n",
    "true_radii   = true_radii[i]"
   ]
  },
  {
   "cell_type": "code",
   "execution_count": 18,
   "id": "639a9e59",
   "metadata": {},
   "outputs": [
    {
     "data": {
      "text/plain": [
       "<matplotlib.legend.Legend at 0x7f3f2a100280>"
      ]
     },
     "execution_count": 18,
     "metadata": {},
     "output_type": "execute_result"
    },
    {
     "data": {
      "image/png": "[encoded data removed]",
      "text/plain": [
       "<Figure size 1080x576 with 1 Axes>"
      ]
     },
     "metadata": {
      "needs_background": "light"
     },
     "output_type": "display_data"
    }
   ],
   "source": [
    "plt.figure(figsize=(15,8))\n",
    "\n",
    "plt.plot(true_radii, np.log10(true_density),  \".\", label=\"DM data\", color=\"magenta\", markersize=12)\n",
    "plt.plot(radii_pc, np.log10(mean), label=\"median dist\")\n",
    "plt.fill_between(radii_pc, np.log10(lo), np.log10(hi), color=\"gray\", alpha=0.2, label=\"$2\\sigma$\")\n",
    "plt.xscale(\"log\")\n",
    "#plt.ylim(-2,0.5)\n",
    "plt.legend()"
   ]
  },
  {
   "cell_type": "code",
   "execution_count": 41,
   "id": "be958fc5",
   "metadata": {},
   "outputs": [
    {
     "name": "stdout",
     "output_type": "stream",
     "text": [
      "Parametrizing all dark matter profiles in the sample using MGE could that a while. We are using 8 cores, however you can speed up the process by increasing this number by changing the parameter ncores.\n",
      "==========================================\n"
     ]
    }
   ],
   "source": [
    "dm_mass = c.dmMass_3D(R=0.6428154989273108, q=[0.025,0.50,0.975])"
   ]
  },
  {
   "cell_type": "code",
   "execution_count": 42,
   "id": "9d100140",
   "metadata": {},
   "outputs": [
    {
     "data": {
      "text/plain": [
       "9.665735391733742"
      ]
     },
     "execution_count": 42,
     "metadata": {},
     "output_type": "execute_result"
    }
   ],
   "source": [
    "np.log10(dm_mass[1])"
   ]
  },
  {
   "cell_type": "code",
   "execution_count": 43,
   "id": "b0e96cae",
   "metadata": {},
   "outputs": [
    {
     "data": {
      "text/plain": [
       "array([9.73070402, 9.76808413])"
      ]
     },
     "execution_count": 43,
     "metadata": {},
     "output_type": "execute_result"
    }
   ],
   "source": [
    " 9.665735391733742 + np.diff( np.log10(dm_mass) ) "
   ]
  },
  {
   "cell_type": "code",
   "execution_count": 19,
   "id": "aa37a40f",
   "metadata": {},
   "outputs": [],
   "source": [
    "rst1 = c.stellarMass3D_density(save_path=\"./\")"
   ]
  },
  {
   "cell_type": "code",
   "execution_count": 25,
   "id": "dd786b2c",
   "metadata": {},
   "outputs": [],
   "source": [
    "from scipy.stats.mstats import mquantiles\n",
    "\n",
    "\n",
    "# median and 1sigma band\n",
    "mean_ = mquantiles(rst1, 0.5, axis=0)[0]\n",
    "lo_   = mquantiles(rst1, 0.16, axis=0)[0]\n",
    "hi_   = mquantiles(rst1, 0.84, axis=0)[0]\n",
    "\n"
   ]
  },
  {
   "cell_type": "code",
   "execution_count": 26,
   "id": "1ef947b4",
   "metadata": {},
   "outputs": [],
   "source": [
    "radii    = np.arange(0.25, 10, 0.01) # Radii in arcsec\n",
    "\n",
    "pc       = phase.CombinedModel.Jampy_model.distance*np.pi/0.648  # Constant factor to convert arcsec --> pc\n",
    "radii_pc = radii*pc   "
   ]
  },
  {
   "cell_type": "code",
   "execution_count": 27,
   "id": "db640071",
   "metadata": {},
   "outputs": [],
   "source": [
    "dm_hdu = fits.open(data_path+\"/imgs/stellar_density.fits\")\n",
    "true_density = dm_hdu[1].data[\"density\"]\n",
    "true_radii   = dm_hdu[1].data[\"radius\"]\n",
    "\n",
    "i = true_radii < radii_pc.max()\n",
    "\n",
    "true_density = true_density[i]\n",
    "true_radii   = true_radii[i]"
   ]
  },
  {
   "cell_type": "code",
   "execution_count": 28,
   "id": "645deae0",
   "metadata": {},
   "outputs": [
    {
     "data": {
      "text/plain": [
       "<matplotlib.legend.Legend at 0x7f3f29fe8f40>"
      ]
     },
     "execution_count": 28,
     "metadata": {},
     "output_type": "execute_result"
    },
    {
     "data": {
      "image/png": "[encoded data removed]",
      "text/plain": [
       "<Figure size 1080x576 with 1 Axes>"
      ]
     },
     "metadata": {
      "needs_background": "light"
     },
     "output_type": "display_data"
    }
   ],
   "source": [
    "plt.figure(figsize=(15,8))\n",
    "\n",
    "plt.plot(true_radii, np.log10(true_density),  \".\", label=\"DM data\", color=\"magenta\", markersize=12)\n",
    "plt.plot(radii_pc, np.log10(mean_), label=\"median dist\")\n",
    "plt.fill_between(radii_pc, np.log10(lo_), np.log10(hi_), color=\"gray\", alpha=0.2, label=\"$2\\sigma$\")\n",
    "plt.xscale(\"log\")\n",
    "#plt.ylim(-2,0.5)\n",
    "plt.legend()"
   ]
  },
  {
   "cell_type": "code",
   "execution_count": 29,
   "id": "93640746",
   "metadata": {},
   "outputs": [],
   "source": [
    "\n",
    "with open('./dm_density3D_distribution.pickle'.format(phase_name,phase_name),'rb') as f:\n",
    "    dist = pickle.load(f)\n",
    "    f.close()"
   ]
  },
  {
   "cell_type": "code",
   "execution_count": 30,
   "id": "08a385c1",
   "metadata": {},
   "outputs": [],
   "source": [
    "# median and 1sigma band\n",
    "mean_ = mquantiles(dist, 0.5, axis=0)[0]\n",
    "lo_   = mquantiles(dist, 0.16, axis=0)[0]\n",
    "hi_   = mquantiles(dist, 0.84, axis=0)[0]"
   ]
  },
  {
   "cell_type": "code",
   "execution_count": 32,
   "id": "f88f11ee",
   "metadata": {},
   "outputs": [
    {
     "data": {
      "image/png": "[encoded data removed]",
      "text/plain": [
       "<Figure size 1080x576 with 1 Axes>"
      ]
     },
     "metadata": {
      "needs_background": "light"
     },
     "output_type": "display_data"
    }
   ],
   "source": [
    "plt.figure(figsize=(15,8))\n",
    "\n",
    "plt.plot(radii_pc, np.log10(mean), label=\"median dist\")\n",
    "plt.fill_between(radii_pc, np.log10(lo), np.log10(hi), color=\"gray\", alpha=0.2, label=\"$2\\sigma$\")\n",
    "\n",
    "plt.plot(radii_pc, np.log10(mean_), label=\"median_ dist\", color=\"red\")\n",
    "plt.fill_between(radii_pc, np.log10(lo_), np.log10(hi_), color=\"blue\", alpha=0.2, label=\"$2\\sigma$\")\n",
    "\n",
    "plt.xscale(\"log\")"
   ]
  },
  {
   "cell_type": "code",
   "execution_count": null,
   "id": "9fde95a0",
   "metadata": {},
   "outputs": [],
   "source": []
  }
 ],
 "metadata": {
  "kernelspec": {
   "display_name": "Python 3 (ipykernel)",
   "language": "python",
   "name": "python3"
  },
  "language_info": {
   "codemirror_mode": {
    "name": "ipython",
    "version": 3
   },
   "file_extension": ".py",
   "mimetype": "text/x-python",
   "name": "python",
   "nbconvert_exporter": "python",
   "pygments_lexer": "ipython3",
   "version": "3.10.4"
  }
 },
 "nbformat": 4,
 "nbformat_minor": 5
}
