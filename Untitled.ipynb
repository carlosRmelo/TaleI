{
 "cells": [
  {
   "cell_type": "code",
   "execution_count": 1,
   "id": "e37145dd",
   "metadata": {},
   "outputs": [],
   "source": [
    "import os\n",
    "os.environ[\"OMP_NUM_THREADS\"] = \"1\"\n",
    "\n",
    "\n",
    "import sys\n",
    "from optparse import OptionParser\n",
    "import pickle\n",
    "from copy import deepcopy\n",
    "from multiprocessing import Pool\n",
    "\n",
    "\n",
    "from dynesty import NestedSampler\n",
    "from dynesty import plotting as dyplot\n",
    "from dynesty import utils as dyfunc\n",
    "\n",
    "\n",
    "import numpy as np\n",
    "import matplotlib.pyplot as plt\n",
    "from astropy.io import fits\n",
    "\n",
    "plt.rcParams['xtick.labelsize']= 12\n",
    "plt.rcParams['ytick.labelsize']= 12\n",
    "plt.rcParams['font.size']= 12\n",
    "\n",
    "import pickle\n",
    "import json\n",
    "\n",
    "from plotbin.plot_velfield import plot_velfield\n",
    "from plotbin.symmetrize_velfield import symmetrize_velfield\n",
    "from jampy.mge_radial_density import mge_radial_density\n",
    "from jampy.mge_radial_mass import mge_radial_mass\n",
    "from jampy.mge_half_light_isophote import mge_half_light_isophote\n",
    "from astropy import units as u\n",
    "\n",
    "import autolens as al\n",
    "import autolens.plot as aplt\n",
    "\n",
    "from util import quantities2D, quantities3D\n",
    "from dyLens.utils.tools import effective_einstein_radius_from_kappa, mge_radial_mass2d\n",
    "from dyLens.Combined import updt_model\n",
    "\n",
    "from IPython.display import display, Math"
   ]
  },
  {
   "cell_type": "code",
   "execution_count": 2,
   "id": "c4085087",
   "metadata": {},
   "outputs": [],
   "source": [
    "phase_name    = \"phase5\"   # phase to compute the results\n",
    "result_path   = \"./8/model1/\"  #path to the non-linear results\n",
    "data_path     = \"/home/carlosmelo/Documents/GitHub/Illustris/my_illustris/TNG50-1-snap84-subhalo8 (original)/\" #path to the data"
   ]
  },
  {
   "cell_type": "code",
   "execution_count": 8,
   "id": "18bcdafb",
   "metadata": {},
   "outputs": [],
   "source": [
    "with open(result_path+'{}/Final_sampler_{}.pickle'.format(phase_name,phase_name),'rb') as f:\n",
    "    sampler = pickle.load(f)\n",
    "    f.close()\n",
    "    try:\n",
    "        sampler = sampler[\"sampler\"]\n",
    "    except:\n",
    "        sampler = sampler\n",
    "    \n",
    "\n",
    "with open('/home/carlosmelo/Documents/GitHub/TaleI/8/model1/Lens/phase5/{}.pickle'.format(phase_name),'rb') as f:\n",
    "    lens = pickle.load(f)\n",
    "    f.close()\n",
    "    \n",
    "with open('/home/carlosmelo/Documents/GitHub/TaleI/8/model1/Lens/phase5/Final_sampler_phase5.pickle','rb') as f:\n",
    "    sampler_lens = pickle.load(f)\n",
    "    f.close()\n",
    "    try:\n",
    "        sampler_lens = sampler_lens[\"sampler\"]\n",
    "    except:\n",
    "        sampler_lens = sampler_lens\n",
    "    \n",
    "    \n",
    "with open(result_path+'{}/{}.pickle'.format(phase_name,phase_name),'rb') as f:\n",
    "    phase = pickle.load(f)\n",
    "    f.close()\n",
    "    \n",
    "with open(result_path+f'/JAM/JAM_class.pickle','rb') as f:\n",
    "    Jam_model = pickle.load(f)\n",
    "    f.close()\n",
    "\n",
    "with open(result_path+'{}/CombinedModel_{}.pickle'.format(phase_name,phase_name),'rb') as f:\n",
    "    CM = pickle.load(f)\n",
    "    f.close()\n",
    "    \n",
    "with open(result_path+'{}/priors_{}.pickle'.format(phase_name,phase_name),'rb') as f:\n",
    "    priors = pickle.load(f)\n",
    "    f.close()\n"
   ]
  },
  {
   "cell_type": "code",
   "execution_count": 9,
   "id": "8eef2318",
   "metadata": {},
   "outputs": [],
   "source": [
    "fancy_labels = {\n",
    "            \"ml\"   :    r\"$\\Upsilon$\",\n",
    "            \"ml0\"  :    r\"$\\Upsilon_{0}$\",\n",
    "            \"delta\":    r\"$\\delta$\",\n",
    "            \"lower\":    r\"$\\upsilon$\",\n",
    "            \"beta\" :    r\"$\\beta_{z}$\",\n",
    "            \"inc\"  :    r\"$i$\",\n",
    "            \"log_mbh\":  r\"$\\log_{10}M_{\\text{bh}}$\",\n",
    "            \"log_rho_s\":r\"$\\log_{10}\\rho_{s}$\",\n",
    "            \"log_M0\":   r\"$\\log_{10}M_{0}$\",\n",
    "            \"rc\"    :   r\"$r_{c}$\",\n",
    "            \"rs\"    :   r\"$r_{s}$\",\n",
    "            \"qDM\"   :   r\"$q_{\\text{DM}}$\",\n",
    "            \"slope\" :   r\"$\\gamma$\",\n",
    "            \"mag_shear\":r\"$\\Gamma$\",\n",
    "            \"phi_shear\":r\"$\\Gamma_{\\theta}$\",\n",
    "            \"gamma\":    r\"$\\eta$\"    \n",
    "}"
   ]
  },
  {
   "cell_type": "code",
   "execution_count": null,
   "id": "f6b64c4f",
   "metadata": {},
   "outputs": [],
   "source": []
  },
  {
   "cell_type": "code",
   "execution_count": 10,
   "id": "24d0d9bf",
   "metadata": {},
   "outputs": [],
   "source": [
    "class Analysis():\n",
    "    def __init__(self, sampler, dyLens_phase=None, \n",
    "                                Lens_phase=None, \n",
    "                                Jampy_model=None,\n",
    "                                ncores=4):\n",
    "        if (dyLens_phase == None) and (Jampy_model == None) and (Lens_phase == None):\n",
    "            raise ValueError(\"You must provide an object to be analysed.\")\n",
    "        elif (dyLens_phase and Jampy_model) or (dyLens_phase and Lens_phase) or \\\n",
    "                        (Jampy_model and Lens_phase):\n",
    "            raise ValueError(\"You must provide only one object to be analysed.\")\n",
    "        elif dyLens_phase:\n",
    "            print(\"Initializing dyLens analysis.\")\n",
    "            print(\"####################################\\n\")\n",
    "            \n",
    "            self.phase        = deepcopy(dyLens_phase)\n",
    "            self.parsNames    = dyLens_phase.PhPriors.copy()\n",
    "            self.Jampy_model  = None\n",
    "            self.Lens_phase   = None\n",
    "            self.dyLens_phase = True\n",
    "        elif Lens_phase:\n",
    "            print(\"Initializing Lens analysis.\")\n",
    "            print(\"####################################\\n\")\n",
    "            \n",
    "            self.phase        = deepcopy(Lens_phase)\n",
    "            self.parsNames    = Lens_phase.PhPriors.copy()\n",
    "            self.Jampy_model  = None\n",
    "            self.dyLens_phase = None\n",
    "            self.Lens_phase   = True \n",
    "\n",
    "        elif Jampy_model:\n",
    "            print(\"Initializing JAM analysis.\")\n",
    "            print(\"####################################\\n\")\n",
    "            \n",
    "            self.Jampy_model  = deepcopy(Jampy_model)\n",
    "            self.parsNames    = Jampy_model.Priors.copy()\n",
    "            self.phase        = None\n",
    "            self.dyLens_phase = None\n",
    "            self.Lens_phase   = None \n",
    "        \n",
    "        self.ncores = ncores\n",
    "        \n",
    "        sampler.results.summary()\n",
    "        results_sim = dyfunc.jitter_run(dyfunc.resample_run(sampler.results))\n",
    "        self.samples_sim, self.weights = results_sim.samples, results_sim.importance_weights()\n",
    "        self.results_sim = results_sim\n",
    "        self.sampler  = deepcopy(sampler)\n",
    "        self.Nsamples = self.samples_sim.shape[0]\n",
    "        \n",
    "        labels = []\n",
    "        self.parsFiducial = self.parsQuantiles()\n",
    "        \n",
    "        for i, key in enumerate(self.parsNames.keys()):\n",
    "            labels.append( fancy_labels[key] )\n",
    "        self.labels = labels\n",
    "        \n",
    "        print(\"\\nFiducial values and 68% confidence level.\")\n",
    "        print(\"==========================================\")\n",
    "        for i in range(sampler.npdim):\n",
    "            quantiles = list( self.parsFiducial.values() )[i]\n",
    "            txt = \"\\mathrm{{{3}}} = {0:.3f}_{{-{1:.3f}}}^{{{2:.3f}}}\"\n",
    "            lo, hi = np.diff(quantiles)\n",
    "            txt = txt.format(quantiles[1], lo, hi, labels[i])\n",
    "            display(Math(txt))\n",
    "        \n",
    "    def parsQuantiles(self, q=[0.16, 0.5,  0.84]):\n",
    "            # Quantiles for each parameter\n",
    "        quantiles = [dyfunc.quantile(samps, q, weights=self.weights)\n",
    "                    for samps in self.samples_sim.T]            \n",
    "        rst = {}\n",
    "        for i, key in enumerate(self.parsNames.keys()):\n",
    "            rst[key] = np.asarray( quantiles[i] )\n",
    "        \n",
    "        return rst\n",
    "    \n",
    "    def tracerPlot(self, save_path=None,  **kwargs):\n",
    "        fig, axes = dyplot.traceplot(results=self.results_sim,\n",
    "                                     show_titles=True,\n",
    "                                     labels=self.labels, **kwargs\n",
    "                                    )\n",
    "        fig.tight_layout()\n",
    "        if save_path:\n",
    "            plt.savefig(save_path+\"/tracerPlot.png\")\n",
    "            \n",
    "    def cornerPlot(self, save_path=None,  **kwargs):\n",
    "        cfig, caxes, = dyplot.cornerplot(self.results_sim, \n",
    "                                         smooth=0.1,\n",
    "                                         show_titles=True,\n",
    "                                         labels=self.labels,\n",
    "                                    )\n",
    "        cfig.tight_layout()\n",
    "        if save_path:\n",
    "            plt.savefig(save_path+\"/cornerPlot.png\")\n",
    "    \n",
    "    def LensFiducial(self, save_path=None):\n",
    "        if self.Jampy_model:\n",
    "            raise ValueError(\"Jampy model doesn't constrain lensing data.\")\n",
    "        parsRes = self.parsFiducial.copy()  # Parameters median values\n",
    "        for k, v in parsRes.items():\n",
    "            parsRes[k] = float(v[1])\n",
    "        phase_name = self.phase.phase_name\n",
    "        \n",
    "        if phase_name == \"phase1\":\n",
    "            source_ell_comp = al.convert.elliptical_comps_from(axis_ratio=parsRes[\"source_q\"], \n",
    "                                                               angle=parsRes[\"source_phi\"]\n",
    "                                                              )\n",
    "\n",
    "            source_model = al.Galaxy(\n",
    "                redshift=self.phase.CombinedModel.Lens_model.z_s,\n",
    "                light=al.lp.EllSersic(\n",
    "                    centre=(parsRes[\"source_y0\"],parsRes[\"source_x0\"]),\n",
    "                    elliptical_comps=source_ell_comp,\n",
    "                    intensity=parsRes[\"source_intensity\"],\n",
    "                    effective_radius=parsRes[\"source_eff_r\"],\n",
    "                    sersic_index=parsRes[\"source_n_index\"],\n",
    "                ),\n",
    "            )    \n",
    "\n",
    "            self.phase.CombinedModel.source_galaxy(source_model)\n",
    "\n",
    "        else:\n",
    "\n",
    "            adp_pix = self.phase.source_pix(\n",
    "                                        pixels=int(self.phase.parsSource[\"pixels\"]),\n",
    "                                        weight_floor=self.phase.parsSource[\"weight_floor\"],\n",
    "                                        weight_power=self.phase.parsSource[\"weight_power\"]\n",
    "                                        )\n",
    "\n",
    "            adp_reg = self.phase.source_reg(\n",
    "                    inner_coefficient=self.phase.parsSource[\"inner_coefficient\"],\n",
    "                    outer_coefficient=self.phase.parsSource[\"outer_coefficient\"],\n",
    "                    signal_scale=self.phase.parsSource[\"signal_scale\"]\n",
    "                                        )\n",
    "\n",
    "            source_model = al.Galaxy(\n",
    "                                    redshift=self.phase.CombinedModel.Lens_model.z_s,\n",
    "                                    pixelization=adp_pix, regularization=adp_reg,\n",
    "                                    hyper_model_image=self.phase.hyper_image_2d,\n",
    "                                    hyper_galaxy_image=self.phase.hyper_image_2d,\n",
    "                                    )\n",
    "                # Setting the source galaxy model\n",
    "            self.phase.CombinedModel.source_galaxy(source_model=source_model) \n",
    "\n",
    "        self.phase.CombinedModel.quiet = False\n",
    "        self.phase.CombinedModel.Updt_Model(parsRes)\n",
    "\n",
    "        print(\"Generating lensing results. This could take a while.\")\n",
    "            # Config. Pyautolens plots\n",
    "        cmap = aplt.Cmap(cmap=\"rainbow\")\n",
    "        if save_path:\n",
    "            mat_plot_2d_output = aplt.MatPlot2D(\n",
    "                        output=aplt.Output(\n",
    "                            filename=f\"None\",\n",
    "                            path=save_path,\n",
    "                            format=[\"png\",],\n",
    "                            format_folder=True,\n",
    "                        ),\n",
    "                        cmap=cmap)\n",
    "        else:\n",
    "            mat_plot_2d_output = aplt.MatPlot2D(cmap=cmap)\n",
    "        mat_plot_2d =  mat_plot_2d_output\n",
    "            # Make a fit plotter\n",
    "        fit_plotter = aplt.FitImagingPlotter(fit=self.phase.CombinedModel.Fit, \n",
    "                                             mat_plot_2d=mat_plot_2d\n",
    "                                            )\n",
    "\n",
    "        mat_plot_2d.output.filename = \"fit_subplot\"\n",
    "        fit_plotter.subplot_fit_imaging()\n",
    "\n",
    "        mat_plot_2d.output.filename = \"fit_image\"\n",
    "        fit_plotter.figures_2d(image=True)\n",
    "\n",
    "        mat_plot_2d.output.filename = \"fit_model\"\n",
    "        fit_plotter.figures_2d(model_image=True)\n",
    "\n",
    "        mat_plot_2d.output.filename = \"residual\"\n",
    "        fit_plotter.figures_2d(residual_map=True)\n",
    "\n",
    "        mat_plot_2d.output.filename = \"subplot_plane\"\n",
    "        fit_plotter.subplot_of_planes(plane_index=1)\n",
    "\n",
    "        if phase_name == \"phase1\":\n",
    "            pass\n",
    "        else:\n",
    "            # Make a inversion plotter\n",
    "            inversion_plotter = aplt.InversionPlotter(\n",
    "                                            inversion=self.phase.CombinedModel.Fit.inversion, \n",
    "                                            mat_plot_2d=mat_plot_2d)\n",
    "\n",
    "            mat_plot_2d.output.filename = \"reconstruction\"\n",
    "            inversion_plotter.figures_2d_of_mapper(mapper_index=0,\n",
    "                            reconstruction=True)\n",
    "\n",
    "            mat_plot_2d.output.filename = \"subplot_inversion\"\n",
    "            inversion_plotter.subplot_of_mapper(mapper_index=0)\n",
    "    \n",
    "    def DynFiducial(self, save_path=None):\n",
    "        if self.Lens_phase:\n",
    "            raise ValueError(\"Lens model only doesn't constrain dynamical data.\")\n",
    "        \n",
    "        parsRes = self.parsFiducial.copy()  # Parameters median values\n",
    "        for k, v in parsRes.items():\n",
    "            parsRes[k] = float(v[1])\n",
    "        \n",
    "        if self.phase:\n",
    "            self.phase.CombinedModel.Updt_Model(parsRes)\n",
    "            Jampy_model = self.phase.CombinedModel.Jampy_model\n",
    "            rmsModel, ml, chi2, chi2T = Jampy_model._run(plot=False, quiet=True)\n",
    "            \n",
    "        else:\n",
    "            self.Jampy_model.Updt_Model(UpdtparsDic=parsRes)\n",
    "            Jampy_model = self.Jampy_model\n",
    "            rmsModel, ml, chi2, flux  = Jampy_model.run_current(plot=False, quiet=True)\n",
    "        \n",
    "        sym = symmetrize_velfield(xbin=Jampy_model.xbin,\n",
    "                          ybin=Jampy_model.ybin,\n",
    "                          vel_bin=Jampy_model.rms)\n",
    "\n",
    "        plt.figure(figsize=(18,10))\n",
    "        plt.subplot(221)\n",
    "        plot_velfield(x=Jampy_model.xbin,\n",
    "                      y=Jampy_model.ybin,\n",
    "                      vel=Jampy_model.rms, \n",
    "                      colorbar=True,label='km/s',\n",
    "                      cmap=\"rainbow\", markersize=2)\n",
    "        plt.title(r\"Input $V_{\\rm rms}$\")\n",
    "        plt.xlabel(\"x (arcsec)\")\n",
    "        plt.ylabel(\"y (arcsec)\")\n",
    "\n",
    "        plt.subplot(222)\n",
    "        plot_velfield(x=Jampy_model.xbin,\n",
    "                      y=Jampy_model.ybin,\n",
    "                      vel=sym, \n",
    "                      colorbar=True,label='km/s',\n",
    "                      cmap=\"rainbow\",markersize=2)\n",
    "        plt.title(r\"Symmetrized Input\")\n",
    "        plt.xlabel(\"x (arcsec)\")\n",
    "        plt.ylabel(\"y (arcsec)\")\n",
    "\n",
    "        plt.subplot(223)\n",
    "        plot_velfield(x=Jampy_model.xbin,\n",
    "                      y=Jampy_model.ybin,\n",
    "                      vel=rmsModel, \n",
    "                      colorbar=True,label='km/s',\n",
    "                      cmap=\"rainbow\", markersize=2)\n",
    "        plt.title(r\"Model $V_{\\rm rms}$\")\n",
    "        plt.xlabel(\"x (arcsec)\")\n",
    "        plt.ylabel(\"y (arcsec)\")\n",
    "\n",
    "        plt.subplot(224)\n",
    "        residual = 100*abs(Jampy_model.rms-rmsModel)/Jampy_model.rms\n",
    "        plot_velfield(x=Jampy_model.xbin, \n",
    "                      y=Jampy_model.ybin,\n",
    "                      vel=residual,\n",
    "                      colorbar=True, cmap=\"rainbow\",  \n",
    "                      markersize=2, label=\"[%]\")\n",
    "        plt.title(r\"${\\Delta V_{\\rm rms}^{*}}$\")\n",
    "        plt.xlabel(\"x (arcsec)\")\n",
    "        plt.ylabel(\"y (arcsec)\")\n",
    "\n",
    "        plt.subplots_adjust(hspace = -0.85, wspace=-0.55)\n",
    "        plt.tight_layout()\n",
    "\n",
    "        if save_path:\n",
    "            plt.savefig(save_path+\"/dynModel.png\")\n",
    "    \n",
    "    def stellarMass3D_density(self, Rmin=0.25, Rmax=10, step=0.01,\n",
    "                                   save_path=None):\n",
    "        if self.Lens_phase:\n",
    "            raise ValueError(\"Lens model only doesn't constrain 3D data.\")\n",
    "        \n",
    "        if self.phase:\n",
    "            surf_lum  = np.asarray ( self.Nsamples * [self.phase.CombinedModel.Lens_model.surf_lum] )\n",
    "            sigma_lum = np.asarray ( self.Nsamples * [self.phase.CombinedModel.Lens_model.sigma_lum])\n",
    "            qobs_lum  = np.asarray ( self.Nsamples * [self.phase.CombinedModel.Lens_model.qobs_lum] )\n",
    "            distance  = self.phase.CombinedModel.Jampy_model.distance\n",
    "            \n",
    "        else:\n",
    "            surf_lum  = np.asarray ( self.Nsamples * [self.Jampy_model.surf_lum] )\n",
    "            sigma_lum = np.asarray ( self.Nsamples * [self.Jampy_model.sigma_lum])\n",
    "            qobs_lum  = np.asarray ( self.Nsamples * [self.Jampy_model.qobs_lum] )\n",
    "            distance  = self.Jampy_model.distance\n",
    "        \n",
    "        \n",
    "        try:\n",
    "            surf_stellar_mass_dist = self.surf_stellar_mass_dist\n",
    "            \n",
    "        except:\n",
    "                # ml sample distribution. One ML per gaussian in surf lum\n",
    "            idx_ml  = list(self.parsNames.keys()).index(\"ml\")  # ML index\n",
    "            ml_dist = np.asarray ( surf_lum.shape[1] * [self.samples_sim[:,idx_ml]] ).T\n",
    "                # one surf stellar mass MGE for each ml in the sample\n",
    "            surf_stellar_mass_dist      = ml_dist * surf_lum\n",
    "            self.surf_stellar_mass_dist = surf_stellar_mass_dist\n",
    "            \n",
    "            # inc sample distribution. One inc per gaussian in surf lum\n",
    "        idx_inc = list(self.parsNames.keys()).index(\"inc\") # inc index\n",
    "        inc_dist = np.asarray ( surf_lum.shape[1] * [self.samples_sim[:,idx_inc]] ).T\n",
    "        \n",
    "        radii = np.arange(Rmin, Rmax, step)\n",
    "        stellarMass3D_density_dist = []\n",
    "        for i in range(self.Nsamples):\n",
    "            stellarMass3D_density_dist.append( mge_radial_density(\n",
    "                                surf_stellar_mass_dist[i], \n",
    "                                sigma_lum[i], qobs_lum[i],\n",
    "                                inc_dist[i][0], \n",
    "                                radii, distance\n",
    "                                )             \n",
    "                            )\n",
    "        if save_path:\n",
    "            with  open(save_path+\"/stellar_density3D_distribution.pickle\",'wb') as f:\n",
    "                pickle.dump(stellarMass3D_density_dist, f)\n",
    "                f.close()\n",
    "            \n",
    "        self.stellarMass3D_density_dist = stellarMass3D_density_dist\n",
    "        return stellarMass3D_density_dist\n",
    "\n",
    "    def stellarMass_3D(self, R, q=[0.16, 0.5,  0.84], save_path=None):\n",
    "        if self.Lens_phase:\n",
    "            raise ValueError(\"Lens model only doesn't constrain 3D data.\")\n",
    "        \n",
    "        if self.phase:\n",
    "            surf_lum  = np.asarray ( self.Nsamples * [self.phase.CombinedModel.Lens_model.surf_lum] )\n",
    "            sigma_lum = np.asarray ( self.Nsamples * [self.phase.CombinedModel.Lens_model.sigma_lum])\n",
    "            qobs_lum  = np.asarray ( self.Nsamples * [self.phase.CombinedModel.Lens_model.qobs_lum] )\n",
    "            distance  = self.phase.CombinedModel.Jampy_model.distance\n",
    "            \n",
    "        else:\n",
    "            surf_lum  = np.asarray ( self.Nsamples * [self.Jampy_model.surf_lum] )\n",
    "            sigma_lum = np.asarray ( self.Nsamples * [self.Jampy_model.sigma_lum])\n",
    "            qobs_lum  = np.asarray ( self.Nsamples * [self.Jampy_model.qobs_lum] )\n",
    "            distance  = self.Jampy_model.distance\n",
    "        \n",
    "        try:\n",
    "            surf_stellar_mass_dist = self.surf_stellar_mass_dist\n",
    "            \n",
    "        except:\n",
    "                # ml sample distribution. One ML per gaussian in surf lum\n",
    "            idx_ml  = list(self.parsNames.keys()).index(\"ml\")  # ML index\n",
    "            ml_dist = np.asarray ( surf_lum.shape[1] * [self.samples_sim[:,idx_ml]] ).T\n",
    "                # one surf stellar mass MGE for each ml in the sample\n",
    "            surf_stellar_mass_dist      = ml_dist * surf_lum\n",
    "            self.surf_stellar_mass_dist = surf_stellar_mass_dist\n",
    "        \n",
    "            # inc sample distribution. One inc per gaussian in surf lum\n",
    "        idx_inc = list(self.parsNames.keys()).index(\"inc\") # inc index\n",
    "        inc_dist = np.asarray ( surf_lum.shape[1] * [self.samples_sim[:,idx_inc]] ).T \n",
    "\n",
    "        R = np.asarray( [R] * self.Nsamples )\n",
    "\n",
    "        stellar_mass3D_dist = mge_radial_mass(\n",
    "                                            surf_stellar_mass_dist, \n",
    "                                            sigma_lum, qobs_lum,\n",
    "                                            inc_dist, R, \n",
    "                                            distance\n",
    "                                            )\n",
    "        \n",
    "        stellar_mass3D_dist = np.asarray( stellar_mass3D_dist )\n",
    "        Mstar_3D = dyfunc.quantile(stellar_mass3D_dist, q, weights=self.weights)\n",
    "        \n",
    "        if save_path:\n",
    "             with  open(save_path+\"/stellar_Mass3D_distribution.pickle\",'wb') as f:\n",
    "                pickle.dump(stellar_mass3D_dist, f)\n",
    "                f.close()\n",
    "        self.Mstar_3D = Mstar_3D\n",
    "        self.stellar_mass3D_dist = stellar_mass3D_dist\n",
    "        return Mstar_3D\n",
    "    \n",
    "    def dmMass3D_density(self, Rmin=0.25, Rmax=10, step=0.01,\n",
    "                                   save_path=None):\n",
    "        if self.Lens_phase:\n",
    "            raise ValueError(\"Lens model only doesn't constrain dynamical data.\")\n",
    "\n",
    "        print(\"Parametrizing all dark matter profiles in the sample \"+\n",
    "        \"using MGE could that a while. We are using {:.0f} cores, however \".format(self.ncores)+\n",
    "        \"you can speed up the process by increasing this number \"+\n",
    "        \"by changing the parameter ncores.\")\n",
    "        print(\"==========================================\")\n",
    "        \n",
    "        if self.phase:\n",
    "            fit_function = self.phase.CombinedModel.mgeDM.fit\n",
    "            distance  = self.phase.CombinedModel.Jampy_model.distance            \n",
    "        else:\n",
    "            fit_function = self.Jampy_model.mgeDM.fit\n",
    "            distance  = self.Jampy_model.distance\n",
    "        \n",
    "        try:\n",
    "            surf_DM_mge_dist  = self.surf_DM_mge_dist\n",
    "            sigma_DM_mge_dist = self.sigma_DM_mge_dist\n",
    "            qobs_DM_mge_dist  = self.qobs_DM_mge_dist\n",
    "        \n",
    "        except:\n",
    "            idx_rho_s  = list(self.parsNames.keys()).index(\"log_rho_s\") # log_rho_s index\n",
    "            idx_r_s    = list(self.parsNames.keys()).index(\"rs\")        # rs index\n",
    "            idx_slope  = list(self.parsNames.keys()).index(\"slope\")     # slope index\n",
    "            \n",
    "            rho_s = 10 ** self.samples_sim[:,idx_rho_s]\n",
    "            r_s   = self.samples_sim[:,idx_r_s]\n",
    "            slope = self.samples_sim[:,idx_slope]\n",
    "\n",
    "            pars = np.vstack([rho_s, r_s, slope]).T\n",
    "\n",
    "            surf_DM_mge_dist  = []\n",
    "            sigma_DM_mge_dist = []\n",
    "\n",
    "            with Pool(self.ncores) as p:\n",
    "                surf_DM_mge_dist, sigma_DM_mge_dist = zip(*p.starmap(fit_function, pars))\n",
    "                p.close()\n",
    "                p.join()\n",
    "            surf_DM_mge_dist  = np.asarray( surf_DM_mge_dist )\n",
    "            sigma_DM_mge_dist = np.asarray( sigma_DM_mge_dist )\n",
    "            qobs_DM_mge_dist  = np.full_like( surf_DM_mge_dist, 1 )\n",
    "\n",
    "            self.surf_DM_mge_dist  = surf_DM_mge_dist\n",
    "            self.sigma_DM_mge_dist = sigma_DM_mge_dist\n",
    "            self.qobs_DM_mge_dist  = qobs_DM_mge_dist\n",
    "    \n",
    "        idx_inc = list(self.parsNames.keys()).index(\"inc\") # inc index\n",
    "        inc_dist = np.asarray( surf_DM_mge_dist.shape[1] * [self.samples_sim[:,idx_inc]] ).T \n",
    "        radii = np.arange(Rmin, Rmax, step)\n",
    "        dmMass3D_density_dist = []\n",
    "        for i in range(self.Nsamples):\n",
    "            dmMass3D_density_dist.append( mge_radial_density(\n",
    "                                surf_DM_mge_dist[i], \n",
    "                                sigma_DM_mge_dist[i], qobs_DM_mge_dist[i],\n",
    "                                inc_dist[i][0], \n",
    "                                radii, distance\n",
    "                                )\n",
    "\n",
    "                            )\n",
    "        if save_path:\n",
    "            with  open(save_path+\"/dm_density3D_distribution.pickle\",'wb') as f:\n",
    "                pickle.dump(dmMass3D_density_dist, f)\n",
    "                f.close()\n",
    "\n",
    "        self.dmMass3D_density_dist = dmMass3D_density_dist\n",
    "\n",
    "        return dmMass3D_density_dist\n",
    "    \n",
    "    def dmMass_3D(self, R, q=[0.16, 0.5,  0.84], save_path=None):\n",
    "        if self.Lens_phase:\n",
    "            raise ValueError(\"Lens model only doesn't constrain dynamical data.\")\n",
    "\n",
    "        print(\"Parametrizing all dark matter profiles in the sample \"+\n",
    "        \"using MGE could that a while. We are using {:.0f} cores, however \".format(self.ncores)+\n",
    "        \"you can speed up the process by increasing this number \"+\n",
    "        \"by changing the parameter ncores.\")\n",
    "        print(\"==========================================\")\n",
    "\n",
    "        if self.phase:\n",
    "            fit_function = self.phase.CombinedModel.mgeDM.fit\n",
    "            distance  = self.phase.CombinedModel.Jampy_model.distance            \n",
    "        else:\n",
    "            fit_function = self.Jampy_model.mgeDM.fit\n",
    "            distance  = self.Jampy_model.distance\n",
    "        \n",
    "        try:\n",
    "            surf_DM_mge_dist  = self.surf_DM_mge_dist\n",
    "            sigma_DM_mge_dist = self.sigma_DM_mge_dist\n",
    "            qobs_DM_mge_dist  = self.qobs_DM_mge_dist\n",
    "        \n",
    "        except:\n",
    "            \n",
    "            idx_rho_s  = list(self.parsNames.keys()).index(\"log_rho_s\") # log_rho_s index\n",
    "            idx_r_s    = list(self.parsNames.keys()).index(\"rs\")        # rs index\n",
    "            idx_slope  = list(self.parsNames.keys()).index(\"slope\")     # slope index\n",
    "            \n",
    "            rho_s = 10 ** self.samples_sim[:,idx_rho_s]\n",
    "            r_s   = self.samples_sim[:,idx_r_s]\n",
    "            slope = self.samples_sim[:,idx_slope]\n",
    "\n",
    "            pars = np.vstack([rho_s, r_s, slope]).T\n",
    "\n",
    "            surf_DM_mge_dist  = []\n",
    "            sigma_DM_mge_dist = []\n",
    "\n",
    "            with Pool(self.ncores) as p:\n",
    "                surf_DM_mge_dist, sigma_DM_mge_dist = zip(*p.starmap(fit_function, pars))\n",
    "                p.close()\n",
    "                p.join()\n",
    "            surf_DM_mge_dist  = np.asarray( surf_DM_mge_dist )\n",
    "            sigma_DM_mge_dist = np.asarray( sigma_DM_mge_dist )\n",
    "            qobs_DM_mge_dist  = np.full_like( surf_DM_mge_dist, 1 )\n",
    "\n",
    "            self.surf_DM_mge_dist  = surf_DM_mge_dist\n",
    "            self.sigma_DM_mge_dist = sigma_DM_mge_dist\n",
    "            self.qobs_DM_mge_dist  = qobs_DM_mge_dist\n",
    "        \n",
    "        idx_inc = list(self.parsNames.keys()).index(\"inc\") # inc index\n",
    "        inc_dist = np.asarray( surf_DM_mge_dist.shape[1] * [self.samples_sim[:,idx_inc]] ).T \n",
    "        R = np.asarray( [R] * self.Nsamples )\n",
    "        dm_mass3D_dist = mge_radial_mass(\n",
    "                                    surf_DM_mge_dist, \n",
    "                                    sigma_DM_mge_dist, qobs_DM_mge_dist,\n",
    "                                    inc_dist, R, \n",
    "                                    distance\n",
    "                                    )\n",
    "        dm_mass3D_dist = np.asarray( dm_mass3D_dist )\n",
    "        Mdm_3D = dyfunc.quantile(dm_mass3D_dist, q, weights=self.weights)\n",
    "        \n",
    "        if save_path:\n",
    "             with  open(save_path+\"/dm_Mass3D_distribution.pickle\",'wb') as f:\n",
    "                pickle.dump(dm_mass3D_dist, f)\n",
    "                f.close()\n",
    "        \n",
    "        self.Mdm_3D = Mdm_3D\n",
    "        self.dm_mass3D_dist = dm_mass3D_dist\n",
    "        return Mdm_3D\n",
    "    \n",
    "    def stellarMass_2D(self, R, q=[0.16, 0.5,  0.84], save_path=None):\n",
    "        \n",
    "        if self.phase:\n",
    "            surf_lum  = np.asarray ( self.Nsamples * [self.phase.CombinedModel.Lens_model.surf_lum] )\n",
    "            sigma_lum = np.asarray ( self.Nsamples * [self.phase.CombinedModel.Lens_model.sigma_lum])\n",
    "            qobs_lum  = np.asarray ( self.Nsamples * [self.phase.CombinedModel.Lens_model.qobs_lum] )\n",
    "            if self.dyLens_phase:\n",
    "                distance = self.phase.CombinedModel.Jampy_model.distance\n",
    "            else: # Lens model only\n",
    "                distance = self.phase.CombinedModel.cosmology.angular_diameter_distance(\n",
    "                            self.phase.CombinedModel.Lens_model.z_l).value\n",
    "            \n",
    "        else:\n",
    "            surf_lum  = np.asarray ( self.Nsamples * [self.Jampy_model.surf_lum] )\n",
    "            sigma_lum = np.asarray ( self.Nsamples * [self.Jampy_model.sigma_lum])\n",
    "            qobs_lum  = np.asarray ( self.Nsamples * [self.Jampy_model.qobs_lum] )\n",
    "            distance  = self.Jampy_model.distance\n",
    "        \n",
    "        try:\n",
    "            surf_stellar_mass_dist = self.surf_stellar_mass_dist\n",
    "            \n",
    "        except:\n",
    "                # ml sample distribution. One ML per gaussian in surf lum\n",
    "            idx_ml  = list(self.parsNames.keys()).index(\"ml\")  # ML index\n",
    "            ml_dist = np.asarray ( surf_lum.shape[1] * [self.samples_sim[:,idx_ml]] ).T\n",
    "                # one surf stellar mass MGE for each ml in the sample\n",
    "            surf_stellar_mass_dist      = ml_dist * surf_lum\n",
    "            self.surf_stellar_mass_dist = surf_stellar_mass_dist\n",
    "        \n",
    "        a = np.asarray( [0] * self.Nsamples )\n",
    "        R = np.asarray( [R] * self.Nsamples )\n",
    "        \n",
    "        stellar_mass2D_dist = mge_radial_mass2d(\n",
    "                                            surf_stellar_mass_dist, \n",
    "                                            sigma_lum, qobs_lum,\n",
    "                                            a=a, b=R, distance=distance)\n",
    "        \n",
    "        stellar_mass2D_dist = np.asarray( stellar_mass2D_dist )\n",
    "        Mstar_2d = dyfunc.quantile(stellar_mass2D_dist, q, weights=self.weights)\n",
    "        \n",
    "        if save_path:\n",
    "             with  open(save_path+\"/stellar_Mass2D_distribution.pickle\",'wb') as f:\n",
    "                pickle.dump(stellar_mass2D_dist, f)\n",
    "                f.close()\n",
    "        self.Mstar_2d = Mstar_2d\n",
    "        self.stellar_mass2D_dist = stellar_mass2D_dist\n",
    "        \n",
    "        return Mstar_2d\n",
    "    \n",
    "    def dmMass_2D(self, R, q=[0.16, 0.5,  0.84], save_path=None):\n",
    "        \n",
    "        print(\"Parametrizing all dark matter profiles in the sample \"+\n",
    "        \"using MGE could that a while. We are using {:.0f} cores, however \".format(self.ncores)+\n",
    "        \"you can speed up the process by increasing this number \"+\n",
    "        \"by changing the parameter ncores.\")\n",
    "        print(\"==========================================\")\n",
    "\n",
    "        if self.phase:\n",
    "            if self.dyLens_phase:\n",
    "\n",
    "                fit_function = self.phase.CombinedModel.mgeDM.fit\n",
    "                distance  = self.phase.CombinedModel.Jampy_model.distance  \n",
    "            else: # Just lens model\n",
    "                self.phase.CombinedModel.include_DM_MGE(\n",
    "                                self.phase.CombinedModel.dm_profile_name\n",
    "                                )\n",
    "                fit_function = self.phase.CombinedModel.mgeDM.fit\n",
    "                distance = self.phase.CombinedModel.cosmology.angular_diameter_distance(\n",
    "                            self.phase.CombinedModel.Lens_model.z_l).value\n",
    "\n",
    "        else:\n",
    "            fit_function = self.Jampy_model.mgeDM.fit\n",
    "            distance  = self.Jampy_model.distance\n",
    "        \n",
    "        try:\n",
    "            surf_DM_mge_dist  = self.surf_DM_mge_dist\n",
    "            sigma_DM_mge_dist = self.sigma_DM_mge_dist\n",
    "            qobs_DM_mge_dist  = self.qobs_DM_mge_dist\n",
    "        \n",
    "        except:\n",
    "            \n",
    "            idx_rho_s  = list(self.parsNames.keys()).index(\"log_rho_s\") # log_rho_s index\n",
    "            idx_r_s    = list(self.parsNames.keys()).index(\"rs\")        # rs index\n",
    "            idx_slope  = list(self.parsNames.keys()).index(\"slope\")     # slope index\n",
    "            \n",
    "            rho_s = 10 ** self.samples_sim[:,idx_rho_s]\n",
    "            r_s   = self.samples_sim[:,idx_r_s]\n",
    "            slope = self.samples_sim[:,idx_slope]\n",
    "\n",
    "            pars = np.vstack([rho_s, r_s, slope]).T\n",
    "\n",
    "            surf_DM_mge_dist  = []\n",
    "            sigma_DM_mge_dist = []\n",
    "\n",
    "            with Pool(self.ncores) as p:\n",
    "                surf_DM_mge_dist, sigma_DM_mge_dist = zip(*p.starmap(fit_function, pars))\n",
    "                p.close()\n",
    "                p.join()\n",
    "            surf_DM_mge_dist  = np.asarray( surf_DM_mge_dist )\n",
    "            sigma_DM_mge_dist = np.asarray( sigma_DM_mge_dist )\n",
    "            qobs_DM_mge_dist  = np.full_like( surf_DM_mge_dist, 1 )\n",
    "\n",
    "            self.surf_DM_mge_dist  = surf_DM_mge_dist\n",
    "            self.sigma_DM_mge_dist = sigma_DM_mge_dist\n",
    "            self.qobs_DM_mge_dist  = qobs_DM_mge_dist\n",
    "        \n",
    "        a = np.asarray( [0] * self.Nsamples )\n",
    "        R = np.asarray( [R] * self.Nsamples )\n",
    "        \n",
    "        dm_mass2D_dist = mge_radial_mass2d(\n",
    "                                        surf_DM_mge_dist, \n",
    "                                        sigma_DM_mge_dist, qobs_DM_mge_dist,\n",
    "                                        a=a, b=R, distance=distance)\n",
    "        \n",
    "        dm_mass2D_dist = np.asarray( dm_mass2D_dist )\n",
    "        Mdm_2d = dyfunc.quantile(dm_mass2D_dist, q, weights=self.weights)\n",
    "        \n",
    "        if save_path:\n",
    "             with  open(save_path+\"/dm_Mass2D_distribution.pickle\",'wb') as f:\n",
    "                pickle.dump(dm_mass2D_dist, f)\n",
    "                f.close()\n",
    "        self.Mdm_2d = Mdm_2d\n",
    "        self.dm_mass2D_dist = dm_mass2D_dist\n",
    "        \n",
    "        return Mdm_2d"
   ]
  },
  {
   "cell_type": "code",
   "execution_count": 36,
   "id": "87374af0",
   "metadata": {},
   "outputs": [
    {
     "name": "stdout",
     "output_type": "stream",
     "text": [
      "Initializing dyLens analysis.\n",
      "####################################\n",
      "\n",
      "Summary\n",
      "=======\n",
      "nlive: 500\n",
      "niter: 3864\n",
      "ncall: 50100\n",
      "eff(%):  8.711\n",
      "logz: 5430.706 +/-  0.134\n",
      "\n",
      "Fiducial values and 68% confidence level.\n",
      "==========================================\n"
     ]
    },
    {
     "data": {
      "text/latex": [
       "$\\displaystyle \\mathrm{$i$} = 82.185_{-3.168}^{4.540}$"
      ],
      "text/plain": [
       "<IPython.core.display.Math object>"
      ]
     },
     "metadata": {},
     "output_type": "display_data"
    },
    {
     "data": {
      "text/latex": [
       "$\\displaystyle \\mathrm{$\\beta_{z}$} = -0.018_{-0.023}^{0.025}$"
      ],
      "text/plain": [
       "<IPython.core.display.Math object>"
      ]
     },
     "metadata": {},
     "output_type": "display_data"
    },
    {
     "data": {
      "text/latex": [
       "$\\displaystyle \\mathrm{$\\Upsilon$} = 2.357_{-0.151}^{0.090}$"
      ],
      "text/plain": [
       "<IPython.core.display.Math object>"
      ]
     },
     "metadata": {},
     "output_type": "display_data"
    },
    {
     "data": {
      "text/latex": [
       "$\\displaystyle \\mathrm{$\\log_{10}\\rho_{s}$} = -2.200_{-0.069}^{0.076}$"
      ],
      "text/plain": [
       "<IPython.core.display.Math object>"
      ]
     },
     "metadata": {},
     "output_type": "display_data"
    },
    {
     "data": {
      "text/latex": [
       "$\\displaystyle \\mathrm{$r_{s}$} = 14.677_{-1.666}^{0.918}$"
      ],
      "text/plain": [
       "<IPython.core.display.Math object>"
      ]
     },
     "metadata": {},
     "output_type": "display_data"
    },
    {
     "data": {
      "text/latex": [
       "$\\displaystyle \\mathrm{$\\gamma$} = 0.826_{-0.031}^{0.063}$"
      ],
      "text/plain": [
       "<IPython.core.display.Math object>"
      ]
     },
     "metadata": {},
     "output_type": "display_data"
    }
   ],
   "source": [
    "c = Analysis(sampler=sampler, dyLens_phase=phase, ncores=8)"
   ]
  },
  {
   "cell_type": "code",
   "execution_count": 37,
   "id": "dbbe92c2",
   "metadata": {},
   "outputs": [],
   "source": [
    "d = c.stellarMass3D_density()"
   ]
  },
  {
   "cell_type": "code",
   "execution_count": 42,
   "id": "2c080552",
   "metadata": {},
   "outputs": [
    {
     "data": {
      "text/plain": [
       "(4380, 975)"
      ]
     },
     "execution_count": 42,
     "metadata": {},
     "output_type": "execute_result"
    }
   ],
   "source": [
    "d= np.asarray(d)\n",
    "\n",
    "d.shape"
   ]
  },
  {
   "cell_type": "code",
   "execution_count": 12,
   "id": "3431f12c",
   "metadata": {},
   "outputs": [],
   "source": [
    "stellarMass_2d = c.stellarMass_2D(R=1.3618855704163972)"
   ]
  },
  {
   "cell_type": "code",
   "execution_count": 16,
   "id": "1034f14b",
   "metadata": {},
   "outputs": [
    {
     "data": {
      "text/plain": [
       "array([10.49970337, 10.51369376, 10.53457622])"
      ]
     },
     "execution_count": 16,
     "metadata": {},
     "output_type": "execute_result"
    }
   ],
   "source": [
    "np.log10( stellarMass_2d )"
   ]
  },
  {
   "cell_type": "code",
   "execution_count": 17,
   "id": "5b3f1805",
   "metadata": {},
   "outputs": [
    {
     "data": {
      "text/plain": [
       "array([0.01399038, 0.02088247])"
      ]
     },
     "execution_count": 17,
     "metadata": {},
     "output_type": "execute_result"
    }
   ],
   "source": [
    "np.diff( np.log10( stellarMass_2d ))"
   ]
  },
  {
   "cell_type": "code",
   "execution_count": 18,
   "id": "7faba9b7",
   "metadata": {},
   "outputs": [
    {
     "name": "stdout",
     "output_type": "stream",
     "text": [
      "Parametrizing all dark matter profiles in the sample using MGE could that a while. We are using 8 cores, however you can speed up the process by increasing this number by changing the parameter ncores.\n",
      "==========================================\n",
      "MGE Dark matter component included!!\n"
     ]
    }
   ],
   "source": [
    "dmMass_2d = c.dmMass_2D(R=1.3618855704163972)"
   ]
  },
  {
   "cell_type": "code",
   "execution_count": 19,
   "id": "081bd80e",
   "metadata": {},
   "outputs": [
    {
     "data": {
      "text/plain": [
       "array([10.82804797, 10.86262762, 10.88030561])"
      ]
     },
     "execution_count": 19,
     "metadata": {},
     "output_type": "execute_result"
    }
   ],
   "source": [
    "np.log10( dmMass_2d )"
   ]
  },
  {
   "cell_type": "code",
   "execution_count": 20,
   "id": "e1efe655",
   "metadata": {},
   "outputs": [
    {
     "data": {
      "text/plain": [
       "array([0.03457965, 0.01767799])"
      ]
     },
     "execution_count": 20,
     "metadata": {},
     "output_type": "execute_result"
    }
   ],
   "source": [
    "np.diff( np.log10( dmMass_2d ))"
   ]
  },
  {
   "cell_type": "code",
   "execution_count": 21,
   "id": "69f60da2",
   "metadata": {},
   "outputs": [
    {
     "data": {
      "text/plain": [
       "(array([  16.,   66.,  151.,  223.,  867., 3266.,  534.,   79.,   31.,\n",
       "          13.]),\n",
       " array([10.22337355, 10.3327458 , 10.44211806, 10.55149031, 10.66086257,\n",
       "        10.77023482, 10.87960708, 10.98897934, 11.09835159, 11.20772385,\n",
       "        11.3170961 ]),\n",
       " <BarContainer object of 10 artists>)"
      ]
     },
     "execution_count": 21,
     "metadata": {},
     "output_type": "execute_result"
    },
    {
     "data": {
      "image/png": "[encoded data removed]",
      "text/plain": [
       "<Figure size 432x288 with 1 Axes>"
      ]
     },
     "metadata": {
      "needs_background": "light"
     },
     "output_type": "display_data"
    }
   ],
   "source": [
    "plt.hist(np.log10(c.dm_mass2D_dist))"
   ]
  },
  {
   "cell_type": "code",
   "execution_count": 22,
   "id": "cf1f4180",
   "metadata": {},
   "outputs": [
    {
     "ename": "ValueError",
     "evalue": "Lens model only doesn't constrain dynamical data.",
     "output_type": "error",
     "traceback": [
      "\u001b[0;31m---------------------------------------------------------------------------\u001b[0m",
      "\u001b[0;31mValueError\u001b[0m                                Traceback (most recent call last)",
      "Input \u001b[0;32mIn [22]\u001b[0m, in \u001b[0;36m<cell line: 2>\u001b[0;34m()\u001b[0m\n\u001b[1;32m      1\u001b[0m radii    \u001b[38;5;241m=\u001b[39m np\u001b[38;5;241m.\u001b[39marange(\u001b[38;5;241m0.25\u001b[39m, \u001b[38;5;241m10\u001b[39m, \u001b[38;5;241m0.01\u001b[39m) \u001b[38;5;66;03m# Radii in arcsec\u001b[39;00m\n\u001b[0;32m----> 2\u001b[0m rst \u001b[38;5;241m=\u001b[39m \u001b[43mc\u001b[49m\u001b[38;5;241;43m.\u001b[39;49m\u001b[43mdmMass3D_density\u001b[49m\u001b[43m(\u001b[49m\u001b[43mRmin\u001b[49m\u001b[38;5;241;43m=\u001b[39;49m\u001b[38;5;241;43m0.25\u001b[39;49m\u001b[43m,\u001b[49m\u001b[43m \u001b[49m\u001b[43mRmax\u001b[49m\u001b[38;5;241;43m=\u001b[39;49m\u001b[38;5;241;43m10\u001b[39;49m\u001b[43m)\u001b[49m\n",
      "Input \u001b[0;32mIn [10]\u001b[0m, in \u001b[0;36mAnalysis.dmMass3D_density\u001b[0;34m(self, Rmin, Rmax, step, save_path)\u001b[0m\n\u001b[1;32m    368\u001b[0m \u001b[38;5;28;01mdef\u001b[39;00m \u001b[38;5;21mdmMass3D_density\u001b[39m(\u001b[38;5;28mself\u001b[39m, Rmin\u001b[38;5;241m=\u001b[39m\u001b[38;5;241m0.25\u001b[39m, Rmax\u001b[38;5;241m=\u001b[39m\u001b[38;5;241m10\u001b[39m, step\u001b[38;5;241m=\u001b[39m\u001b[38;5;241m0.01\u001b[39m,\n\u001b[1;32m    369\u001b[0m                                save_path\u001b[38;5;241m=\u001b[39m\u001b[38;5;28;01mNone\u001b[39;00m):\n\u001b[1;32m    370\u001b[0m     \u001b[38;5;28;01mif\u001b[39;00m \u001b[38;5;28mself\u001b[39m\u001b[38;5;241m.\u001b[39mLens_phase:\n\u001b[0;32m--> 371\u001b[0m         \u001b[38;5;28;01mraise\u001b[39;00m \u001b[38;5;167;01mValueError\u001b[39;00m(\u001b[38;5;124m\"\u001b[39m\u001b[38;5;124mLens model only doesn\u001b[39m\u001b[38;5;124m'\u001b[39m\u001b[38;5;124mt constrain dynamical data.\u001b[39m\u001b[38;5;124m\"\u001b[39m)\n\u001b[1;32m    373\u001b[0m     \u001b[38;5;28mprint\u001b[39m(\u001b[38;5;124m\"\u001b[39m\u001b[38;5;124mParametrizing all dark matter profiles in the sample \u001b[39m\u001b[38;5;124m\"\u001b[39m\u001b[38;5;241m+\u001b[39m\n\u001b[1;32m    374\u001b[0m     \u001b[38;5;124m\"\u001b[39m\u001b[38;5;124musing MGE could that a while. We are using \u001b[39m\u001b[38;5;132;01m{:.0f}\u001b[39;00m\u001b[38;5;124m cores, however \u001b[39m\u001b[38;5;124m\"\u001b[39m\u001b[38;5;241m.\u001b[39mformat(\u001b[38;5;28mself\u001b[39m\u001b[38;5;241m.\u001b[39mncores)\u001b[38;5;241m+\u001b[39m\n\u001b[1;32m    375\u001b[0m     \u001b[38;5;124m\"\u001b[39m\u001b[38;5;124myou can speed up the process by increasing this number \u001b[39m\u001b[38;5;124m\"\u001b[39m\u001b[38;5;241m+\u001b[39m\n\u001b[1;32m    376\u001b[0m     \u001b[38;5;124m\"\u001b[39m\u001b[38;5;124mby changing the parameter ncores.\u001b[39m\u001b[38;5;124m\"\u001b[39m)\n\u001b[1;32m    377\u001b[0m     \u001b[38;5;28mprint\u001b[39m(\u001b[38;5;124m\"\u001b[39m\u001b[38;5;124m==========================================\u001b[39m\u001b[38;5;124m\"\u001b[39m)\n",
      "\u001b[0;31mValueError\u001b[0m: Lens model only doesn't constrain dynamical data."
     ]
    }
   ],
   "source": [
    "radii    = np.arange(0.25, 10, 0.01) # Radii in arcsec\n",
    "rst = c.dmMass3D_density(Rmin=0.25, Rmax=10)"
   ]
  },
  {
   "cell_type": "code",
   "execution_count": 23,
   "id": "06dfbb7a",
   "metadata": {},
   "outputs": [
    {
     "ename": "NameError",
     "evalue": "name 'rst' is not defined",
     "output_type": "error",
     "traceback": [
      "\u001b[0;31m---------------------------------------------------------------------------\u001b[0m",
      "\u001b[0;31mNameError\u001b[0m                                 Traceback (most recent call last)",
      "Input \u001b[0;32mIn [23]\u001b[0m, in \u001b[0;36m<cell line: 5>\u001b[0;34m()\u001b[0m\n\u001b[1;32m      1\u001b[0m \u001b[38;5;28;01mfrom\u001b[39;00m \u001b[38;5;21;01mscipy\u001b[39;00m\u001b[38;5;21;01m.\u001b[39;00m\u001b[38;5;21;01mstats\u001b[39;00m\u001b[38;5;21;01m.\u001b[39;00m\u001b[38;5;21;01mmstats\u001b[39;00m \u001b[38;5;28;01mimport\u001b[39;00m mquantiles\n\u001b[1;32m      4\u001b[0m \u001b[38;5;66;03m# median and 1sigma band\u001b[39;00m\n\u001b[0;32m----> 5\u001b[0m mean \u001b[38;5;241m=\u001b[39m mquantiles(\u001b[43mrst\u001b[49m, \u001b[38;5;241m0.5\u001b[39m, axis\u001b[38;5;241m=\u001b[39m\u001b[38;5;241m0\u001b[39m)[\u001b[38;5;241m0\u001b[39m]\n\u001b[1;32m      6\u001b[0m lo   \u001b[38;5;241m=\u001b[39m mquantiles(rst, \u001b[38;5;241m0.16\u001b[39m, axis\u001b[38;5;241m=\u001b[39m\u001b[38;5;241m0\u001b[39m)[\u001b[38;5;241m0\u001b[39m]\n\u001b[1;32m      7\u001b[0m hi   \u001b[38;5;241m=\u001b[39m mquantiles(rst, \u001b[38;5;241m0.84\u001b[39m, axis\u001b[38;5;241m=\u001b[39m\u001b[38;5;241m0\u001b[39m)[\u001b[38;5;241m0\u001b[39m]\n",
      "\u001b[0;31mNameError\u001b[0m: name 'rst' is not defined"
     ]
    }
   ],
   "source": [
    "from scipy.stats.mstats import mquantiles\n",
    "\n",
    "\n",
    "# median and 1sigma band\n",
    "mean = mquantiles(rst, 0.5, axis=0)[0]\n",
    "lo   = mquantiles(rst, 0.16, axis=0)[0]\n",
    "hi   = mquantiles(rst, 0.84, axis=0)[0]"
   ]
  },
  {
   "cell_type": "code",
   "execution_count": 24,
   "id": "016f0f93",
   "metadata": {},
   "outputs": [],
   "source": [
    "\n",
    "\n",
    "pc       = phase.CombinedModel.Jampy_model.distance*np.pi/0.648  # Constant factor to convert arcsec --> pc\n",
    "radii_pc = radii*pc   "
   ]
  },
  {
   "cell_type": "code",
   "execution_count": 25,
   "id": "b7ab1a38",
   "metadata": {},
   "outputs": [],
   "source": [
    "dm_hdu = fits.open(data_path+\"/dm/density_fit.fits\")\n",
    "true_density = dm_hdu[1].data[\"density\"]\n",
    "true_radii   = dm_hdu[1].data[\"radius\"]\n",
    "\n",
    "i = true_radii < radii_pc.max()\n",
    "\n",
    "true_density = true_density[i]\n",
    "true_radii   = true_radii[i]"
   ]
  },
  {
   "cell_type": "code",
   "execution_count": 26,
   "id": "e322c06c",
   "metadata": {},
   "outputs": [
    {
     "ename": "NameError",
     "evalue": "name 'mean' is not defined",
     "output_type": "error",
     "traceback": [
      "\u001b[0;31m---------------------------------------------------------------------------\u001b[0m",
      "\u001b[0;31mNameError\u001b[0m                                 Traceback (most recent call last)",
      "Input \u001b[0;32mIn [26]\u001b[0m, in \u001b[0;36m<cell line: 4>\u001b[0;34m()\u001b[0m\n\u001b[1;32m      1\u001b[0m plt\u001b[38;5;241m.\u001b[39mfigure(figsize\u001b[38;5;241m=\u001b[39m(\u001b[38;5;241m15\u001b[39m,\u001b[38;5;241m8\u001b[39m))\n\u001b[1;32m      3\u001b[0m plt\u001b[38;5;241m.\u001b[39mplot(true_radii, np\u001b[38;5;241m.\u001b[39mlog10(true_density),  \u001b[38;5;124m\"\u001b[39m\u001b[38;5;124m.\u001b[39m\u001b[38;5;124m\"\u001b[39m, label\u001b[38;5;241m=\u001b[39m\u001b[38;5;124m\"\u001b[39m\u001b[38;5;124mDM data\u001b[39m\u001b[38;5;124m\"\u001b[39m, color\u001b[38;5;241m=\u001b[39m\u001b[38;5;124m\"\u001b[39m\u001b[38;5;124mmagenta\u001b[39m\u001b[38;5;124m\"\u001b[39m, markersize\u001b[38;5;241m=\u001b[39m\u001b[38;5;241m12\u001b[39m)\n\u001b[0;32m----> 4\u001b[0m plt\u001b[38;5;241m.\u001b[39mplot(radii_pc, np\u001b[38;5;241m.\u001b[39mlog10(\u001b[43mmean\u001b[49m), label\u001b[38;5;241m=\u001b[39m\u001b[38;5;124m\"\u001b[39m\u001b[38;5;124mmedian dist\u001b[39m\u001b[38;5;124m\"\u001b[39m)\n\u001b[1;32m      5\u001b[0m plt\u001b[38;5;241m.\u001b[39mfill_between(radii_pc, np\u001b[38;5;241m.\u001b[39mlog10(lo), np\u001b[38;5;241m.\u001b[39mlog10(hi), color\u001b[38;5;241m=\u001b[39m\u001b[38;5;124m\"\u001b[39m\u001b[38;5;124mgray\u001b[39m\u001b[38;5;124m\"\u001b[39m, alpha\u001b[38;5;241m=\u001b[39m\u001b[38;5;241m0.2\u001b[39m, label\u001b[38;5;241m=\u001b[39m\u001b[38;5;124m\"\u001b[39m\u001b[38;5;124m$2\u001b[39m\u001b[38;5;124m\\\u001b[39m\u001b[38;5;124msigma$\u001b[39m\u001b[38;5;124m\"\u001b[39m)\n\u001b[1;32m      6\u001b[0m plt\u001b[38;5;241m.\u001b[39mxscale(\u001b[38;5;124m\"\u001b[39m\u001b[38;5;124mlog\u001b[39m\u001b[38;5;124m\"\u001b[39m)\n",
      "\u001b[0;31mNameError\u001b[0m: name 'mean' is not defined"
     ]
    },
    {
     "data": {
      "image/png": "[encoded data removed]",
      "text/plain": [
       "<Figure size 1080x576 with 1 Axes>"
      ]
     },
     "metadata": {
      "needs_background": "light"
     },
     "output_type": "display_data"
    }
   ],
   "source": [
    "plt.figure(figsize=(15,8))\n",
    "\n",
    "plt.plot(true_radii, np.log10(true_density),  \".\", label=\"DM data\", color=\"magenta\", markersize=12)\n",
    "plt.plot(radii_pc, np.log10(mean), label=\"median dist\")\n",
    "plt.fill_between(radii_pc, np.log10(lo), np.log10(hi), color=\"gray\", alpha=0.2, label=\"$2\\sigma$\")\n",
    "plt.xscale(\"log\")\n",
    "#plt.ylim(-2,0.5)\n",
    "plt.legend()"
   ]
  },
  {
   "cell_type": "code",
   "execution_count": 27,
   "id": "b66f13b4",
   "metadata": {},
   "outputs": [
    {
     "ename": "ValueError",
     "evalue": "Lens model only doesn't constrain dynamical data.",
     "output_type": "error",
     "traceback": [
      "\u001b[0;31m---------------------------------------------------------------------------\u001b[0m",
      "\u001b[0;31mValueError\u001b[0m                                Traceback (most recent call last)",
      "Input \u001b[0;32mIn [27]\u001b[0m, in \u001b[0;36m<cell line: 1>\u001b[0;34m()\u001b[0m\n\u001b[0;32m----> 1\u001b[0m dm_mass \u001b[38;5;241m=\u001b[39m \u001b[43mc\u001b[49m\u001b[38;5;241;43m.\u001b[39;49m\u001b[43mdmMass_3D\u001b[49m\u001b[43m(\u001b[49m\u001b[43mR\u001b[49m\u001b[38;5;241;43m=\u001b[39;49m\u001b[38;5;241;43m0.6428154989273108\u001b[39;49m\u001b[43m,\u001b[49m\u001b[43m \u001b[49m\u001b[43mq\u001b[49m\u001b[38;5;241;43m=\u001b[39;49m\u001b[43m[\u001b[49m\u001b[38;5;241;43m0.025\u001b[39;49m\u001b[43m,\u001b[49m\u001b[38;5;241;43m0.50\u001b[39;49m\u001b[43m,\u001b[49m\u001b[38;5;241;43m0.975\u001b[39;49m\u001b[43m]\u001b[49m\u001b[43m)\u001b[49m\n",
      "Input \u001b[0;32mIn [10]\u001b[0m, in \u001b[0;36mAnalysis.dmMass_3D\u001b[0;34m(self, R, q, save_path)\u001b[0m\n\u001b[1;32m    439\u001b[0m \u001b[38;5;28;01mdef\u001b[39;00m \u001b[38;5;21mdmMass_3D\u001b[39m(\u001b[38;5;28mself\u001b[39m, R, q\u001b[38;5;241m=\u001b[39m[\u001b[38;5;241m0.16\u001b[39m, \u001b[38;5;241m0.5\u001b[39m,  \u001b[38;5;241m0.84\u001b[39m], save_path\u001b[38;5;241m=\u001b[39m\u001b[38;5;28;01mNone\u001b[39;00m):\n\u001b[1;32m    440\u001b[0m     \u001b[38;5;28;01mif\u001b[39;00m \u001b[38;5;28mself\u001b[39m\u001b[38;5;241m.\u001b[39mLens_phase:\n\u001b[0;32m--> 441\u001b[0m         \u001b[38;5;28;01mraise\u001b[39;00m \u001b[38;5;167;01mValueError\u001b[39;00m(\u001b[38;5;124m\"\u001b[39m\u001b[38;5;124mLens model only doesn\u001b[39m\u001b[38;5;124m'\u001b[39m\u001b[38;5;124mt constrain dynamical data.\u001b[39m\u001b[38;5;124m\"\u001b[39m)\n\u001b[1;32m    443\u001b[0m     \u001b[38;5;28mprint\u001b[39m(\u001b[38;5;124m\"\u001b[39m\u001b[38;5;124mParametrizing all dark matter profiles in the sample \u001b[39m\u001b[38;5;124m\"\u001b[39m\u001b[38;5;241m+\u001b[39m\n\u001b[1;32m    444\u001b[0m     \u001b[38;5;124m\"\u001b[39m\u001b[38;5;124musing MGE could that a while. We are using \u001b[39m\u001b[38;5;132;01m{:.0f}\u001b[39;00m\u001b[38;5;124m cores, however \u001b[39m\u001b[38;5;124m\"\u001b[39m\u001b[38;5;241m.\u001b[39mformat(\u001b[38;5;28mself\u001b[39m\u001b[38;5;241m.\u001b[39mncores)\u001b[38;5;241m+\u001b[39m\n\u001b[1;32m    445\u001b[0m     \u001b[38;5;124m\"\u001b[39m\u001b[38;5;124myou can speed up the process by increasing this number \u001b[39m\u001b[38;5;124m\"\u001b[39m\u001b[38;5;241m+\u001b[39m\n\u001b[1;32m    446\u001b[0m     \u001b[38;5;124m\"\u001b[39m\u001b[38;5;124mby changing the parameter ncores.\u001b[39m\u001b[38;5;124m\"\u001b[39m)\n\u001b[1;32m    447\u001b[0m     \u001b[38;5;28mprint\u001b[39m(\u001b[38;5;124m\"\u001b[39m\u001b[38;5;124m==========================================\u001b[39m\u001b[38;5;124m\"\u001b[39m)\n",
      "\u001b[0;31mValueError\u001b[0m: Lens model only doesn't constrain dynamical data."
     ]
    }
   ],
   "source": [
    "dm_mass = c.dmMass_3D(R=0.6428154989273108, q=[0.025,0.50,0.975])"
   ]
  },
  {
   "cell_type": "code",
   "execution_count": 28,
   "id": "564519fb",
   "metadata": {},
   "outputs": [
    {
     "ename": "NameError",
     "evalue": "name 'dm_mass' is not defined",
     "output_type": "error",
     "traceback": [
      "\u001b[0;31m---------------------------------------------------------------------------\u001b[0m",
      "\u001b[0;31mNameError\u001b[0m                                 Traceback (most recent call last)",
      "Input \u001b[0;32mIn [28]\u001b[0m, in \u001b[0;36m<cell line: 1>\u001b[0;34m()\u001b[0m\n\u001b[0;32m----> 1\u001b[0m np\u001b[38;5;241m.\u001b[39mlog10(\u001b[43mdm_mass\u001b[49m[\u001b[38;5;241m1\u001b[39m])\n",
      "\u001b[0;31mNameError\u001b[0m: name 'dm_mass' is not defined"
     ]
    }
   ],
   "source": [
    "np.log10(dm_mass[1])"
   ]
  },
  {
   "cell_type": "code",
   "execution_count": 29,
   "id": "33b55e7f",
   "metadata": {},
   "outputs": [
    {
     "ename": "NameError",
     "evalue": "name 'dm_mass' is not defined",
     "output_type": "error",
     "traceback": [
      "\u001b[0;31m---------------------------------------------------------------------------\u001b[0m",
      "\u001b[0;31mNameError\u001b[0m                                 Traceback (most recent call last)",
      "Input \u001b[0;32mIn [29]\u001b[0m, in \u001b[0;36m<cell line: 1>\u001b[0;34m()\u001b[0m\n\u001b[0;32m----> 1\u001b[0m np\u001b[38;5;241m.\u001b[39mdiff( np\u001b[38;5;241m.\u001b[39mlog10(\u001b[43mdm_mass\u001b[49m) )\n",
      "\u001b[0;31mNameError\u001b[0m: name 'dm_mass' is not defined"
     ]
    }
   ],
   "source": [
    "np.diff( np.log10(dm_mass) ) "
   ]
  },
  {
   "cell_type": "code",
   "execution_count": 30,
   "id": "31b75ef3",
   "metadata": {},
   "outputs": [
    {
     "ename": "ValueError",
     "evalue": "Lens model only doesn't constrain 3D data.",
     "output_type": "error",
     "traceback": [
      "\u001b[0;31m---------------------------------------------------------------------------\u001b[0m",
      "\u001b[0;31mValueError\u001b[0m                                Traceback (most recent call last)",
      "Input \u001b[0;32mIn [30]\u001b[0m, in \u001b[0;36m<cell line: 1>\u001b[0;34m()\u001b[0m\n\u001b[0;32m----> 1\u001b[0m rst1 \u001b[38;5;241m=\u001b[39m \u001b[43mc\u001b[49m\u001b[38;5;241;43m.\u001b[39;49m\u001b[43mstellarMass3D_density\u001b[49m\u001b[43m(\u001b[49m\u001b[43msave_path\u001b[49m\u001b[38;5;241;43m=\u001b[39;49m\u001b[38;5;124;43m\"\u001b[39;49m\u001b[38;5;124;43m./\u001b[39;49m\u001b[38;5;124;43m\"\u001b[39;49m\u001b[43m)\u001b[49m\n",
      "Input \u001b[0;32mIn [10]\u001b[0m, in \u001b[0;36mAnalysis.stellarMass3D_density\u001b[0;34m(self, Rmin, Rmax, step, save_path)\u001b[0m\n\u001b[1;32m    266\u001b[0m \u001b[38;5;28;01mdef\u001b[39;00m \u001b[38;5;21mstellarMass3D_density\u001b[39m(\u001b[38;5;28mself\u001b[39m, Rmin\u001b[38;5;241m=\u001b[39m\u001b[38;5;241m0.25\u001b[39m, Rmax\u001b[38;5;241m=\u001b[39m\u001b[38;5;241m10\u001b[39m, step\u001b[38;5;241m=\u001b[39m\u001b[38;5;241m0.01\u001b[39m,\n\u001b[1;32m    267\u001b[0m                                save_path\u001b[38;5;241m=\u001b[39m\u001b[38;5;28;01mNone\u001b[39;00m):\n\u001b[1;32m    268\u001b[0m     \u001b[38;5;28;01mif\u001b[39;00m \u001b[38;5;28mself\u001b[39m\u001b[38;5;241m.\u001b[39mLens_phase:\n\u001b[0;32m--> 269\u001b[0m         \u001b[38;5;28;01mraise\u001b[39;00m \u001b[38;5;167;01mValueError\u001b[39;00m(\u001b[38;5;124m\"\u001b[39m\u001b[38;5;124mLens model only doesn\u001b[39m\u001b[38;5;124m'\u001b[39m\u001b[38;5;124mt constrain 3D data.\u001b[39m\u001b[38;5;124m\"\u001b[39m)\n\u001b[1;32m    271\u001b[0m     \u001b[38;5;28;01mif\u001b[39;00m \u001b[38;5;28mself\u001b[39m\u001b[38;5;241m.\u001b[39mphase:\n\u001b[1;32m    272\u001b[0m         surf_lum  \u001b[38;5;241m=\u001b[39m np\u001b[38;5;241m.\u001b[39masarray ( \u001b[38;5;28mself\u001b[39m\u001b[38;5;241m.\u001b[39mNsamples \u001b[38;5;241m*\u001b[39m [\u001b[38;5;28mself\u001b[39m\u001b[38;5;241m.\u001b[39mphase\u001b[38;5;241m.\u001b[39mCombinedModel\u001b[38;5;241m.\u001b[39mLens_model\u001b[38;5;241m.\u001b[39msurf_lum] )\n",
      "\u001b[0;31mValueError\u001b[0m: Lens model only doesn't constrain 3D data."
     ]
    }
   ],
   "source": [
    "rst1 = c.stellarMass3D_density(save_path=\"./\")"
   ]
  },
  {
   "cell_type": "code",
   "execution_count": 31,
   "id": "fa3d5324",
   "metadata": {},
   "outputs": [
    {
     "ename": "NameError",
     "evalue": "name 'rst1' is not defined",
     "output_type": "error",
     "traceback": [
      "\u001b[0;31m---------------------------------------------------------------------------\u001b[0m",
      "\u001b[0;31mNameError\u001b[0m                                 Traceback (most recent call last)",
      "Input \u001b[0;32mIn [31]\u001b[0m, in \u001b[0;36m<cell line: 5>\u001b[0;34m()\u001b[0m\n\u001b[1;32m      1\u001b[0m \u001b[38;5;28;01mfrom\u001b[39;00m \u001b[38;5;21;01mscipy\u001b[39;00m\u001b[38;5;21;01m.\u001b[39;00m\u001b[38;5;21;01mstats\u001b[39;00m\u001b[38;5;21;01m.\u001b[39;00m\u001b[38;5;21;01mmstats\u001b[39;00m \u001b[38;5;28;01mimport\u001b[39;00m mquantiles\n\u001b[1;32m      4\u001b[0m \u001b[38;5;66;03m# median and 1sigma band\u001b[39;00m\n\u001b[0;32m----> 5\u001b[0m mean_ \u001b[38;5;241m=\u001b[39m mquantiles(\u001b[43mrst1\u001b[49m, \u001b[38;5;241m0.5\u001b[39m, axis\u001b[38;5;241m=\u001b[39m\u001b[38;5;241m0\u001b[39m)[\u001b[38;5;241m0\u001b[39m]\n\u001b[1;32m      6\u001b[0m lo_   \u001b[38;5;241m=\u001b[39m mquantiles(rst1, \u001b[38;5;241m0.16\u001b[39m, axis\u001b[38;5;241m=\u001b[39m\u001b[38;5;241m0\u001b[39m)[\u001b[38;5;241m0\u001b[39m]\n\u001b[1;32m      7\u001b[0m hi_   \u001b[38;5;241m=\u001b[39m mquantiles(rst1, \u001b[38;5;241m0.84\u001b[39m, axis\u001b[38;5;241m=\u001b[39m\u001b[38;5;241m0\u001b[39m)[\u001b[38;5;241m0\u001b[39m]\n",
      "\u001b[0;31mNameError\u001b[0m: name 'rst1' is not defined"
     ]
    }
   ],
   "source": [
    "from scipy.stats.mstats import mquantiles\n",
    "\n",
    "\n",
    "# median and 1sigma band\n",
    "mean_ = mquantiles(rst1, 0.5, axis=0)[0]\n",
    "lo_   = mquantiles(rst1, 0.16, axis=0)[0]\n",
    "hi_   = mquantiles(rst1, 0.84, axis=0)[0]\n",
    "\n"
   ]
  },
  {
   "cell_type": "code",
   "execution_count": 32,
   "id": "d3954870",
   "metadata": {},
   "outputs": [],
   "source": [
    "radii    = np.arange(0.25, 10, 0.01) # Radii in arcsec\n",
    "\n",
    "pc       = phase.CombinedModel.Jampy_model.distance*np.pi/0.648  # Constant factor to convert arcsec --> pc\n",
    "radii_pc = radii*pc   "
   ]
  },
  {
   "cell_type": "code",
   "execution_count": 33,
   "id": "4e3be2fe",
   "metadata": {},
   "outputs": [],
   "source": [
    "dm_hdu = fits.open(data_path+\"/imgs/stellar_density.fits\")\n",
    "true_density = dm_hdu[1].data[\"density\"]\n",
    "true_radii   = dm_hdu[1].data[\"radius\"]\n",
    "\n",
    "i = true_radii < radii_pc.max()\n",
    "\n",
    "true_density = true_density[i]\n",
    "true_radii   = true_radii[i]"
   ]
  },
  {
   "cell_type": "code",
   "execution_count": 34,
   "id": "21f562b7",
   "metadata": {},
   "outputs": [
    {
     "ename": "NameError",
     "evalue": "name 'mean_' is not defined",
     "output_type": "error",
     "traceback": [
      "\u001b[0;31m---------------------------------------------------------------------------\u001b[0m",
      "\u001b[0;31mNameError\u001b[0m                                 Traceback (most recent call last)",
      "Input \u001b[0;32mIn [34]\u001b[0m, in \u001b[0;36m<cell line: 4>\u001b[0;34m()\u001b[0m\n\u001b[1;32m      1\u001b[0m plt\u001b[38;5;241m.\u001b[39mfigure(figsize\u001b[38;5;241m=\u001b[39m(\u001b[38;5;241m15\u001b[39m,\u001b[38;5;241m8\u001b[39m))\n\u001b[1;32m      3\u001b[0m plt\u001b[38;5;241m.\u001b[39mplot(true_radii, np\u001b[38;5;241m.\u001b[39mlog10(true_density),  \u001b[38;5;124m\"\u001b[39m\u001b[38;5;124m.\u001b[39m\u001b[38;5;124m\"\u001b[39m, label\u001b[38;5;241m=\u001b[39m\u001b[38;5;124m\"\u001b[39m\u001b[38;5;124mDM data\u001b[39m\u001b[38;5;124m\"\u001b[39m, color\u001b[38;5;241m=\u001b[39m\u001b[38;5;124m\"\u001b[39m\u001b[38;5;124mmagenta\u001b[39m\u001b[38;5;124m\"\u001b[39m, markersize\u001b[38;5;241m=\u001b[39m\u001b[38;5;241m12\u001b[39m)\n\u001b[0;32m----> 4\u001b[0m plt\u001b[38;5;241m.\u001b[39mplot(radii_pc, np\u001b[38;5;241m.\u001b[39mlog10(\u001b[43mmean_\u001b[49m), label\u001b[38;5;241m=\u001b[39m\u001b[38;5;124m\"\u001b[39m\u001b[38;5;124mmedian dist\u001b[39m\u001b[38;5;124m\"\u001b[39m)\n\u001b[1;32m      5\u001b[0m plt\u001b[38;5;241m.\u001b[39mfill_between(radii_pc, np\u001b[38;5;241m.\u001b[39mlog10(lo_), np\u001b[38;5;241m.\u001b[39mlog10(hi_), color\u001b[38;5;241m=\u001b[39m\u001b[38;5;124m\"\u001b[39m\u001b[38;5;124mgray\u001b[39m\u001b[38;5;124m\"\u001b[39m, alpha\u001b[38;5;241m=\u001b[39m\u001b[38;5;241m0.2\u001b[39m, label\u001b[38;5;241m=\u001b[39m\u001b[38;5;124m\"\u001b[39m\u001b[38;5;124m$2\u001b[39m\u001b[38;5;124m\\\u001b[39m\u001b[38;5;124msigma$\u001b[39m\u001b[38;5;124m\"\u001b[39m)\n\u001b[1;32m      6\u001b[0m plt\u001b[38;5;241m.\u001b[39mxscale(\u001b[38;5;124m\"\u001b[39m\u001b[38;5;124mlog\u001b[39m\u001b[38;5;124m\"\u001b[39m)\n",
      "\u001b[0;31mNameError\u001b[0m: name 'mean_' is not defined"
     ]
    },
    {
     "data": {
      "image/png": "[encoded data removed]",
      "text/plain": [
       "<Figure size 1080x576 with 1 Axes>"
      ]
     },
     "metadata": {
      "needs_background": "light"
     },
     "output_type": "display_data"
    }
   ],
   "source": [
    "plt.figure(figsize=(15,8))\n",
    "\n",
    "plt.plot(true_radii, np.log10(true_density),  \".\", label=\"DM data\", color=\"magenta\", markersize=12)\n",
    "plt.plot(radii_pc, np.log10(mean_), label=\"median dist\")\n",
    "plt.fill_between(radii_pc, np.log10(lo_), np.log10(hi_), color=\"gray\", alpha=0.2, label=\"$2\\sigma$\")\n",
    "plt.xscale(\"log\")\n",
    "plt.ylim(-2,0.5)\n",
    "plt.legend()"
   ]
  },
  {
   "cell_type": "code",
   "execution_count": 32,
   "id": "394fae1e",
   "metadata": {},
   "outputs": [],
   "source": [
    "\n",
    "with open('./dm_density3D_distribution.pickle'.format(phase_name,phase_name),'rb') as f:\n",
    "    dist = pickle.load(f)\n",
    "    f.close()"
   ]
  },
  {
   "cell_type": "code",
   "execution_count": 33,
   "id": "749f1b01",
   "metadata": {},
   "outputs": [],
   "source": [
    "# median and 1sigma band\n",
    "mean_ = mquantiles(dist, 0.5, axis=0)[0]\n",
    "lo_   = mquantiles(dist, 0.16, axis=0)[0]\n",
    "hi_   = mquantiles(dist, 0.84, axis=0)[0]"
   ]
  },
  {
   "cell_type": "code",
   "execution_count": 34,
   "id": "09b77125",
   "metadata": {},
   "outputs": [
    {
     "data": {
      "image/png": "[encoded data removed]",
      "text/plain": [
       "<Figure size 1080x576 with 1 Axes>"
      ]
     },
     "metadata": {
      "needs_background": "light"
     },
     "output_type": "display_data"
    }
   ],
   "source": [
    "plt.figure(figsize=(15,8))\n",
    "\n",
    "plt.plot(radii_pc, np.log10(mean), label=\"median dist\")\n",
    "plt.fill_between(radii_pc, np.log10(lo), np.log10(hi), color=\"gray\", alpha=0.2, label=\"$2\\sigma$\")\n",
    "\n",
    "plt.plot(radii_pc, np.log10(mean_), label=\"median_ dist\", color=\"red\")\n",
    "plt.fill_between(radii_pc, np.log10(lo_), np.log10(hi_), color=\"blue\", alpha=0.2, label=\"$2\\sigma$\")\n",
    "\n",
    "plt.xscale(\"log\")"
   ]
  },
  {
   "cell_type": "code",
   "execution_count": null,
   "id": "168ee437",
   "metadata": {},
   "outputs": [],
   "source": []
  },
  {
   "cell_type": "code",
   "execution_count": null,
   "id": "06af1a94",
   "metadata": {},
   "outputs": [],
   "source": []
  },
  {
   "cell_type": "code",
   "execution_count": null,
   "id": "de0e08e7",
   "metadata": {},
   "outputs": [],
   "source": []
  },
  {
   "cell_type": "code",
   "execution_count": 131,
   "id": "9245d03c",
   "metadata": {},
   "outputs": [],
   "source": [
    "def mge_radial_density2d(surf, sigma, qobs, rad, distance):\n",
    "    \n",
    "    assert surf.size == sigma.size == qobs.size, \"The MGE components do not match\"\n",
    "\n",
    "    rad = np.atleast_1d(rad)\n",
    "    pc = distance*np.pi/0.648  # Constant factor to convert arcsec --> pc\n",
    "    sigma = sigma*pc\n",
    "    rad = rad*pc\n",
    "\n",
    "    \n",
    "    rad = rad[:, None]\n",
    "    dens = np.sum(surf * np.exp(-0.5*(rad/sigma)**2), axis=1)\n",
    "\n",
    "    return dens\n",
    "\n",
    "def test(surf, sigma, qobs, rad, distance):\n",
    "    \n",
    "    assert surf.size == sigma.size == qobs.size, \"The MGE components do not match\"\n",
    "\n",
    "    rad = np.atleast_1d(rad)\n",
    "    pc = distance*np.pi/0.648  # Constant factor to convert arcsec --> pc\n",
    "    sigma = sigma*pc\n",
    "    rad = rad*pc\n",
    "\n",
    "    # total luminosity/mass each Gaussian (eq.12 of Cappellari 2008, MNRAS, 390, 71)\n",
    "    #lum = 2.*np.pi*surf*qobs*sigma**2\n",
    "    \n",
    "    rad = rad[:, None]\n",
    "    dens = np.sum(surf * np.exp(-0.5*(rad/sigma)**2), axis=1)\n",
    "\n",
    "    return dens"
   ]
  },
  {
   "cell_type": "code",
   "execution_count": 132,
   "id": "747a53c5",
   "metadata": {},
   "outputs": [],
   "source": [
    "def density_profile_2d(x, y, z, quantity, Nbins, rmax, \n",
    "                        spaced=\"logspace\", rmin=None):\n",
    "    \"\"\"\n",
    "        Calculates 3D density profile for any quantity, in spherical shells.\n",
    "        Inputs:\n",
    "        ----------\n",
    "        x,y,z: 1N-array (dimension of length)\n",
    "            (x,y,z) positions relative to the center of the cube.\n",
    "        quantity: 1N-array\n",
    "            1N-array with the quantity that you want to compute the sperical\n",
    "            density profile.\n",
    "        Nbins: int\n",
    "            number of shells\n",
    "        rmax: float (same dimension as positions)\n",
    "            radius of the outermost shell.\n",
    "        spaced: str\n",
    "            Default is \"logspace\".\n",
    "            \"linear\": create the radial bins linearly spaced\n",
    "            \"logspace\": create the radial bins logarithmically spaced.\n",
    "        rmin: float (same dimension as positions)\n",
    "            minimum radius for the logspaced radii. Only used in this case.\n",
    "        Output:\n",
    "        ------------\n",
    "        Sigma: 1D-array (dimension of quantity/length**2)\n",
    "            2D radial density profile of the input quantity.\n",
    "        radii: 1D-array (dimension of length)\n",
    "            array with the mean radius value for each spherical\n",
    "            shell where the density profile where computed.\n",
    "        error: 1D-array (dimension of quantity/length**3)\n",
    "            Poisson error on the density profile.\n",
    "            USE WITH CARE. NEEDS TO CHECK IF IT IS FINE\n",
    "        Npar: 1D-array\n",
    "            Number of particles in each shell\n",
    "    \"\"\"\n",
    "\n",
    "    density = []\n",
    "    radii   = []\n",
    "    error   = []\n",
    "    Npart   = []  # Number of particles in each bin\n",
    "    r = np.sqrt(x**2 + y**2) # projected radial distance to the centre\n",
    "\n",
    "    if  spaced == \"logspace\":\n",
    "        if rmin is None:\n",
    "            raise ValueError(\"You must provide a minimum radius for the logspaced sampling.\")\n",
    "        else: pass\n",
    "        Bins = np.logspace(np.log10(rmin), np.log10(rmax), Nbins)\n",
    "        for i in range(Bins.size-1):\n",
    "            r1 = Bins[i]\n",
    "            r2 = Bins[i+1]\n",
    "\n",
    "            #particles within the shell\n",
    "            ring = np.argwhere( (r > r1) & (r < r2) ).flatten()\n",
    "            \n",
    "            quantity_within = sum(quantity[ring])\n",
    "            dA = np.pi * (r2**2 - r1**2)\n",
    "            Sigma = quantity_within/dA\n",
    "\n",
    "            radius = (r1 + r2)/2.0\n",
    "\n",
    "            density.append(Sigma)\n",
    "            radii.append(radius)\n",
    "            error.append( np.sqrt(quantity[ring].size/dA**2) )\n",
    "            Npart.append(quantity[ring].size)\n",
    "\n",
    "    elif  spaced == \"linear\":\n",
    "        dr = rmax/int(Nbins)    #thickness of each shell\n",
    "        \n",
    "        for i in range(Nbins):\n",
    "            r1 = i * dr\n",
    "            r2 = r1 + dr\n",
    "\n",
    "            #particles within the shell\n",
    "            ring = np.argwhere( (r > r1) & (r < r2) ).flatten()\n",
    "            \n",
    "            quantity_within = sum(quantity[ring])\n",
    "            dA  = np.pi * (r2**2 - r1**2)\n",
    "            Sigma = quantity_within/dA\n",
    "\n",
    "            radius = (r1 + r2)/2.0\n",
    "\n",
    "            density.append(Sigma)\n",
    "            radii.append(radius)\n",
    "            error.append( np.sqrt(quantity[ring].size/dA**2) )\n",
    "            Npart.append(quantity[ring].size)\n",
    "    else:\n",
    "        return ValueError(\"Type of spacing not valid.\")\n",
    "    \n",
    "    return np.asarray(density), np.asarray(radii), np.asarray(error), np.asarray(Npart)"
   ]
  },
  {
   "cell_type": "code",
   "execution_count": 133,
   "id": "ffb2e45f",
   "metadata": {},
   "outputs": [],
   "source": [
    "star_dataset = np.load(data_path+\"/imgs/coordinates_star.npy\")"
   ]
  },
  {
   "cell_type": "code",
   "execution_count": 144,
   "id": "0616d8be",
   "metadata": {},
   "outputs": [],
   "source": [
    "x, y, z = star_dataset[:, 0:3].T *1e3\n",
    "mstar   = star_dataset[:, 6]*1e10"
   ]
  },
  {
   "cell_type": "code",
   "execution_count": 145,
   "id": "2cf93f93",
   "metadata": {},
   "outputs": [],
   "source": [
    "SigmaStar, rStar, errorStar, NpartStar = density_profile_2d(x,y,z, mstar, Nbins=75, \n",
    "                                    rmax=35*1e3,\n",
    "                                    rmin=2.8*0.29*1e3,\n",
    "                                    spaced=\"logspace\")"
   ]
  },
  {
   "cell_type": "code",
   "execution_count": 149,
   "id": "51cd6a52",
   "metadata": {},
   "outputs": [],
   "source": [
    "radii = np.arange(0.25, 10, 0.1)\n",
    "pc     = phase.CombinedModel.Jampy_model.distance*np.pi/0.648  # Constant factor to convert arcsec --> pc\n",
    "radii_pc = radii*pc                        # Radii in pc\n",
    "d = mge_radial_density2d(phase.CombinedModel.Jampy_model.surf_lum * 2.49,\n",
    "                      phase.CombinedModel.Jampy_model.sigma_lum,\n",
    "                      phase.CombinedModel.Jampy_model.qobs_lum,\n",
    "                          radii, phase.CombinedModel.Jampy_model.distance)\n",
    "\n",
    "d1 = test(phase.CombinedModel.Jampy_model.surf_lum,\n",
    "                      phase.CombinedModel.Jampy_model.sigma_lum,\n",
    "                      phase.CombinedModel.Jampy_model.qobs_lum,\n",
    "                          radii, phase.CombinedModel.Jampy_model.distance)"
   ]
  },
  {
   "cell_type": "code",
   "execution_count": 150,
   "id": "94f176b0",
   "metadata": {},
   "outputs": [],
   "source": [
    "i = rStar < radii_pc.max()\n",
    "\n",
    "rho_stars = SigmaStar[i]\n",
    "r_star    = rStar[i]"
   ]
  },
  {
   "cell_type": "code",
   "execution_count": 151,
   "id": "a36457e2",
   "metadata": {},
   "outputs": [
    {
     "data": {
      "text/plain": [
       "[]"
      ]
     },
     "execution_count": 151,
     "metadata": {},
     "output_type": "execute_result"
    },
    {
     "data": {
      "image/png": "[encoded data removed]",
      "text/plain": [
       "<Figure size 864x360 with 1 Axes>"
      ]
     },
     "metadata": {
      "needs_background": "light"
     },
     "output_type": "display_data"
    }
   ],
   "source": [
    "plt.figure(figsize=(12,5))\n",
    "plt.plot(r_star, rho_stars)\n",
    "plt.plot(radii_pc, d, label=\"model\")\n",
    "plt.plot(radii_pc, d1, label=\"model1\")\n",
    "\n",
    "plt.legend()\n",
    "plt.loglog()"
   ]
  },
  {
   "cell_type": "code",
   "execution_count": null,
   "id": "e83cfa90",
   "metadata": {},
   "outputs": [],
   "source": []
  }
 ],
 "metadata": {
  "kernelspec": {
   "display_name": "Python 3 (ipykernel)",
   "language": "python",
   "name": "python3"
  },
  "language_info": {
   "codemirror_mode": {
    "name": "ipython",
    "version": 3
   },
   "file_extension": ".py",
   "mimetype": "text/x-python",
   "name": "python",
   "nbconvert_exporter": "python",
   "pygments_lexer": "ipython3",
   "version": "3.10.4"
  }
 },
 "nbformat": 4,
 "nbformat_minor": 5
}
