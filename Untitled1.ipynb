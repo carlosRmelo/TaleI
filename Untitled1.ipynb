{
 "cells": [
  {
   "cell_type": "code",
   "execution_count": 4,
   "id": "1405c074",
   "metadata": {},
   "outputs": [],
   "source": [
    "phase_name    = \"phase5\"   # phase to compute the results\n",
    "result_path   = \"./8/model_shear/\"  #path to the non-linear results\n",
    "data_path     = \"/home/carlosmelo/Documents/GitHub/Illustris/my_illustris/TNG50-1-snap84-subhalo8 (original)/\" #path to the data"
   ]
  },
  {
   "cell_type": "code",
   "execution_count": 5,
   "id": "fab62f58",
   "metadata": {},
   "outputs": [],
   "source": [
    "import pickle\n",
    "import json"
   ]
  },
  {
   "cell_type": "code",
   "execution_count": 6,
   "id": "1fdeb71d",
   "metadata": {},
   "outputs": [],
   "source": [
    "    \n",
    "with open(result_path+'{}/{}.pickle'.format(phase_name,phase_name),'rb') as f:\n",
    "    phase = pickle.load(f)\n",
    "    f.close()"
   ]
  },
  {
   "cell_type": "code",
   "execution_count": 7,
   "id": "4083e8be",
   "metadata": {},
   "outputs": [
    {
     "data": {
      "text/plain": [
       "0.0"
      ]
     },
     "execution_count": 7,
     "metadata": {},
     "output_type": "execute_result"
    }
   ],
   "source": [
    "phase.CombinedModel.Jampy_model.mbh"
   ]
  },
  {
   "cell_type": "code",
   "execution_count": null,
   "id": "e31df91f",
   "metadata": {},
   "outputs": [],
   "source": []
  }
 ],
 "metadata": {
  "kernelspec": {
   "display_name": "Python 3 (ipykernel)",
   "language": "python",
   "name": "python3"
  },
  "language_info": {
   "codemirror_mode": {
    "name": "ipython",
    "version": 3
   },
   "file_extension": ".py",
   "mimetype": "text/x-python",
   "name": "python",
   "nbconvert_exporter": "python",
   "pygments_lexer": "ipython3",
   "version": "3.10.4"
  }
 },
 "nbformat": 4,
 "nbformat_minor": 5
}
