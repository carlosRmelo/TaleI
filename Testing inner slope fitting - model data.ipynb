{
 "cells": [
  {
   "cell_type": "markdown",
   "id": "ce8dd8a6",
   "metadata": {},
   "source": [
    "The ideia is to fit a power law model to the stellar and to the total mass density profile.\n",
    "The important parameter is the slope.\n",
    "\n",
    "This is similar to that present in Li+16 and Xu+2017"
   ]
  },
  {
   "cell_type": "code",
   "execution_count": 1,
   "id": "3e2f2aa8",
   "metadata": {},
   "outputs": [],
   "source": [
    "import numpy as np\n",
    "import matplotlib.pyplot as plt\n",
    "from astropy.io import fits\n",
    "from astropy.table import Table\n",
    "from astropy.cosmology import FlatLambdaCDM\n",
    "from scipy.optimize import least_squares\n",
    "from util_general import get_re\n",
    "from jampy.mge_half_light_isophote import mge_half_light_isophote\n",
    "from scipy import interpolate\n",
    "import pickle\n",
    "from scipy.stats.mstats import mquantiles\n",
    "import json"
   ]
  },
  {
   "cell_type": "code",
   "execution_count": 2,
   "id": "c280b26f",
   "metadata": {},
   "outputs": [],
   "source": [
    "def PL_model(theta, x):\n",
    "    \"\"\"\n",
    "        This is a power law model in a log-log space.\n",
    "        Inputs:\n",
    "        ---------------\n",
    "        theta[0]: the slope\n",
    "        theta[1]: the normalisation\n",
    "        x       : the logarithmic distance\n",
    "    \"\"\"\n",
    "    return theta[0]*x + theta[1]\n",
    "\n",
    "def fit_funtion(theta, log_rho, log_r):\n",
    "    \"\"\"\n",
    "        Fit function for a least_squares.\n",
    "        Inputs:\n",
    "        ---------------\n",
    "        theta[0]: the slope\n",
    "        theta[1]: the normalisation\n",
    "        log_rho : logarithmic density (data)\n",
    "        log_r   : logarithmic distance (data)\n",
    "        \n",
    "    \"\"\"\n",
    "    return PL_model(theta, log_r) - log_rho\n",
    "\n",
    "def restrict_density(density, r, r1, r2):\n",
    "    \"\"\"\n",
    "        Return the density and the radius between r1 and r2.\n",
    "        r1 < r2\n",
    "    \"\"\"\n",
    "    assert r1 < r2, \"r2 should be greater than r1.\"\n",
    "    \n",
    "    i = (r1 < r) &  (r < r2)\n",
    "    \n",
    "    return density[i], r[i]\n",
    "\n",
    "def AV_slope(density, r, r1, r2):\n",
    "    \"\"\"\n",
    "        Compute the average density slope as defined by\n",
    "        eq. (15) in Xu+2017.\n",
    "        The density profile is interpolated at r1 and r2\n",
    "        using scipy.interpolate.interp1d. We use a cubic \n",
    "        interpolation.\n",
    "        \n",
    "        Inputs:\n",
    "        ---------------\n",
    "        density: density profile covering the range of r1 and r2\n",
    "        r: radius where the density is evaluated\n",
    "        r1, r2: inner and outter radius where the slope will be evaluated\n",
    "    \"\"\"\n",
    "    \n",
    "    f_ = interpolate.interp1d(r, density, kind=\"cubic\")\n",
    "    return np.log( f_(r2) / f_(r1) ) / np.log( r1 / r2)\n",
    "    \n"
   ]
  },
  {
   "cell_type": "code",
   "execution_count": 3,
   "id": "95e6d284",
   "metadata": {},
   "outputs": [],
   "source": [
    "result_path = \"./9/model1/normal/JAM/Analysis_2.5Reff/\"\n",
    "\n",
    "with open(result_path+f'/densities/stellar_density3D_distribution.pickle','rb') as f:\n",
    "    stellar_density_dist = pickle.load(f)\n",
    "    f.close()\n",
    "            \n",
    "with open(result_path+f'/densities/dm_density3D_distribution.pickle','rb') as f:\n",
    "    dm_density_dist = pickle.load(f)\n",
    "    f.close()\n",
    "\n",
    "with open(result_path+\"/quantities.json\") as f:\n",
    "        quantities = json.load(f)\n",
    "        f.close()\n",
    "        \n",
    "with open(result_path+\"/description.json\") as f:\n",
    "        description = json.load(f)\n",
    "        f.close()\n",
    "\n",
    "reff = quantities[\"Reff\"]\n",
    "# Load DM density profile\n",
    "rho_dm = mquantiles(dm_density_dist[\"distribution\"], 0.5, axis=0)[0]\n",
    "r_dm   = dm_density_dist[\"radii\"]\n",
    "\n",
    "# Load star density profile\n",
    "rho_star = mquantiles(stellar_density_dist[\"distribution\"], 0.5, axis=0)[0]\n",
    "r_star   = stellar_density_dist[\"radii\"]\n",
    "\n",
    "# Total mass density profile\n",
    "rho_total = rho_dm + rho_star\n",
    "r_total   = r_dm"
   ]
  },
  {
   "cell_type": "code",
   "execution_count": 4,
   "id": "de5a1baa",
   "metadata": {},
   "outputs": [],
   "source": [
    "description[\"PL_slope1\"] = \"PL slope within 0.5Reff-1Reff\"\n",
    "description[\"PL_slope2\"] = \"PL slope within 1Reff-2.5Reff\"\n",
    "description[\"AV_slope1\"] = \"average slope within 0.5Reff-1Reff\"\n",
    "description[\"AV_slope2\"] = \"average slope within 1Reff-2.5Reff\"\n",
    "\n",
    "out_descripition = open(\"{}/description.json\".format(result_path), \"w\")\n",
    "json.dump(description, out_descripition, indent = 8)\n",
    "out_descripition.close()"
   ]
  },
  {
   "cell_type": "code",
   "execution_count": 5,
   "id": "fcf285c5",
   "metadata": {},
   "outputs": [],
   "source": [
    "theta0 = [-2, 5]   # Initial guess. [slope, normalisation]\n",
    "r1 = 0.5 * reff\n",
    "r2 = 1.0 * reff\n",
    "rho, r = restrict_density(density=rho_total, r=r_total, r1=r1, r2=r2)         # Get density within r1 and r2\n",
    "\n",
    "fit_total = least_squares(fit_funtion, theta0, args=(np.log(rho), np.log(r))) # Fit\n",
    "PL_slope1 = fit_total.x[0]\n",
    "AV_slope1 = AV_slope(rho_total, r_total, r1, r2)  # Get the average slope\n",
    "quantities[\"PL_slope1\"] = PL_slope1\n",
    "quantities[\"AV_slope1\"] = AV_slope1"
   ]
  },
  {
   "cell_type": "code",
   "execution_count": 6,
   "id": "fef6d857",
   "metadata": {},
   "outputs": [],
   "source": [
    "theta0 = [-2, 5]   # Initial guess. [slope, normalisation]\n",
    "r1 = 1.0 * reff\n",
    "r2 = 2.5 * reff\n",
    "rho, r = restrict_density(density=rho_total, r=r_total, r1=r1, r2=r2)         # Get density within r1 and r2\n",
    "\n",
    "fit_total = least_squares(fit_funtion, theta0, args=(np.log(rho), np.log(r))) # Fit\n",
    "PL_slope2 = fit_total.x[0]\n",
    "AV_slope2 = AV_slope(rho_total, r_total, r1, r2)  # Get the average slope\n",
    "quantities[\"PL_slope2\"] = PL_slope2\n",
    "quantities[\"AV_slope2\"] = AV_slope2"
   ]
  },
  {
   "cell_type": "code",
   "execution_count": 7,
   "id": "c45fb4d1",
   "metadata": {},
   "outputs": [],
   "source": [
    "out_quantiles = open(\"{}/quantities.json\".format(result_path), \"w\")\n",
    "json.dump(quantities, out_quantiles, indent = 8)\n",
    "out_quantiles.close()"
   ]
  },
  {
   "cell_type": "markdown",
   "id": "33d164c6",
   "metadata": {},
   "source": [
    "----"
   ]
  }
 ],
 "metadata": {
  "kernelspec": {
   "display_name": "Python 3 (ipykernel)",
   "language": "python",
   "name": "python3"
  },
  "language_info": {
   "codemirror_mode": {
    "name": "ipython",
    "version": 3
   },
   "file_extension": ".py",
   "mimetype": "text/x-python",
   "name": "python",
   "nbconvert_exporter": "python",
   "pygments_lexer": "ipython3",
   "version": "3.10.4"
  }
 },
 "nbformat": 4,
 "nbformat_minor": 5
}
