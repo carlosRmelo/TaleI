{
 "cells": [
  {
   "cell_type": "code",
   "execution_count": 1,
   "id": "032c085d",
   "metadata": {},
   "outputs": [],
   "source": [
    "from dynesty import NestedSampler\n",
    "from dynesty import plotting as dyplot\n",
    "from dynesty import utils as dyfunc\n",
    "\n",
    "\n",
    "import numpy as np\n",
    "import matplotlib.pyplot as plt\n",
    "import pickle\n",
    "import os\n",
    "\n",
    "from plotbin.plot_velfield import plot_velfield\n",
    "from jampy.mge_radial_mass import mge_radial_mass\n",
    "from jampy.mge_half_light_isophote import mge_half_light_isophote\n",
    "from astropy import units as u"
   ]
  },
  {
   "cell_type": "code",
   "execution_count": 2,
   "id": "12af2efa",
   "metadata": {},
   "outputs": [],
   "source": [
    "result_path     = \"./313415/model1/JAM/\"  #path to the non-linear results\n",
    "data_path = \"/home/carlosmelo/Documents/GitHub/Illustris/my_illustris/TNG50-1-snap84-subhalo313415\" #path to the data\n",
    "analysis_path = result_path+\"Analysis/\" #path where the analysis will be saved\n",
    "\n",
    "os.makedirs(analysis_path) \n",
    "\n",
    "with open(result_path+f'/Final_sampler.pickle','rb') as f:\n",
    "    sampler = pickle.load(f)\n",
    "    f.close()\n",
    "\n",
    "with open(result_path+f'/JAM_class.pickle','rb') as f:\n",
    "    Jam_Model = pickle.load(f)\n",
    "    f.close()\n",
    "    \n",
    "with open(result_path+f'/priors.pickle','rb') as f:\n",
    "    priors = pickle.load(f)\n",
    "    f.close()\n",
    "\n",
    "def resume_dlogz(sampler):\n",
    "    results = sampler.results\n",
    "    logz_remain = np.max(sampler.live_logl) + results.logvol[-1]\n",
    "    delta_logz = np.logaddexp(results.logz[-1], logz_remain) - results.logz[-1]\n",
    "\n",
    "    return delta_logz\n"
   ]
  },
  {
   "cell_type": "code",
   "execution_count": 3,
   "id": "3e08ef5a",
   "metadata": {},
   "outputs": [
    {
     "name": "stdout",
     "output_type": "stream",
     "text": [
      "Summary\n",
      "=======\n",
      "nlive: 500\n",
      "niter: 5404\n",
      "ncall: 74312\n",
      "eff(%):  7.945\n",
      "logz: -13.036 +/-  0.151\n"
     ]
    }
   ],
   "source": [
    "sampler.results.summary()"
   ]
  },
  {
   "cell_type": "code",
   "execution_count": 4,
   "id": "4a0d6765",
   "metadata": {},
   "outputs": [
    {
     "name": "stdout",
     "output_type": "stream",
     "text": [
      "inc 82.58677007736902\n",
      "beta 0.00739519129570885\n",
      "log_mbh 8.457953298614585\n",
      "ml 3.2802575107580925\n",
      "log_M0 12.398349041652494\n",
      "rc 5.418295514995624\n",
      "rs 11.761142961692574\n",
      "slope 1.1814161993810297\n"
     ]
    }
   ],
   "source": [
    "# Generate a new set of results with statistical+sampling uncertainties.\n",
    "labels = list(priors.keys())\n",
    "parsRes = priors.copy()\n",
    "results_sim = dyfunc.jitter_run(dyfunc.resample_run(sampler.results))\n",
    "samples_sim, weights = results_sim.samples, results_sim.importance_weights()\n",
    "quantiles = [dyfunc.quantile(samps, [0.16, 0.5,  0.84], weights=weights)\n",
    "            for samps in samples_sim.T]                        #quantiles for each parameter\n",
    "\n",
    "    #Update the parameters\n",
    "for i, key in enumerate(parsRes.keys()):\n",
    "    parsRes[key] = quantiles[i][1]\n",
    "    print(key, parsRes[key])\n"
   ]
  },
  {
   "cell_type": "code",
   "execution_count": 5,
   "id": "d348fada",
   "metadata": {},
   "outputs": [],
   "source": [
    "fig, axes = dyplot.traceplot(results=results_sim, show_titles=True,\n",
    "                             labels=labels,\n",
    "                             )\n",
    "fig.tight_layout()\n",
    "plt.savefig(analysis_path+\"/tracer_plot.png\")\n",
    "plt.close()"
   ]
  },
  {
   "cell_type": "code",
   "execution_count": 6,
   "id": "9a94ce7b",
   "metadata": {},
   "outputs": [],
   "source": [
    "# Plot the 2-D marginalized posteriors.\n",
    "cfig, caxes, = dyplot.cornerplot(results_sim, smooth=0.08,\n",
    "                                show_titles=True,labels=labels,\n",
    "                         )\n",
    "fig.tight_layout()\n",
    "plt.savefig(analysis_path+\"/corner_plot.png\")\n",
    "plt.close()"
   ]
  },
  {
   "cell_type": "code",
   "execution_count": 7,
   "id": "3f99f454",
   "metadata": {},
   "outputs": [
    {
     "name": "stdout",
     "output_type": "stream",
     "text": [
      "Parameters Updated!\n",
      "jam_axi_rms elapsed time sec: 0.09\n",
      "No PSF convolution: sigmapsf == 0;\n",
      "inc=82.6 beta_z=0.01 M/L=1.00 BH=2.87e+08 chi2/DOF=0.171\n",
      "Total mass MGE: 1.856e+14\n"
     ]
    }
   ],
   "source": [
    "Jam_Model.Updt_Model(UpdtparsDic=parsRes)\n",
    "plt.figure(figsize=(18,10))\n",
    "rmsModel, ml, chi2, flux  = Jam_Model.run_current(quiet=False, \n",
    "                                                  plot=True,nodots=False, \n",
    "                                                  cmap=\"rainbow\", label=r\"km/s\")\n",
    "plt.tight_layout()\n",
    "plt.savefig(analysis_path+\"/model.png\")\n",
    "plt.close()"
   ]
  },
  {
   "cell_type": "code",
   "execution_count": 8,
   "id": "f685864c",
   "metadata": {},
   "outputs": [],
   "source": [
    "fig = plt.figure(figsize=(18, 10))\n",
    "plot_velfield(Jam_Model.xbin, Jam_Model.ybin, \n",
    "            100*abs(Jam_Model.rms-rmsModel)/Jam_Model.rms,\n",
    "            colorbar=True,  cmap=\"rainbow\",  \n",
    "            markersize=0.2, label=\"[%]\")\n",
    "plt.title(r\"${\\Delta V_{\\rm rms}^{*}}$\")\n",
    "\n",
    "fig.tight_layout()\n",
    "plt.savefig(analysis_path+\"/residual.png\")\n",
    "plt.close()"
   ]
  },
  {
   "cell_type": "code",
   "execution_count": 9,
   "id": "95a28893",
   "metadata": {},
   "outputs": [],
   "source": [
    "import json\n",
    " # the json file where the output must be stored\n",
    "out_descripition = open(\"{}/description.json\".format(analysis_path), \"w\")\n",
    "description = { \"Reff\":  \"MGE effetive radius, in arcsec.\",\n",
    "                \"R\":     \"Radius where quantities were measured, in arcsec.\",\n",
    "                \"Mstar\": \"True stellar mass within R, in 1e10Msun.\", \n",
    "                \"Mdm\":   \"True dm mass within R, in 1e10Msun.\", \n",
    "                \"Mbh\":   \"True BH mass within R, in 1e10Msun.\", \n",
    "                \"Mtotal\":\"True total mass within R, in 1e10Msun.\", \n",
    "                \"fdm\":   \"Fraction of DM within R.\",\n",
    "                \"MMstar\": \"Model stellar mass within R, in 1e10Msun.\", \n",
    "                \"MMdm\":   \"Model dm mass within R, in 1e10Msun.\", \n",
    "                \"MMbh\":   \"Model BH mass within R, in 1e10Msun.\", \n",
    "                \"MMtotal\":\"Model total mass within R, in 1e10Msun.\", \n",
    "                \"Mfdm\":   \"Model DM fraction within R.\",\n",
    "                \"Dstar\":  \"(MMstar - Mstar)/Mstar\",\n",
    "                \"Ddm\":    \"(MMdm - Mdm)/Mdm\",\n",
    "                \"Dtotal\": \"(MMtotal - Mtotal)/Mtotal\",\n",
    "                \"Dfdm\":   \"(Mfdm - fdm)/fdm\"\n",
    "               }\n",
    "json.dump(description, out_descripition, indent = 8)\n",
    "out_descripition.close()"
   ]
  },
  {
   "cell_type": "code",
   "execution_count": 10,
   "id": "b03247bb",
   "metadata": {},
   "outputs": [],
   "source": [
    "# Get the effective radius in arcsec, and other quantities\n",
    "# See mge_half_light_isophote documentation for more details\n",
    "reff, reff_maj, eps_e, lum_tot = mge_half_light_isophote(Jam_Model.surf_lum,\n",
    "                                             Jam_Model.sigma_lum,\n",
    "                                             Jam_Model.qobs_lum,\n",
    "                                             Jam_Model.distance)"
   ]
  },
  {
   "cell_type": "code",
   "execution_count": 11,
   "id": "a9dcf8b1",
   "metadata": {},
   "outputs": [],
   "source": [
    "#  Model\n",
    "R     = 2.5*reff    # 2.5 Reff in arcsec\n",
    "R_kpc = ( (R*u.arcsec * Jam_Model.distance*u.Mpc ).to(\n",
    "                    u.kpc,u.dimensionless_angles()) ).value # 2.5Reff in kpc\n",
    "\n",
    "\n",
    "    # Get the radial mass of stars and DM within rad\n",
    "MMstar = float ( mge_radial_mass(Jam_Model.surf_lum * Jam_Model.ml_model, \n",
    "                               Jam_Model.sigma_lum, Jam_Model.qobs_lum,\n",
    "                               Jam_Model.inc, R, Jam_Model.distance) )\n",
    "\n",
    "MMdm = float ( mge_radial_mass(Jam_Model.surf_dm, \n",
    "                               Jam_Model.sigma_dm, Jam_Model.qobs_dm,\n",
    "                               Jam_Model.inc, R, Jam_Model.distance) )\n",
    "MMbh = float ( Jam_Model.mbh )  # Model BH mass\n",
    "\n",
    "    # Total Mass\n",
    "MMtotal = MMstar + MMdm + MMbh\n",
    "    # Dark matter fraction\n",
    "Mfdm = MMdm / MMtotal"
   ]
  },
  {
   "cell_type": "code",
   "execution_count": 12,
   "id": "c7e3036f",
   "metadata": {},
   "outputs": [
    {
     "ename": "FileNotFoundError",
     "evalue": "[Errno 2] No such file or directory: '/home/carlosmelo/Documents/GitHub/Illustris/my_illustris/TNG50-1-snap84-subhalo313415/dm/coordinates_dark.npy'",
     "output_type": "error",
     "traceback": [
      "\u001b[0;31m---------------------------------------------------------------------------\u001b[0m",
      "\u001b[0;31mFileNotFoundError\u001b[0m                         Traceback (most recent call last)",
      "Input \u001b[0;32mIn [12]\u001b[0m, in \u001b[0;36m<cell line: 6>\u001b[0;34m()\u001b[0m\n\u001b[1;32m      1\u001b[0m \u001b[38;5;66;03m# Data\u001b[39;00m\n\u001b[1;32m      2\u001b[0m     \u001b[38;5;66;03m# Changes this path to where are your data\u001b[39;00m\n\u001b[1;32m      3\u001b[0m \n\u001b[1;32m      4\u001b[0m \n\u001b[1;32m      5\u001b[0m     \u001b[38;5;66;03m# Load the snapshot data\u001b[39;00m\n\u001b[0;32m----> 6\u001b[0m dm_dataset   \u001b[38;5;241m=\u001b[39m \u001b[43mnp\u001b[49m\u001b[38;5;241;43m.\u001b[39;49m\u001b[43mload\u001b[49m\u001b[43m(\u001b[49m\u001b[43mdata_path\u001b[49m\u001b[38;5;241;43m+\u001b[39;49m\u001b[38;5;124;43m\"\u001b[39;49m\u001b[38;5;124;43m/dm/coordinates_dark.npy\u001b[39;49m\u001b[38;5;124;43m\"\u001b[39;49m\u001b[43m)\u001b[49m\n\u001b[1;32m      7\u001b[0m star_dataset \u001b[38;5;241m=\u001b[39m np\u001b[38;5;241m.\u001b[39mload(data_path\u001b[38;5;241m+\u001b[39m\u001b[38;5;124m\"\u001b[39m\u001b[38;5;124m/imgs/coordinates_star.npy\u001b[39m\u001b[38;5;124m\"\u001b[39m)\n\u001b[1;32m      9\u001b[0m     \u001b[38;5;66;03m# Stellar content\u001b[39;00m\n",
      "File \u001b[0;32m~/anaconda3/envs/dyLens-env/lib/python3.10/site-packages/numpy/lib/npyio.py:407\u001b[0m, in \u001b[0;36mload\u001b[0;34m(file, mmap_mode, allow_pickle, fix_imports, encoding)\u001b[0m\n\u001b[1;32m    405\u001b[0m     own_fid \u001b[38;5;241m=\u001b[39m \u001b[38;5;28;01mFalse\u001b[39;00m\n\u001b[1;32m    406\u001b[0m \u001b[38;5;28;01melse\u001b[39;00m:\n\u001b[0;32m--> 407\u001b[0m     fid \u001b[38;5;241m=\u001b[39m stack\u001b[38;5;241m.\u001b[39menter_context(\u001b[38;5;28;43mopen\u001b[39;49m\u001b[43m(\u001b[49m\u001b[43mos_fspath\u001b[49m\u001b[43m(\u001b[49m\u001b[43mfile\u001b[49m\u001b[43m)\u001b[49m\u001b[43m,\u001b[49m\u001b[43m \u001b[49m\u001b[38;5;124;43m\"\u001b[39;49m\u001b[38;5;124;43mrb\u001b[39;49m\u001b[38;5;124;43m\"\u001b[39;49m\u001b[43m)\u001b[49m)\n\u001b[1;32m    408\u001b[0m     own_fid \u001b[38;5;241m=\u001b[39m \u001b[38;5;28;01mTrue\u001b[39;00m\n\u001b[1;32m    410\u001b[0m \u001b[38;5;66;03m# Code to distinguish from NumPy binary files and pickles.\u001b[39;00m\n",
      "\u001b[0;31mFileNotFoundError\u001b[0m: [Errno 2] No such file or directory: '/home/carlosmelo/Documents/GitHub/Illustris/my_illustris/TNG50-1-snap84-subhalo313415/dm/coordinates_dark.npy'"
     ]
    }
   ],
   "source": [
    "# Data\n",
    "    # Changes this path to where are your data\n",
    "\n",
    "\n",
    "    # Load the snapshot data\n",
    "dm_dataset   = np.load(data_path+\"/dm/coordinates_dark.npy\")\n",
    "star_dataset = np.load(data_path+\"/imgs/coordinates_star.npy\")\n",
    "    \n",
    "    # Stellar content\n",
    "rStar = np.sqrt(np.sum(star_dataset[:, 0:3]**2, axis=1)) # radius\n",
    "i = rStar <= R_kpc                                     # only particles within 2.5Reff\n",
    "Mstar = sum(star_dataset[:, 6][i]*1e10)                  # stellar mass within 2.5Reff\n",
    "\n",
    "\n",
    "\n",
    "    # Dark content\n",
    "rDM = np.sqrt(np.sum(dm_dataset[:, 0:3]**2, axis=1))\n",
    "i = rDM <= R_kpc\n",
    "Mdm = sum(dm_dataset[:,3][i]*1e10)\n",
    "\n",
    "\n",
    "\n",
    "\n",
    "\n",
    "Mbh = (0.015411)*(1e10/0.67) # BH mass from TNG catalogue\n",
    "    # Total snapshot mass within 2.5Reff\n",
    "Mtotal = Mstar + Mdm + Mbh\n",
    "    # DM fraction in the snapshot within 2.5Reff\n",
    "fdm = Mdm/Mtotal"
   ]
  },
  {
   "cell_type": "code",
   "execution_count": null,
   "id": "0369834b",
   "metadata": {},
   "outputs": [],
   "source": [
    "print(\"Model stellar Mass: {:.2e} Msun\".format( float(MMstar) ))\n",
    "print(\"Data  stellar Mass: {:.2e} Msun\".format( float(Mstar) ))\n",
    "Dstar = float ( (MMstar - Mstar)/Mstar )\n",
    "print(\"(Model - Data)/Data: {:.2f}\".format( float(Dstar) ))"
   ]
  },
  {
   "cell_type": "code",
   "execution_count": 13,
   "id": "1b05b3f1",
   "metadata": {},
   "outputs": [
    {
     "name": "stdout",
     "output_type": "stream",
     "text": [
      "Model dm Mass: 9.25e+09 Msun\n"
     ]
    },
    {
     "ename": "NameError",
     "evalue": "name 'Mdm' is not defined",
     "output_type": "error",
     "traceback": [
      "\u001b[0;31m---------------------------------------------------------------------------\u001b[0m",
      "\u001b[0;31mNameError\u001b[0m                                 Traceback (most recent call last)",
      "Input \u001b[0;32mIn [13]\u001b[0m, in \u001b[0;36m<cell line: 2>\u001b[0;34m()\u001b[0m\n\u001b[1;32m      1\u001b[0m \u001b[38;5;28mprint\u001b[39m(\u001b[38;5;124m\"\u001b[39m\u001b[38;5;124mModel dm Mass: \u001b[39m\u001b[38;5;132;01m{:.2e}\u001b[39;00m\u001b[38;5;124m Msun\u001b[39m\u001b[38;5;124m\"\u001b[39m\u001b[38;5;241m.\u001b[39mformat( \u001b[38;5;28mfloat\u001b[39m(MMdm) ))\n\u001b[0;32m----> 2\u001b[0m \u001b[38;5;28mprint\u001b[39m(\u001b[38;5;124m\"\u001b[39m\u001b[38;5;124mData  dm Mass: \u001b[39m\u001b[38;5;132;01m{:.2e}\u001b[39;00m\u001b[38;5;124m Msun\u001b[39m\u001b[38;5;124m\"\u001b[39m\u001b[38;5;241m.\u001b[39mformat( \u001b[38;5;28mfloat\u001b[39m(\u001b[43mMdm\u001b[49m) ))\n\u001b[1;32m      3\u001b[0m Ddm \u001b[38;5;241m=\u001b[39m \u001b[38;5;28mfloat\u001b[39m ( (MMdm \u001b[38;5;241m-\u001b[39m Mdm)\u001b[38;5;241m/\u001b[39mMdm )\n\u001b[1;32m      4\u001b[0m \u001b[38;5;28mprint\u001b[39m(\u001b[38;5;124m\"\u001b[39m\u001b[38;5;124m(Model - Data)/Data: \u001b[39m\u001b[38;5;132;01m{:.2f}\u001b[39;00m\u001b[38;5;124m\"\u001b[39m\u001b[38;5;241m.\u001b[39mformat( \u001b[38;5;28mfloat\u001b[39m(Ddm) ))\n",
      "\u001b[0;31mNameError\u001b[0m: name 'Mdm' is not defined"
     ]
    }
   ],
   "source": [
    "print(\"Model dm Mass: {:.2e} Msun\".format( float(MMdm) ))\n",
    "print(\"Data  dm Mass: {:.2e} Msun\".format( float(Mdm) ))\n",
    "Ddm = float ( (MMdm - Mdm)/Mdm )\n",
    "print(\"(Model - Data)/Data: {:.2f}\".format( float(Ddm) ))"
   ]
  },
  {
   "cell_type": "code",
   "execution_count": 34,
   "id": "d26a7789",
   "metadata": {},
   "outputs": [
    {
     "name": "stdout",
     "output_type": "stream",
     "text": [
      "Model total Mass: 3.41e+10 Msun\n",
      "Data  total Mass: 4.12e+10 Msun\n",
      "(Model - Data)/Data: -0.17\n"
     ]
    }
   ],
   "source": [
    "print(\"Model total Mass: {:.2e} Msun\".format( float(MMtotal) ))\n",
    "print(\"Data  total Mass: {:.2e} Msun\".format( float(Mtotal) ))\n",
    "Dtotal = float ( (MMtotal - Mtotal)/Mtotal )\n",
    "print(\"(Model - Data)/Data: {:.2f}\".format( float(Dtotal) ))"
   ]
  },
  {
   "cell_type": "code",
   "execution_count": 35,
   "id": "2dafd7f6",
   "metadata": {},
   "outputs": [
    {
     "name": "stdout",
     "output_type": "stream",
     "text": [
      "Model DM fraction: 0.17\n",
      "Data  DM fraction: 0.48\n",
      "(Model - Data)/Data: -0.64\n"
     ]
    }
   ],
   "source": [
    "print(\"Model DM fraction: {:.2f}\".format( float(Mfdm) ))\n",
    "print(\"Data  DM fraction: {:.2f}\".format( float(fdm) ))\n",
    "Dfdm = float ( (Mfdm - fdm)/fdm )\n",
    "print(\"(Model - Data)/Data: {:.2f}\".format( float(Dfdm) ))"
   ]
  },
  {
   "cell_type": "code",
   "execution_count": 22,
   "id": "105ef812",
   "metadata": {},
   "outputs": [],
   "source": [
    "# Radial Density profile\n",
    "from jampy.mge_radial_density import mge_radial_density\n",
    "\n",
    "radii    = np.arange(0.1, 10*reff, 0.01)   # Radii in arcsec\n",
    "pc       = Jam_Model.distance*np.pi/0.648  # Constant factor to convert arcsec --> pc\n",
    "radii_pc = radii*pc                        # Radii in pc\n",
    "\n",
    "dstar = mge_radial_density(Jam_Model.surf_lum * Jam_Model.ml_model, \n",
    "                               Jam_Model.sigma_lum, Jam_Model.qobs_lum,\n",
    "                               Jam_Model.inc, radii, Jam_Model.distance)\n",
    "\n",
    "ddm = mge_radial_density(Jam_Model.surf_dm, \n",
    "                               Jam_Model.sigma_dm, Jam_Model.qobs_dm,\n",
    "                               Jam_Model.inc, radii, Jam_Model.distance)\n",
    "\n",
    "# Load DM density profile\n",
    "from astropy.io import fits\n",
    "dm_hdu = fits.open(data_path+\"/dm/density_fit.fits\")\n",
    "true_density = dm_hdu[1].data[\"density\"]\n",
    "true_radii = dm_hdu[1].data[\"radius\"]\n",
    "dm_fit = dm_hdu[1].data[\"bestfit\"]\n",
    "\n",
    "i = true_radii < radii_pc.max()\n",
    "\n",
    "true_density = true_density[i]\n",
    "true_radii   = true_radii[i]\n",
    "dm_fit = dm_fit[i]\n",
    "\n",
    "#  Load star density profile\n",
    "star_hdu = fits.open(data_path+\"/imgs/stellar_density.fits\")\n",
    "rho_stars = star_hdu[1].data[\"density\"]\n",
    "r_star = star_hdu[1].data[\"radius\"]\n",
    "\n",
    "\n",
    "i = r_star < radii_pc.max()\n",
    "\n",
    "rho_stars = rho_stars[i]\n",
    "r_star   = r_star[i]\n"
   ]
  },
  {
   "cell_type": "code",
   "execution_count": 24,
   "id": "40b4a210",
   "metadata": {},
   "outputs": [],
   "source": [
    "import matplotlib.pyplot as plt\n",
    "plt.rcParams['xtick.labelsize']= 12\n",
    "plt.rcParams['ytick.labelsize']= 12\n",
    "\n",
    "\n",
    "plt.figure(figsize=(15,8))\n",
    "\n",
    "plt.plot(radii_pc, np.log10(dstar), label=\"Star\", color=\"red\")\n",
    "plt.plot(radii_pc, np.log10(ddm), label=\"DM\", color=\"magenta\")\n",
    "plt.plot(radii_pc, np.log10(ddm+dstar), label=\"Total\", color=\"black\")\n",
    "plt.plot(true_radii, np.log10(dm_fit), label=\"DM CgNFW Fit\", color=\"blue\", markersize=12)\n",
    "#plt.plot(radii_pc, np.log10(a), label=\"MGE\", color=\"black\")\n",
    "\n",
    "plt.plot(true_radii, np.log10(true_density),  \".\", label=\"DM data\", color=\"magenta\", markersize=12)\n",
    "\n",
    "plt.plot(r_star, np.log10(rho_stars),  \".\", label=\"Stars data\", color=\"red\", markersize=12)\n",
    "plt.plot(r_star, np.log10(rho_stars+true_density),  \".\", label=\"Total data\", color=\"black\", markersize=12)\n",
    "\n",
    "\n",
    "\n",
    "\n",
    "plt.xlabel(\"radii [pc]\", size=20)\n",
    "plt.ylabel(\"$\\log_{10}(\\\\frac{\\\\rho}{M_\\odot/pc^3})$\", size=20)\n",
    "plt.legend()\n",
    "plt.xscale(\"log\")\n",
    "plt.tight_layout()\n",
    "plt.savefig(analysis_path+\"/density_profiles.png\")\n",
    "plt.close()"
   ]
  },
  {
   "cell_type": "code",
   "execution_count": 39,
   "id": "b257e08b",
   "metadata": {},
   "outputs": [],
   "source": [
    "r = {}\n",
    "r[\"Reff\"]   = reff\n",
    "r[\"R\"]      = R\n",
    "r[\"Mstar\"]  = Mstar\n",
    "r[\"Mdm\"]    = Mdm\n",
    "r[\"Mbh\"]    = Mbh\n",
    "r[\"Mtotal\"] = Mtotal\n",
    "r[\"fdm\"]    = fdm\n",
    "r[\"MMstar\"]  = MMstar\n",
    "r[\"MMdm\"]    = MMdm\n",
    "r[\"MMbh\"]    = MMbh\n",
    "r[\"MMtotal\"] = MMtotal\n",
    "r[\"Mfdm\"]    = Mfdm\n",
    "r[\"Dstar\"]   = Dstar\n",
    "r[\"Ddm\"]     = Ddm\n",
    "r[\"Dtotal\"]  = Dtotal\n",
    "r[\"Dfdm\"]    = Dfdm\n",
    "# the json file where the output must be stored\n",
    "out_r = open(\"{}/quantities.json\".format(analysis_path), \"w\")\n",
    "json.dump(r, out_r, indent = 8)\n",
    "out_r.close()\n",
    "\n"
   ]
  },
  {
   "cell_type": "markdown",
   "id": "43993493",
   "metadata": {},
   "source": [
    "----"
   ]
  }
 ],
 "metadata": {
  "kernelspec": {
   "display_name": "Python 3 (ipykernel)",
   "language": "python",
   "name": "python3"
  },
  "language_info": {
   "codemirror_mode": {
    "name": "ipython",
    "version": 3
   },
   "file_extension": ".py",
   "mimetype": "text/x-python",
   "name": "python",
   "nbconvert_exporter": "python",
   "pygments_lexer": "ipython3",
   "version": "3.10.4"
  }
 },
 "nbformat": 4,
 "nbformat_minor": 5
}
