{
 "cells": [
  {
   "cell_type": "code",
   "execution_count": 1,
   "id": "e56a869c",
   "metadata": {},
   "outputs": [],
   "source": [
    "import json\n",
    "import pickle\n",
    "import os\n",
    "\n",
    "\n",
    "from dynesty import NestedSampler\n",
    "from dynesty import plotting as dyplot\n",
    "from dynesty import utils as dyfunc\n",
    "\n",
    "import autolens as al\n",
    "import autolens.plot as aplt\n",
    "\n",
    "from plotbin.plot_velfield import plot_velfield\n",
    "from jampy.mge_radial_mass import mge_radial_mass\n",
    "from jampy.mge_radial_density import mge_radial_density\n",
    "from jampy.mge_half_light_isophote import mge_half_light_isophote\n",
    "from astropy import units as u"
   ]
  },
  {
   "cell_type": "code",
   "execution_count": 2,
   "id": "592a4fa6",
   "metadata": {},
   "outputs": [],
   "source": [
    "result_path = \"/home/carlosmelo/Documents/GitHub/TaleI/341482/model1\"\n",
    "phase_name = \"phase5\"\n",
    "result_path   = result_path+\"/\"+phase_name  #path to the non-linear results"
   ]
  },
  {
   "cell_type": "code",
   "execution_count": 3,
   "id": "2308a4d3",
   "metadata": {},
   "outputs": [
    {
     "name": "stdout",
     "output_type": "stream",
     "text": [
      "Summary\n",
      "=======\n",
      "nlive: 500\n",
      "niter: 5031\n",
      "ncall: 68993\n",
      "eff(%):  8.017\n",
      "logz: 4501.345 +/-  0.156\n"
     ]
    }
   ],
   "source": [
    "with open(result_path+'/Final_sampler_{}.pickle'.format(phase_name),'rb') as f:\n",
    "    sampler = pickle.load(f)\n",
    "    f.close()\n",
    "\n",
    "with open(result_path+'/{}.pickle'.format(phase_name),'rb') as f:\n",
    "    phase = pickle.load(f)\n",
    "    f.close()\n",
    "\n",
    "with open(result_path+'/CombinedModel_{}.pickle'.format(phase_name),'rb') as f:\n",
    "    CM = pickle.load(f)\n",
    "    f.close()\n",
    "\n",
    "with open(result_path+'/priors_{}.pickle'.format(phase_name),'rb') as f:\n",
    "    priors = pickle.load(f)\n",
    "    f.close()\n",
    "\n",
    "sampler = sampler[\"sampler\"]\n",
    "sampler.results.summary()"
   ]
  },
  {
   "cell_type": "code",
   "execution_count": 4,
   "id": "da9c151a",
   "metadata": {},
   "outputs": [],
   "source": [
    "# Generate a new set of results with statistical+sampling uncertainties.\n",
    "labels = list(priors.keys())\n",
    "parsRes = priors.copy()\n",
    "results_sim = dyfunc.jitter_run(dyfunc.resample_run(sampler.results))\n",
    "samples_sim, weights = results_sim.samples, results_sim.importance_weights()\n",
    "quantiles = [dyfunc.quantile(samps, [0.16, 0.5,  0.84], weights=weights)\n",
    "            for samps in samples_sim.T]                        #quantiles for each parameter\n",
    "\n",
    "    #Update the parameters\n",
    "for i, key in enumerate(parsRes.keys()):\n",
    "    parsRes[key] = quantiles[i][1]"
   ]
  },
  {
   "cell_type": "code",
   "execution_count": 5,
   "id": "a8451fdc",
   "metadata": {},
   "outputs": [
    {
     "name": "stdout",
     "output_type": "stream",
     "text": [
      "Parameters Updated!\n"
     ]
    }
   ],
   "source": [
    "adp_pix = phase.source_pix(pixels=int(phase.parsSource[\"pixels\"]),\n",
    "                            weight_floor=phase.parsSource[\"weight_floor\"],\n",
    "                            weight_power=phase.parsSource[\"weight_power\"]\n",
    "                            )\n",
    "\n",
    "adp_reg = phase.source_reg(inner_coefficient=phase.parsSource[\"inner_coefficient\"],\n",
    "                            outer_coefficient=phase.parsSource[\"outer_coefficient\"],\n",
    "                            signal_scale=phase.parsSource[\"signal_scale\"]\n",
    "                            )\n",
    "\n",
    "source_model = al.Galaxy(redshift=CM.Lens_model.z_s,\n",
    "                            pixelization=adp_pix, regularization=adp_reg,\n",
    "                            hyper_model_image=phase.hyper_image_2d,\n",
    "                            hyper_galaxy_image=phase.hyper_image_2d,\n",
    "                            )\n",
    "\n",
    "CM.source_galaxy(source_model=source_model)  #Setting the source galaxy model\n",
    "\n",
    "CM.quiet = True\n",
    "CM.Updt_Model(parsRes)"
   ]
  },
  {
   "cell_type": "code",
   "execution_count": 8,
   "id": "247dfcb9",
   "metadata": {},
   "outputs": [],
   "source": [
    "einstein_radius = CM.Fit.tracer.einstein_radius_from(CM.Fit.imaging.unmasked.grid, pixel_scale=0.09, )"
   ]
  },
  {
   "cell_type": "code",
   "execution_count": 9,
   "id": "fe3c35f9",
   "metadata": {},
   "outputs": [
    {
     "data": {
      "text/plain": [
       "Grid2DIrregular(1.2316207)"
      ]
     },
     "execution_count": 9,
     "metadata": {},
     "output_type": "execute_result"
    }
   ],
   "source": [
    "einstein_radius"
   ]
  },
  {
   "cell_type": "code",
   "execution_count": 10,
   "id": "6a2f0e35",
   "metadata": {},
   "outputs": [],
   "source": [
    "kappa = CM.Fit.tracer.convergence_2d_via_jacobian_from(CM.Fit.imaging.unmasked.grid)"
   ]
  },
  {
   "cell_type": "code",
   "execution_count": 11,
   "id": "e1d6eff5",
   "metadata": {},
   "outputs": [],
   "source": [
    "from astropy.io import fits"
   ]
  },
  {
   "cell_type": "code",
   "execution_count": 49,
   "id": "5fea074a",
   "metadata": {},
   "outputs": [],
   "source": [
    "kappa1 = fits.open(\"/home/carlosmelo/Documents/GitHub/Illustris/my_illustris/TNG50-1-snap84-subhalo341482/imgs/surface_mass_density.fits\")"
   ]
  },
  {
   "cell_type": "code",
   "execution_count": 44,
   "id": "b943f82d",
   "metadata": {},
   "outputs": [
    {
     "data": {
      "text/plain": [
       "<matplotlib.image.AxesImage at 0x7fd57fffd7e0>"
      ]
     },
     "execution_count": 44,
     "metadata": {},
     "output_type": "execute_result"
    },
    {
     "data": {
      "image/png": "[encoded data removed]",
      "text/plain": [
       "<Figure size 432x288 with 1 Axes>"
      ]
     },
     "metadata": {
      "needs_background": "light"
     },
     "output_type": "display_data"
    }
   ],
   "source": [
    "import matplotlib.pyplot as plt\n",
    "plt.imshow(kappa.native)"
   ]
  },
  {
   "cell_type": "code",
   "execution_count": 57,
   "id": "13685746",
   "metadata": {},
   "outputs": [
    {
     "data": {
      "text/plain": [
       "(2417,)"
      ]
     },
     "execution_count": 57,
     "metadata": {},
     "output_type": "execute_result"
    }
   ],
   "source": [
    "CM.Fit.imaging.grid[:,0].shape"
   ]
  },
  {
   "cell_type": "code",
   "execution_count": 59,
   "id": "50f309e0",
   "metadata": {},
   "outputs": [
    {
     "data": {
      "text/plain": [
       "(69169,)"
      ]
     },
     "execution_count": 59,
     "metadata": {},
     "output_type": "execute_result"
    }
   ],
   "source": [
    "CM.Fit.imaging.unmasked.grid[:,1]"
   ]
  },
  {
   "cell_type": "code",
   "execution_count": 60,
   "id": "92799b84",
   "metadata": {},
   "outputs": [],
   "source": [
    "y_grid, x_grid =  CM.Fit.imaging.unmasked.grid[:,0], CM.Fit.imaging.unmasked.grid[:,1] "
   ]
  },
  {
   "cell_type": "code",
   "execution_count": 63,
   "id": "b8dacf16",
   "metadata": {},
   "outputs": [
    {
     "data": {
      "text/plain": [
       "Grid2D([0., 0., 0., ..., 0., 0., 0.])"
      ]
     },
     "execution_count": 63,
     "metadata": {},
     "output_type": "execute_result"
    }
   ],
   "source": [
    "import numpy as np\n",
    "np.diff(y_grid)"
   ]
  },
  {
   "cell_type": "code",
   "execution_count": 65,
   "id": "e37d9545",
   "metadata": {},
   "outputs": [
    {
     "data": {
      "text/plain": [
       "[<matplotlib.lines.Line2D at 0x7fd57fad9360>]"
      ]
     },
     "execution_count": 65,
     "metadata": {},
     "output_type": "execute_result"
    },
    {
     "data": {
      "image/png": "[encoded data removed]",
      "text/plain": [
       "<Figure size 432x288 with 1 Axes>"
      ]
     },
     "metadata": {
      "needs_background": "light"
     },
     "output_type": "display_data"
    }
   ],
   "source": [
    "plt.plot(y_grid)"
   ]
  },
  {
   "cell_type": "code",
   "execution_count": 67,
   "id": "366b1fcf",
   "metadata": {},
   "outputs": [
    {
     "name": "stdout",
     "output_type": "stream",
     "text": [
      "Help on method uniform in module autoarray.structures.grids.uniform_2d:\n",
      "\n",
      "uniform(shape_native: Tuple[int, int], pixel_scales: Union[Tuple[float], Tuple[float, float], float], sub_size: int = 1, origin: Tuple[float, float] = (0.0, 0.0)) -> 'Grid2D' method of abc.ABCMeta instance\n",
      "    Create a `Grid2D` (see *Grid2D.__new__*) as a uniform grid of (y,x) values given an input `shape_native` and\n",
      "    `pixel_scales` of the grid:\n",
      "    \n",
      "    Parameters\n",
      "    ----------\n",
      "    shape_native\n",
      "        The 2D shape of the uniform grid and the mask that it is paired with.\n",
      "    pixel_scales\n",
      "        The (y,x) scaled units to pixel units conversion factors of every pixel. If this is input as a `float`,\n",
      "        it is converted to a (float, float) tuple.\n",
      "    sub_size\n",
      "        The size (sub_size x sub_size) of each unmasked pixels sub-grid.\n",
      "    origin\n",
      "        The origin of the grid's mask.\n",
      "\n"
     ]
    }
   ],
   "source": [
    "help(al.Grid2D.uniform)"
   ]
  },
  {
   "cell_type": "code",
   "execution_count": 112,
   "id": "35d25a69",
   "metadata": {},
   "outputs": [],
   "source": [
    "def effective_einstein_radius_from_kappa(kappa, grid_spacing, grid=None, Nsamples=1000,  \n",
    "                                           get_precision=False, verbose=True):\n",
    "    \"\"\"\n",
    "    This function is originally from the code lenstronomy (https://lenstronomy.readthedocs.io/en/stable/), \n",
    "    implemented at: \n",
    "    https://github.com/AlexandreAdam/lenstronomy/blob/acfc0e8c5577e59fc20d3bcd4657bf50bd007ee2/lenstronomy/Analysis/lens_profile.py#L159\n",
    "\n",
    "    Here we made some modifications to allow the calculation of the Effective Einstein ring \n",
    "    from kappa (i.e. convergence map) derived either from a mass model or hydrodynamical simulation.\n",
    "\n",
    "\n",
    "\n",
    "    Computes the radius with mean convergence=1\n",
    "    \n",
    "    Inputs:\n",
    "    ----------------------\n",
    "    kappa [Ad]: 2d-array\n",
    "        2d convergence map. The pixel scale should be the same\n",
    "        as in grid_spacing.\n",
    "    grid_spacing [arcsec]: float \n",
    "        spacing in angular units of the grid.\n",
    "    \n",
    "    Optional:\n",
    "    ----------------------\n",
    "    grid [arcsec]: 2d-array\n",
    "        grid of (y,x) arcsec coordinates used to estimate the Einstein radius.\n",
    "        If None, uses the kappa grid coordinates.\n",
    "    Nsamples: int\n",
    "        number of grid points to numerically evaluate the convergence and \n",
    "        estimate the Einstein radius\n",
    "    \n",
    "    get_precision: bool\n",
    "        if True, return the precision of estimated Einstein radius\n",
    "    verbose: bool, \n",
    "        if True prints warning if indication of insufficient result \n",
    "    \n",
    "    Output:\n",
    "    ---------------------\n",
    "    thetaE [arcsec]: float\n",
    "        estimate of the Einstein radius\n",
    "    \"\"\"\n",
    "    \n",
    "    if grid is None:\n",
    "        grid = al.Grid2D.uniform(shape_native=(kappa.shape[0], kappa.shape[0]),\n",
    "                                          pixel_scales=grid_spacing) \n",
    "    else: pass   \n",
    "        \n",
    "    \n",
    "    r_array = np.linspace(0, kappa.shape[0]*grid_spacing/2., Nsamples)\n",
    "    kappa_flat = kappa.flatten()\n",
    "\n",
    "    for r in r_array:\n",
    "        mask = np.array(1 - al.Mask2D.circular(shape_native=grid.shape_native,\n",
    "                                                radius=r,\n",
    "                                                pixel_scales=grid_spacing))\n",
    "        mask = mask.flatten()\n",
    "        sum_mask = np.sum(mask)\n",
    "        if sum_mask > 0:\n",
    "            kappa_mean = np.sum(kappa_flat*mask)/np.sum(mask)\n",
    "            if kappa_mean < 1:\n",
    "                if get_precision:\n",
    "                    return r, r_array[1] - r_array[0]\n",
    "                else:\n",
    "                    return r\n",
    "    if verbose:\n",
    "            Warning(\"No Einstein radius computed for this convergence map!\")\n",
    "    return np.nan"
   ]
  },
  {
   "cell_type": "code",
   "execution_count": 117,
   "id": "1f9d33b3",
   "metadata": {},
   "outputs": [
    {
     "data": {
      "text/plain": [
       "1.2083783783783781"
      ]
     },
     "execution_count": 117,
     "metadata": {},
     "output_type": "execute_result"
    }
   ],
   "source": [
    "effective_einstein_radius_from_kappa(kappa.native, 0.09, grid=grid)"
   ]
  },
  {
   "cell_type": "code",
   "execution_count": 116,
   "id": "26e61adf",
   "metadata": {},
   "outputs": [
    {
     "data": {
      "text/plain": [
       "Grid2D([[ 11.79, -11.79],\n",
       "        [ 11.79, -11.7 ],\n",
       "        [ 11.79, -11.61],\n",
       "        ...,\n",
       "        [-11.79,  11.61],\n",
       "        [-11.79,  11.7 ],\n",
       "        [-11.79,  11.79]])"
      ]
     },
     "execution_count": 116,
     "metadata": {},
     "output_type": "execute_result"
    }
   ],
   "source": [
    "grid"
   ]
  },
  {
   "cell_type": "code",
   "execution_count": 109,
   "id": "16b308ef",
   "metadata": {},
   "outputs": [],
   "source": [
    "mask = al.Mask2D.circular(shape_native=grid.shape_native,\n",
    "                                        radius=1.23,\n",
    "                                        pixel_scales=0.09)"
   ]
  },
  {
   "cell_type": "code",
   "execution_count": 110,
   "id": "6e778053",
   "metadata": {},
   "outputs": [
    {
     "data": {
      "text/plain": [
       "593"
      ]
     },
     "execution_count": 110,
     "metadata": {},
     "output_type": "execute_result"
    }
   ],
   "source": [
    "sum(1- mask.flatten())"
   ]
  },
  {
   "cell_type": "code",
   "execution_count": null,
   "id": "63cea89e",
   "metadata": {},
   "outputs": [],
   "source": []
  }
 ],
 "metadata": {
  "kernelspec": {
   "display_name": "Python 3 (ipykernel)",
   "language": "python",
   "name": "python3"
  },
  "language_info": {
   "codemirror_mode": {
    "name": "ipython",
    "version": 3
   },
   "file_extension": ".py",
   "mimetype": "text/x-python",
   "name": "python",
   "nbconvert_exporter": "python",
   "pygments_lexer": "ipython3",
   "version": "3.10.4"
  }
 },
 "nbformat": 4,
 "nbformat_minor": 5
}
