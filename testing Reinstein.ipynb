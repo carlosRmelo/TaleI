{
 "cells": [
  {
   "cell_type": "code",
   "execution_count": 1,
   "id": "e56a869c",
   "metadata": {},
   "outputs": [],
   "source": [
    "import json\n",
    "import pickle\n",
    "import os\n",
    "\n",
    "\n",
    "from dynesty import NestedSampler\n",
    "from dynesty import plotting as dyplot\n",
    "from dynesty import utils as dyfunc\n",
    "\n",
    "import autolens as al\n",
    "import autolens.plot as aplt\n",
    "\n",
    "from plotbin.plot_velfield import plot_velfield\n",
    "from jampy.mge_radial_mass import mge_radial_mass\n",
    "from jampy.mge_radial_density import mge_radial_density\n",
    "from jampy.mge_half_light_isophote import mge_half_light_isophote\n",
    "from astropy import units as u"
   ]
  },
  {
   "cell_type": "code",
   "execution_count": 2,
   "id": "592a4fa6",
   "metadata": {},
   "outputs": [],
   "source": [
    "result_path = \"/home/carlosmelo/Documents/GitHub/TaleI/341482/model1\"\n",
    "phase_name = \"phase5\"\n",
    "result_path   = result_path+\"/\"+phase_name  #path to the non-linear results"
   ]
  },
  {
   "cell_type": "code",
   "execution_count": 3,
   "id": "2308a4d3",
   "metadata": {},
   "outputs": [
    {
     "name": "stdout",
     "output_type": "stream",
     "text": [
      "Summary\n",
      "=======\n",
      "nlive: 500\n",
      "niter: 5031\n",
      "ncall: 68993\n",
      "eff(%):  8.017\n",
      "logz: 4501.345 +/-  0.156\n"
     ]
    }
   ],
   "source": [
    "with open(result_path+'/Final_sampler_{}.pickle'.format(phase_name),'rb') as f:\n",
    "    sampler = pickle.load(f)\n",
    "    f.close()\n",
    "\n",
    "with open(result_path+'/{}.pickle'.format(phase_name),'rb') as f:\n",
    "    phase = pickle.load(f)\n",
    "    f.close()\n",
    "\n",
    "with open(result_path+'/CombinedModel_{}.pickle'.format(phase_name),'rb') as f:\n",
    "    CM = pickle.load(f)\n",
    "    f.close()\n",
    "\n",
    "with open(result_path+'/priors_{}.pickle'.format(phase_name),'rb') as f:\n",
    "    priors = pickle.load(f)\n",
    "    f.close()\n",
    "\n",
    "sampler = sampler[\"sampler\"]\n",
    "sampler.results.summary()"
   ]
  },
  {
   "cell_type": "code",
   "execution_count": 4,
   "id": "da9c151a",
   "metadata": {},
   "outputs": [],
   "source": [
    "# Generate a new set of results with statistical+sampling uncertainties.\n",
    "labels = list(priors.keys())\n",
    "parsRes = priors.copy()\n",
    "results_sim = dyfunc.jitter_run(dyfunc.resample_run(sampler.results))\n",
    "samples_sim, weights = results_sim.samples, results_sim.importance_weights()\n",
    "quantiles = [dyfunc.quantile(samps, [0.16, 0.5,  0.84], weights=weights)\n",
    "            for samps in samples_sim.T]                        #quantiles for each parameter\n",
    "\n",
    "    #Update the parameters\n",
    "for i, key in enumerate(parsRes.keys()):\n",
    "    parsRes[key] = quantiles[i][1]"
   ]
  },
  {
   "cell_type": "code",
   "execution_count": 5,
   "id": "a8451fdc",
   "metadata": {},
   "outputs": [
    {
     "name": "stdout",
     "output_type": "stream",
     "text": [
      "Parameters Updated!\n"
     ]
    }
   ],
   "source": [
    "adp_pix = phase.source_pix(pixels=int(phase.parsSource[\"pixels\"]),\n",
    "                            weight_floor=phase.parsSource[\"weight_floor\"],\n",
    "                            weight_power=phase.parsSource[\"weight_power\"]\n",
    "                            )\n",
    "\n",
    "adp_reg = phase.source_reg(inner_coefficient=phase.parsSource[\"inner_coefficient\"],\n",
    "                            outer_coefficient=phase.parsSource[\"outer_coefficient\"],\n",
    "                            signal_scale=phase.parsSource[\"signal_scale\"]\n",
    "                            )\n",
    "\n",
    "source_model = al.Galaxy(redshift=CM.Lens_model.z_s,\n",
    "                            pixelization=adp_pix, regularization=adp_reg,\n",
    "                            hyper_model_image=phase.hyper_image_2d,\n",
    "                            hyper_galaxy_image=phase.hyper_image_2d,\n",
    "                            )\n",
    "\n",
    "CM.source_galaxy(source_model=source_model)  #Setting the source galaxy model\n",
    "\n",
    "CM.quiet = True\n",
    "CM.Updt_Model(parsRes)"
   ]
  },
  {
   "cell_type": "code",
   "execution_count": 6,
   "id": "e1d6eff5",
   "metadata": {},
   "outputs": [],
   "source": [
    "from astropy.io import fits\n",
    "from astropy.cosmology import FlatLambdaCDM\n",
    "from astropy import units as u\n",
    "from astropy import constants as const\n",
    "import numpy as np\n",
    "\n",
    "def critical_surface_density(z_l, z_s, cosmo, \n",
    "                    output_unit=u.solMass / (u.kpc*u.kpc)):\n",
    "    \"\"\"\n",
    "        Compute the critical lens surface density.\n",
    "        Inputs:\n",
    "        --------------\n",
    "        z_l: lens redshift\n",
    "        z_s: source redshift\n",
    "        cosmo: assumes cosmology\n",
    "        output_unit: astropy units of the critical surface density\n",
    "        \n",
    "        Output:\n",
    "        -------------\n",
    "        crit_surface_density: critical surface density in output units.\n",
    "            Default is M_solar/pc^2\n",
    "    \"\"\"\n",
    "    v_light = const.c\n",
    "    grav_const = const.G \n",
    "    Ds = cosmo.angular_diameter_distance(z_s)\n",
    "    Dd = cosmo.angular_diameter_distance(z_l)\n",
    "    Dds = cosmo.angular_diameter_distance_z1z2(z_l,z_s)\n",
    "\n",
    "    crit_surface_density = v_light**2 / \\\n",
    "                    (4*np.pi*grav_const) * \\\n",
    "                    Ds/Dd/Dds\n",
    "                    \n",
    "    return crit_surface_density.to(output_unit)  #critical density in unit of M_solar/kpc^2\n",
    "\n"
   ]
  },
  {
   "cell_type": "code",
   "execution_count": 7,
   "id": "5fea074a",
   "metadata": {},
   "outputs": [],
   "source": [
    "sigma_M = fits.open(\"/home/carlosmelo/Documents/GitHub/Illustris/my_illustris/TNG50-1-snap84-subhalo341482/imgs/surface_mass_density.fits\")[0]"
   ]
  },
  {
   "cell_type": "code",
   "execution_count": 8,
   "id": "c64bfdfb",
   "metadata": {},
   "outputs": [],
   "source": [
    "cosmo = FlatLambdaCDM(H0=sigma_M.header[\"H0\"], Om0=sigma_M.header[\"Omega0\"])"
   ]
  },
  {
   "cell_type": "code",
   "execution_count": 9,
   "id": "8ed36689",
   "metadata": {},
   "outputs": [],
   "source": [
    "critical_density = critical_surface_density(sigma_M.header[\"z\"], 0.7953, cosmo)"
   ]
  },
  {
   "cell_type": "code",
   "execution_count": 34,
   "id": "bb8d5702",
   "metadata": {},
   "outputs": [
    {
     "name": "stdout",
     "output_type": "stream",
     "text": [
      "The analytical DM profile will be parametrized by Gaussians.\n",
      "[2.77154166e+02 2.84482208e+02 2.93965629e+02 3.04244091e+02\n",
      " 3.15035492e+02 3.25525027e+02 3.33299901e+02 3.31483580e+02\n",
      " 3.02718952e+02 2.24750690e+02 1.20219741e+02 4.65028153e+01\n",
      " 1.43060284e+01 3.84577698e+00 9.62024570e-01 2.32359818e-01\n",
      " 5.53089549e-02 1.31420881e-02 3.19464214e-03 8.25833014e-04] [2.90881139e-04 8.29537821e-04 2.35192281e-03 6.64966057e-03\n",
      " 1.87701453e-02 5.28608068e-02 1.47777433e-01 4.04121271e-01\n",
      " 1.05011219e+00 2.52113366e+00 5.63417736e+00 1.20820385e+01\n",
      " 2.54183597e+01 5.30317594e+01 1.10181483e+02 2.28218185e+02\n",
      " 4.71239045e+02 9.70232074e+02 2.01473586e+03 4.79865754e+03]\n"
     ]
    }
   ],
   "source": [
    "kappa = (sigma_M.data*1e10)/ ( CM.Lens_model.critical_density/(1e3)**2 )# Kappa from data\n",
    "\n",
    "\n",
    "kappa_autolens = CM.Fit.tracer.convergence_2d_via_jacobian_from(CM.Fit.imaging.unmasked.grid,)  # kappa from autolens\n",
    "kappa_2 = CM.Lens_model.convergence_2d_from(CM.Fit.imaging.unmasked.grid) # kappa from me"
   ]
  },
  {
   "cell_type": "code",
   "execution_count": 11,
   "id": "35d25a69",
   "metadata": {},
   "outputs": [],
   "source": [
    "def effective_einstein_radius_from_kappa(kappa, grid_spacing, grid=None, Nsamples=1000,  \n",
    "                                           get_precision=False, verbose=True):\n",
    "    \"\"\"\n",
    "    This function is originally from the code lenstronomy (https://lenstronomy.readthedocs.io/en/stable/), \n",
    "    implemented at: \n",
    "    https://github.com/AlexandreAdam/lenstronomy/blob/acfc0e8c5577e59fc20d3bcd4657bf50bd007ee2/lenstronomy/Analysis/lens_profile.py#L159\n",
    "\n",
    "    Here we made some modifications to allow the calculation of the Effective Einstein ring \n",
    "    from kappa (i.e. convergence map) derived either from a mass model or hydrodynamical simulation.\n",
    "\n",
    "\n",
    "\n",
    "    Computes the radius with mean convergence=1\n",
    "    \n",
    "    Inputs:\n",
    "    ----------------------\n",
    "    kappa [Ad]: 2d-array\n",
    "        2d convergence map. The pixel scale should be the same\n",
    "        as in grid_spacing.\n",
    "    grid_spacing [arcsec]: float \n",
    "        spacing in angular units of the grid.\n",
    "    \n",
    "    Optional:\n",
    "    ----------------------\n",
    "    grid [arcsec]: 2d-array\n",
    "        grid of (y,x) arcsec coordinates used to estimate the Einstein radius.\n",
    "        If None, uses the kappa grid coordinates.\n",
    "    Nsamples: int\n",
    "        number of grid points to numerically evaluate the convergence and \n",
    "        estimate the Einstein radius\n",
    "    \n",
    "    get_precision: bool\n",
    "        if True, return the precision of estimated Einstein radius\n",
    "    verbose: bool, \n",
    "        if True prints warning if indication of insufficient result \n",
    "    \n",
    "    Output:\n",
    "    ---------------------\n",
    "    thetaE [arcsec]: float\n",
    "        estimate of the Einstein radius\n",
    "    \"\"\"\n",
    "    \n",
    "    if grid is None:\n",
    "        grid = al.Grid2D.uniform(shape_native=(kappa.shape[0], kappa.shape[0]),\n",
    "                                          pixel_scales=grid_spacing) \n",
    "    else: pass   \n",
    "        \n",
    "    \n",
    "    r_array = np.linspace(0, kappa.shape[0]*grid_spacing/2., Nsamples)\n",
    "    kappa_flat = kappa.flatten()\n",
    "\n",
    "    for r in r_array:\n",
    "        mask = np.array(1 - al.Mask2D.circular(shape_native=grid.shape_native,\n",
    "                                                radius=r,\n",
    "                                                pixel_scales=grid_spacing))\n",
    "        mask = mask.flatten()\n",
    "        sum_mask = np.sum(mask)\n",
    "        if sum_mask > 0:\n",
    "            kappa_mean = np.sum(kappa_flat*mask)/np.sum(mask)\n",
    "            if kappa_mean < 1:\n",
    "                if get_precision:\n",
    "                    return r, r_array[1] - r_array[0]\n",
    "                else:\n",
    "                    return r\n",
    "    if verbose:\n",
    "            Warning(\"No Einstein radius computed for this convergence map!\")\n",
    "    return np.nan"
   ]
  },
  {
   "cell_type": "code",
   "execution_count": 12,
   "id": "58166837",
   "metadata": {},
   "outputs": [],
   "source": [
    "ring_auto = CM.Fit.tracer.einstein_radius_from(CM.Fit.imaging.unmasked.grid, \n",
    "                                               pixel_scale=0.09, ) # ring from autolens\n",
    "ring_kappa_auto =  effective_einstein_radius_from_kappa(kappa_autolens.native,\n",
    "                                                        0.09, grid=CM.Fit.imaging.unmasked.grid) # ring from kappa autolens\n",
    "ring_kappa = effective_einstein_radius_from_kappa(kappa, 0.09, \n",
    "                                                  grid=CM.Fit.imaging.unmasked.grid) # ring from data kappa\n",
    "ring_me = effective_einstein_radius_from_kappa(kappa_2, 0.09, \n",
    "                                               grid=CM.Fit.imaging.unmasked.grid) # ring from my kappa"
   ]
  },
  {
   "cell_type": "code",
   "execution_count": 52,
   "id": "daf9001d",
   "metadata": {},
   "outputs": [
    {
     "data": {
      "text/plain": [
       "34584"
      ]
     },
     "execution_count": 52,
     "metadata": {},
     "output_type": "execute_result"
    }
   ],
   "source": [
    "int(CM.Fit.imaging.unmasked.grid.shape[0]/2)"
   ]
  },
  {
   "cell_type": "code",
   "execution_count": 40,
   "id": "63cea89e",
   "metadata": {},
   "outputs": [
    {
     "data": {
      "text/plain": [
       "1.2076530612244896"
      ]
     },
     "execution_count": 40,
     "metadata": {},
     "output_type": "execute_result"
    }
   ],
   "source": [
    "effective_einstein_radius_from_kappa(kappa_2, 0.09, \n",
    "                                               grid=CM.Fit.imaging.unmasked.grid, Nsamples=2500) # ring from my kappa"
   ]
  },
  {
   "cell_type": "code",
   "execution_count": 41,
   "id": "b0930ff3",
   "metadata": {},
   "outputs": [
    {
     "data": {
      "text/plain": [
       "1.2083783783783781"
      ]
     },
     "execution_count": 41,
     "metadata": {},
     "output_type": "execute_result"
    }
   ],
   "source": [
    "effective_einstein_radius_from_kappa(kappa, 0.09, \n",
    "                                                  grid=CM.Fit.imaging.unmasked.grid) #"
   ]
  },
  {
   "cell_type": "code",
   "execution_count": 35,
   "id": "1264d114",
   "metadata": {},
   "outputs": [],
   "source": [
    "\n",
    "ring_kappa_auto =  effective_einstein_radius_from_kappa(kappa_autolens.native,\n",
    "                                                        0.09, grid=CM.Fit.imaging.unmasked.grid) # ring from kappa autolens\n",
    "ring_kappa = effective_einstein_radius_from_kappa(kappa, 0.09, \n",
    "                                                  grid=CM.Fit.imaging.unmasked.grid) # ring from data kappa\n",
    "ring_me = effective_einstein_radius_from_kappa(kappa_2, 0.09, \n",
    "                                               grid=CM.Fit.imaging.unmasked.grid) # ring from my kappa"
   ]
  },
  {
   "cell_type": "code",
   "execution_count": 36,
   "id": "282dd363",
   "metadata": {},
   "outputs": [
    {
     "data": {
      "text/plain": [
       "(1.2083783783783781, 1.2083783783783781, 1.2083783783783781)"
      ]
     },
     "execution_count": 36,
     "metadata": {},
     "output_type": "execute_result"
    }
   ],
   "source": [
    "ring_kappa_auto, ring_kappa, ring_me"
   ]
  },
  {
   "cell_type": "code",
   "execution_count": null,
   "id": "56eabc38",
   "metadata": {},
   "outputs": [],
   "source": [
    "import numpy as np\n",
    "from scipy import stats\n",
    "from astropy import units as u\n",
    "\n",
    "\n",
    "def SurfaceDensity(surf, sigma, qObs, grid):\n",
    "    \n",
    "    \"\"\"\n",
    "    Calculates the surface density of an MGE for a given grid (y, x).\n",
    "    \n",
    "    INPUTS\n",
    "    -------------\n",
    "        surf: MGE surface mass density (Msun/pc2)\n",
    "        sigma: MGE dispersion          (arcsec)\n",
    "        qObs: MGE axial ratio\n",
    "        grid: grid with possitions (y,x) in arcsec.\n",
    "\n",
    "    \"\"\"\n",
    "    \n",
    "    # copy x and y arrays Ncpt times\n",
    "    x = grid[:,1]\n",
    "    y = grid[:,0]\n",
    "    \n",
    "    # combine R and z arrays with flattening, make sure unit matches mge widths\n",
    "    xyq = np.sqrt(xx**2 + yy**2/pmge[\"q\"]**2).to(pmge[\"s\"].unit)\n",
    "    \n",
    "    # calculate density profile\n",
    "    height = np.sqrt(2*np.pi)*pmge[\"s\"]*pmge[\"i\"]\n",
    "    density = np.sum(height*stats.norm.pdf(xyq, 0, pmge[\"s\"])/pmge[\"s\"].unit,\n",
    "         axis=-1)\n",
    "    \n",
    "    return density"
   ]
  },
  {
   "cell_type": "code",
   "execution_count": 109,
   "id": "f9bc8ffc",
   "metadata": {},
   "outputs": [
    {
     "data": {
      "text/plain": [
       "(263, 263, 2)"
      ]
     },
     "execution_count": 109,
     "metadata": {},
     "output_type": "execute_result"
    }
   ],
   "source": [
    "CM.Fit.imaging.unmasked.grid.native.shape"
   ]
  },
  {
   "cell_type": "code",
   "execution_count": 113,
   "id": "716f42f4",
   "metadata": {},
   "outputs": [
    {
     "data": {
      "text/plain": [
       "Grid2D([[ 11.79, -11.79],\n",
       "        [ 11.79, -11.7 ],\n",
       "        [ 11.79, -11.61],\n",
       "        ...,\n",
       "        [-11.79,  11.61],\n",
       "        [-11.79,  11.7 ],\n",
       "        [-11.79,  11.79]])"
      ]
     },
     "execution_count": 113,
     "metadata": {},
     "output_type": "execute_result"
    }
   ],
   "source": [
    "CM.Fit.imaging.unmasked.grid"
   ]
  },
  {
   "cell_type": "code",
   "execution_count": 115,
   "id": "fe622818",
   "metadata": {},
   "outputs": [],
   "source": [
    "xy = np.linspace(-11.79, 11.79, 263)\n",
    "x, y = np.meshgrid(xy, xy)\n",
    "\n",
    "# calculate surface density\n"
   ]
  },
  {
   "cell_type": "code",
   "execution_count": 116,
   "id": "f69b9c1d",
   "metadata": {},
   "outputs": [
    {
     "data": {
      "text/plain": [
       "array([[-11.79, -11.7 , -11.61, ...,  11.61,  11.7 ,  11.79],\n",
       "       [-11.79, -11.7 , -11.61, ...,  11.61,  11.7 ,  11.79],\n",
       "       [-11.79, -11.7 , -11.61, ...,  11.61,  11.7 ,  11.79],\n",
       "       ...,\n",
       "       [-11.79, -11.7 , -11.61, ...,  11.61,  11.7 ,  11.79],\n",
       "       [-11.79, -11.7 , -11.61, ...,  11.61,  11.7 ,  11.79],\n",
       "       [-11.79, -11.7 , -11.61, ...,  11.61,  11.7 ,  11.79]])"
      ]
     },
     "execution_count": 116,
     "metadata": {},
     "output_type": "execute_result"
    }
   ],
   "source": [
    "x"
   ]
  },
  {
   "cell_type": "code",
   "execution_count": 233,
   "id": "26ef3f87",
   "metadata": {},
   "outputs": [
    {
     "data": {
      "text/plain": [
       "(100, 20)"
      ]
     },
     "execution_count": 233,
     "metadata": {},
     "output_type": "execute_result"
    }
   ],
   "source": [
    "a.shape_native"
   ]
  },
  {
   "cell_type": "code",
   "execution_count": 215,
   "id": "07b42de3",
   "metadata": {},
   "outputs": [],
   "source": [
    "a = al.Grid2D.uniform(shape_native=(100,20), pixel_scales=0.1)"
   ]
  },
  {
   "cell_type": "code",
   "execution_count": 225,
   "id": "a8f5dd50",
   "metadata": {},
   "outputs": [
    {
     "data": {
      "text/plain": [
       "EllNFW\n",
       "centre: (0.0, 0.0)\n",
       "elliptical_comps: (0.0, 0.0)\n",
       "kappa_s: 0.05\n",
       "scale_radius: 1.0\n",
       "inner_slope: 1.0"
      ]
     },
     "execution_count": 225,
     "metadata": {},
     "output_type": "execute_result"
    }
   ],
   "source": [
    "al.mp.EllNFW()"
   ]
  },
  {
   "cell_type": "code",
   "execution_count": 230,
   "id": "4b4b1ad1",
   "metadata": {},
   "outputs": [
    {
     "data": {
      "text/plain": [
       "(0.0, 5.551115123125783e-17)"
      ]
     },
     "execution_count": 230,
     "metadata": {},
     "output_type": "execute_result"
    }
   ],
   "source": [
    "CM.Lens_model.analytic_profile.elliptical_comps"
   ]
  },
  {
   "cell_type": "code",
   "execution_count": 231,
   "id": "87e814c5",
   "metadata": {},
   "outputs": [
    {
     "data": {
      "text/plain": [
       "(1.0, 0.0)"
      ]
     },
     "execution_count": 231,
     "metadata": {},
     "output_type": "execute_result"
    }
   ],
   "source": [
    "al.convert.axis_ratio_and_angle_from(CM.Lens_model.analytic_profile.elliptical_comps)"
   ]
  },
  {
   "cell_type": "code",
   "execution_count": 191,
   "id": "94611acc",
   "metadata": {},
   "outputs": [],
   "source": [
    "y = CM.Fit.imaging.unmasked.grid[:,0]\n",
    "x = CM.Fit.imaging.unmasked.grid[:,1]\n",
    "\n",
    "qObs  = np.append(CM.Lens_model.qobs_lum, CM.Jampy_model.qobs_dm)\n",
    "sigma = np.append(CM.Lens_model.sigma_lum, CM.Jampy_model.sigma_dm)\n",
    "surf  = np.append(CM.Lens_model.surf_lum * CM.Jampy_model.ml_model, CM.Jampy_model.surf_dm)\n"
   ]
  },
  {
   "cell_type": "code",
   "execution_count": 192,
   "id": "fcf34040",
   "metadata": {},
   "outputs": [],
   "source": [
    "#density = np.empty_like([CM.Fit.imaging.unmasked.grid.native.shape[0], CM.Fit.imaging.unmasked.grid.native.shape[1]])\n",
    "\n",
    "x = np.asarray( [CM.Fit.imaging.unmasked.grid[:,1].T]*len(qObs) ).T\n",
    "\n",
    "y = np.asarray( [CM.Fit.imaging.unmasked.grid[:,0].T]*len(qObs) ).T\n",
    "\n",
    "xyq2   = x*x + y*y/(qObs*qObs)\n",
    "sigma2 = sigma*sigma\n",
    "exp    = np.exp( -0.5*xyq2/sigma2 )\n",
    "\n",
    "density = np.sum( surf * exp, axis=-1).reshape(263,263)\n"
   ]
  },
  {
   "cell_type": "code",
   "execution_count": 193,
   "id": "43452afe",
   "metadata": {},
   "outputs": [
    {
     "data": {
      "text/plain": [
       "<matplotlib.colorbar.Colorbar at 0x7f2c03964760>"
      ]
     },
     "execution_count": 193,
     "metadata": {},
     "output_type": "execute_result"
    },
    {
     "data": {
      "image/png": "[encoded data removed]",
      "text/plain": [
       "<Figure size 432x288 with 2 Axes>"
      ]
     },
     "metadata": {
      "needs_background": "light"
     },
     "output_type": "display_data"
    }
   ],
   "source": [
    "plt.imshow(density, origin=\"lower\")\n",
    "plt.colorbar()"
   ]
  },
  {
   "cell_type": "code",
   "execution_count": 196,
   "id": "caae2949",
   "metadata": {},
   "outputs": [
    {
     "data": {
      "text/plain": [
       "array([[0.00730665, 0.01169064, 0.00876798, ..., 0.02045863, 0.01022931,\n",
       "        0.00730665],\n",
       "       [0.01315198, 0.01485009, 0.01315198, ..., 0.01169064, 0.01169064,\n",
       "        0.00438399],\n",
       "       [0.01477466, 0.01022931, 0.00730665, ..., 0.01022931, 0.01607464,\n",
       "        0.00876798],\n",
       "       ...,\n",
       "       [0.02191996, 0.00876798, 0.01034527, ..., 0.00438399, 0.01753597,\n",
       "        0.01315198],\n",
       "       [0.0118595 , 0.02045863, 0.0189973 , ..., 0.00730665, 0.01767539,\n",
       "        0.01753597],\n",
       "       [0.0189973 , 0.01607464, 0.01178719, ..., 0.01169064, 0.01607464,\n",
       "        0.0189973 ]])"
      ]
     },
     "execution_count": 196,
     "metadata": {},
     "output_type": "execute_result"
    }
   ],
   "source": [
    "kappa"
   ]
  },
  {
   "cell_type": "code",
   "execution_count": 197,
   "id": "db3dedfe",
   "metadata": {},
   "outputs": [
    {
     "data": {
      "text/plain": [
       "array([[0.01063128, 0.01069105, 0.01075116, ..., 0.01075116, 0.01069105,\n",
       "        0.01063128],\n",
       "       [0.01069107, 0.01075165, 0.01081257, ..., 0.01081257, 0.01075165,\n",
       "        0.01069107],\n",
       "       [0.0107512 , 0.01081259, 0.01087434, ..., 0.01087434, 0.01081259,\n",
       "        0.0107512 ],\n",
       "       ...,\n",
       "       [0.0107512 , 0.01081259, 0.01087434, ..., 0.01087434, 0.01081259,\n",
       "        0.0107512 ],\n",
       "       [0.01069107, 0.01075165, 0.01081257, ..., 0.01081257, 0.01075165,\n",
       "        0.01069107],\n",
       "       [0.01063128, 0.01069105, 0.01075116, ..., 0.01075116, 0.01069105,\n",
       "        0.01063128]])"
      ]
     },
     "execution_count": 197,
     "metadata": {},
     "output_type": "execute_result"
    }
   ],
   "source": [
    "density/critical_density.to(u.Msun/u.pc**2).value"
   ]
  },
  {
   "cell_type": "code",
   "execution_count": 199,
   "id": "aaa43b53",
   "metadata": {},
   "outputs": [
    {
     "data": {
      "text/plain": [
       "Array2D([[0.0107305 , 0.01073246, 0.01079576, ..., 0.01079576,\n",
       "          0.01073246, 0.0107305 ],\n",
       "         [0.01073514, 0.01073752, 0.01080152, ..., 0.01080152,\n",
       "          0.01073752, 0.01073514],\n",
       "         [0.01079857, 0.01080155, 0.0108664 , ..., 0.0108664 ,\n",
       "          0.01080155, 0.01079857],\n",
       "         ...,\n",
       "         [0.01079857, 0.01080155, 0.0108664 , ..., 0.0108664 ,\n",
       "          0.01080155, 0.01079857],\n",
       "         [0.01073514, 0.01073752, 0.01080152, ..., 0.01080152,\n",
       "          0.01073752, 0.01073514],\n",
       "         [0.0107305 , 0.01073246, 0.01079576, ..., 0.01079576,\n",
       "          0.01073246, 0.0107305 ]])"
      ]
     },
     "execution_count": 199,
     "metadata": {},
     "output_type": "execute_result"
    }
   ],
   "source": [
    "kappa_autolens.native"
   ]
  },
  {
   "cell_type": "code",
   "execution_count": 200,
   "id": "64096aac",
   "metadata": {},
   "outputs": [
    {
     "data": {
      "text/plain": [
       "1.2083783783783781"
      ]
     },
     "execution_count": 200,
     "metadata": {},
     "output_type": "execute_result"
    }
   ],
   "source": [
    "effective_einstein_radius_from_kappa(density/critical_density.to(u.Msun/u.pc**2).value\n",
    "                                     , 0.09, grid=CM.Fit.imaging.unmasked.grid)"
   ]
  },
  {
   "cell_type": "code",
   "execution_count": 186,
   "id": "d64b55a5",
   "metadata": {},
   "outputs": [
    {
     "data": {
      "text/latex": [
       "$3377.3864 \\; \\mathrm{\\frac{M_{\\odot}}{pc^{2}}}$"
      ],
      "text/plain": [
       "<Quantity 3377.38637237 solMass / pc2>"
      ]
     },
     "execution_count": 186,
     "metadata": {},
     "output_type": "execute_result"
    }
   ],
   "source": [
    "critical_density.to(u.Msun/u.pc**2)"
   ]
  },
  {
   "cell_type": "code",
   "execution_count": 206,
   "id": "e62ab148",
   "metadata": {},
   "outputs": [
    {
     "data": {
      "text/plain": [
       "EllNFWGeneralized\n",
       "centre: (0.0, 0.0)\n",
       "elliptical_comps: (0.0, 5.551115123125783e-17)\n",
       "kappa_s: 0.05650042207275497\n",
       "scale_radius: 6.731793583456645\n",
       "inner_slope: 0.9651267017008066"
      ]
     },
     "execution_count": 206,
     "metadata": {},
     "output_type": "execute_result"
    }
   ],
   "source": [
    "CM.Lens_model.analytic_profile"
   ]
  },
  {
   "cell_type": "code",
   "execution_count": 208,
   "id": "c038410a",
   "metadata": {},
   "outputs": [
    {
     "data": {
      "text/plain": [
       "2.757446941068648"
      ]
     },
     "execution_count": 208,
     "metadata": {},
     "output_type": "execute_result"
    }
   ],
   "source": [
    "CM.Lens_model.ml"
   ]
  },
  {
   "cell_type": "code",
   "execution_count": null,
   "id": "799d1de5",
   "metadata": {},
   "outputs": [],
   "source": []
  }
 ],
 "metadata": {
  "kernelspec": {
   "display_name": "Python 3 (ipykernel)",
   "language": "python",
   "name": "python3"
  },
  "language_info": {
   "codemirror_mode": {
    "name": "ipython",
    "version": 3
   },
   "file_extension": ".py",
   "mimetype": "text/x-python",
   "name": "python",
   "nbconvert_exporter": "python",
   "pygments_lexer": "ipython3",
   "version": "3.10.4"
  }
 },
 "nbformat": 4,
 "nbformat_minor": 5
}
